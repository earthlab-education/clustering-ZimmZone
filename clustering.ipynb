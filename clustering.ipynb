{
  "cells": [
    {
      "cell_type": "markdown",
      "id": "8aede979-068f-489d-a683-139e58cb6013",
      "metadata": {},
      "source": [
        "# Land cover classification at the Mississppi Delta\n",
        "\n",
        "In this notebook, you will use a k-means **unsupervised** clustering\n",
        "algorithm to group pixels by similar spectral signatures. **k-means** is\n",
        "an **exploratory** method for finding patterns in data. Because it is\n",
        "unsupervised, you don’t need any training data for the model. You also\n",
        "can’t measure how well it “performs” because the clusters will not\n",
        "correspond to any particular land cover class. However, we expect at\n",
        "least some of the clusters to be identifiable as different types of land\n",
        "cover.\n",
        "\n",
        "You will use the [harmonized Sentinal/Landsat multispectral\n",
        "dataset](https://lpdaac.usgs.gov/documents/1698/HLS_User_Guide_V2.pdf).\n",
        "You can access the data with an [Earthdata\n",
        "account](https://www.earthdata.nasa.gov/learn/get-started) and the\n",
        "[`earthaccess` library from\n",
        "NSIDC](https://github.com/nsidc/earthaccess):\n",
        "\n",
        "## STEP 1: SET UP\n",
        "\n",
        "<link rel=\"stylesheet\" type=\"text/css\" href=\"./assets/styles.css\"><div class=\"callout callout-style-default callout-titled callout-task\"><div class=\"callout-header\"><div class=\"callout-icon-container\"><i class=\"callout-icon\"></i></div><div class=\"callout-title-container flex-fill\">Try It</div></div><div class=\"callout-body-container callout-body\"><ol type=\"1\">\n",
        "<li>Import all libraries you will need for this analysis</li>\n",
        "<li>Configure GDAL parameters to help avoid connection errors:\n",
        "<code>python      os.environ[\"GDAL_HTTP_MAX_RETRY\"] = \"5\"      os.environ[\"GDAL_HTTP_RETRY_DELAY\"] = \"1\"</code></li>\n",
        "</ol></div></div>"
      ]
    },
    {
      "cell_type": "code",
      "execution_count": 22,
      "id": "e3f0f55c",
      "metadata": {
        "highlight": true
      },
      "outputs": [
        {
          "data": {
            "text/html": [
              "<script type=\"esms-options\">{\"shimMode\": true}</script><style>*[data-root-id],\n",
              "*[data-root-id] > * {\n",
              "  box-sizing: border-box;\n",
              "  font-family: var(--jp-ui-font-family);\n",
              "  font-size: var(--jp-ui-font-size1);\n",
              "  color: var(--vscode-editor-foreground, var(--jp-ui-font-color1));\n",
              "}\n",
              "\n",
              "/* Override VSCode background color */\n",
              ".cell-output-ipywidget-background:has(\n",
              "    > .cell-output-ipywidget-background > .lm-Widget > *[data-root-id]\n",
              "  ),\n",
              ".cell-output-ipywidget-background:has(> .lm-Widget > *[data-root-id]) {\n",
              "  background-color: transparent !important;\n",
              "}\n",
              "</style>"
            ]
          },
          "metadata": {},
          "output_type": "display_data"
        },
        {
          "data": {
            "application/javascript": "(function(root) {\n  function now() {\n    return new Date();\n  }\n\n  const force = true;\n  const py_version = '3.5.2'.replace('rc', '-rc.').replace('.dev', '-dev.');\n  const reloading = false;\n  const Bokeh = root.Bokeh;\n\n  // Set a timeout for this load but only if we are not already initializing\n  if (typeof (root._bokeh_timeout) === \"undefined\" || (force || !root._bokeh_is_initializing)) {\n    root._bokeh_timeout = Date.now() + 5000;\n    root._bokeh_failed_load = false;\n  }\n\n  function run_callbacks() {\n    try {\n      root._bokeh_onload_callbacks.forEach(function(callback) {\n        if (callback != null)\n          callback();\n      });\n    } finally {\n      delete root._bokeh_onload_callbacks;\n    }\n    console.debug(\"Bokeh: all callbacks have finished\");\n  }\n\n  function load_libs(css_urls, js_urls, js_modules, js_exports, callback) {\n    if (css_urls == null) css_urls = [];\n    if (js_urls == null) js_urls = [];\n    if (js_modules == null) js_modules = [];\n    if (js_exports == null) js_exports = {};\n\n    root._bokeh_onload_callbacks.push(callback);\n\n    if (root._bokeh_is_loading > 0) {\n      // Don't load bokeh if it is still initializing\n      console.debug(\"Bokeh: BokehJS is being loaded, scheduling callback at\", now());\n      return null;\n    } else if (js_urls.length === 0 && js_modules.length === 0 && Object.keys(js_exports).length === 0) {\n      // There is nothing to load\n      run_callbacks();\n      return null;\n    }\n\n    function on_load() {\n      root._bokeh_is_loading--;\n      if (root._bokeh_is_loading === 0) {\n        console.debug(\"Bokeh: all BokehJS libraries/stylesheets loaded\");\n        run_callbacks()\n      }\n    }\n    window._bokeh_on_load = on_load\n\n    function on_error(e) {\n      const src_el = e.srcElement\n      console.error(\"failed to load \" + (src_el.href || src_el.src));\n    }\n\n    const skip = [];\n    if (window.requirejs) {\n      window.requirejs.config({'packages': {}, 'paths': {}, 'shim': {}});\n      root._bokeh_is_loading = css_urls.length + 0;\n    } else {\n      root._bokeh_is_loading = css_urls.length + js_urls.length + js_modules.length + Object.keys(js_exports).length;\n    }\n\n    const existing_stylesheets = []\n    const links = document.getElementsByTagName('link')\n    for (let i = 0; i < links.length; i++) {\n      const link = links[i]\n      if (link.href != null) {\n        existing_stylesheets.push(link.href)\n      }\n    }\n    for (let i = 0; i < css_urls.length; i++) {\n      const url = css_urls[i];\n      const escaped = encodeURI(url)\n      if (existing_stylesheets.indexOf(escaped) !== -1) {\n        on_load()\n        continue;\n      }\n      const element = document.createElement(\"link\");\n      element.onload = on_load;\n      element.onerror = on_error;\n      element.rel = \"stylesheet\";\n      element.type = \"text/css\";\n      element.href = url;\n      console.debug(\"Bokeh: injecting link tag for BokehJS stylesheet: \", url);\n      document.body.appendChild(element);\n    }    var existing_scripts = []\n    const scripts = document.getElementsByTagName('script')\n    for (let i = 0; i < scripts.length; i++) {\n      var script = scripts[i]\n      if (script.src != null) {\n        existing_scripts.push(script.src)\n      }\n    }\n    for (let i = 0; i < js_urls.length; i++) {\n      const url = js_urls[i];\n      const escaped = encodeURI(url)\n      if (skip.indexOf(escaped) !== -1 || existing_scripts.indexOf(escaped) !== -1) {\n        if (!window.requirejs) {\n          on_load();\n        }\n        continue;\n      }\n      const element = document.createElement('script');\n      element.onload = on_load;\n      element.onerror = on_error;\n      element.async = false;\n      element.src = url;\n      console.debug(\"Bokeh: injecting script tag for BokehJS library: \", url);\n      document.head.appendChild(element);\n    }\n    for (let i = 0; i < js_modules.length; i++) {\n      const url = js_modules[i];\n      const escaped = encodeURI(url)\n      if (skip.indexOf(escaped) !== -1 || existing_scripts.indexOf(escaped) !== -1) {\n        if (!window.requirejs) {\n          on_load();\n        }\n        continue;\n      }\n      var element = document.createElement('script');\n      element.onload = on_load;\n      element.onerror = on_error;\n      element.async = false;\n      element.src = url;\n      element.type = \"module\";\n      console.debug(\"Bokeh: injecting script tag for BokehJS library: \", url);\n      document.head.appendChild(element);\n    }\n    for (const name in js_exports) {\n      const url = js_exports[name];\n      const escaped = encodeURI(url)\n      if (skip.indexOf(escaped) >= 0 || root[name] != null) {\n        if (!window.requirejs) {\n          on_load();\n        }\n        continue;\n      }\n      var element = document.createElement('script');\n      element.onerror = on_error;\n      element.async = false;\n      element.type = \"module\";\n      console.debug(\"Bokeh: injecting script tag for BokehJS library: \", url);\n      element.textContent = `\n      import ${name} from \"${url}\"\n      window.${name} = ${name}\n      window._bokeh_on_load()\n      `\n      document.head.appendChild(element);\n    }\n    if (!js_urls.length && !js_modules.length) {\n      on_load()\n    }\n  };\n\n  function inject_raw_css(css) {\n    const element = document.createElement(\"style\");\n    element.appendChild(document.createTextNode(css));\n    document.body.appendChild(element);\n  }\n\n  const js_urls = [\"https://cdn.holoviz.org/panel/1.5.3/dist/bundled/reactiveesm/es-module-shims@^1.10.0/dist/es-module-shims.min.js\", \"https://cdn.bokeh.org/bokeh/release/bokeh-3.5.2.min.js\", \"https://cdn.bokeh.org/bokeh/release/bokeh-gl-3.5.2.min.js\", \"https://cdn.bokeh.org/bokeh/release/bokeh-widgets-3.5.2.min.js\", \"https://cdn.bokeh.org/bokeh/release/bokeh-tables-3.5.2.min.js\", \"https://cdn.holoviz.org/panel/1.5.3/dist/panel.min.js\", \"https://cdn.jsdelivr.net/npm/@holoviz/geoviews@1.13.0/dist/geoviews.min.js\"];\n  const js_modules = [];\n  const js_exports = {};\n  const css_urls = [];\n  const inline_js = [    function(Bokeh) {\n      Bokeh.set_log_level(\"info\");\n    },\nfunction(Bokeh) {} // ensure no trailing comma for IE\n  ];\n\n  function run_inline_js() {\n    if ((root.Bokeh !== undefined) || (force === true)) {\n      for (let i = 0; i < inline_js.length; i++) {\n        try {\n          inline_js[i].call(root, root.Bokeh);\n        } catch(e) {\n          if (!reloading) {\n            throw e;\n          }\n        }\n      }\n      // Cache old bokeh versions\n      if (Bokeh != undefined && !reloading) {\n        var NewBokeh = root.Bokeh;\n        if (Bokeh.versions === undefined) {\n          Bokeh.versions = new Map();\n        }\n        if (NewBokeh.version !== Bokeh.version) {\n          Bokeh.versions.set(NewBokeh.version, NewBokeh)\n        }\n        root.Bokeh = Bokeh;\n      }\n    } else if (Date.now() < root._bokeh_timeout) {\n      setTimeout(run_inline_js, 100);\n    } else if (!root._bokeh_failed_load) {\n      console.log(\"Bokeh: BokehJS failed to load within specified timeout.\");\n      root._bokeh_failed_load = true;\n    }\n    root._bokeh_is_initializing = false\n  }\n\n  function load_or_wait() {\n    // Implement a backoff loop that tries to ensure we do not load multiple\n    // versions of Bokeh and its dependencies at the same time.\n    // In recent versions we use the root._bokeh_is_initializing flag\n    // to determine whether there is an ongoing attempt to initialize\n    // bokeh, however for backward compatibility we also try to ensure\n    // that we do not start loading a newer (Panel>=1.0 and Bokeh>3) version\n    // before older versions are fully initialized.\n    if (root._bokeh_is_initializing && Date.now() > root._bokeh_timeout) {\n      // If the timeout and bokeh was not successfully loaded we reset\n      // everything and try loading again\n      root._bokeh_timeout = Date.now() + 5000;\n      root._bokeh_is_initializing = false;\n      root._bokeh_onload_callbacks = undefined;\n      root._bokeh_is_loading = 0\n      console.log(\"Bokeh: BokehJS was loaded multiple times but one version failed to initialize.\");\n      load_or_wait();\n    } else if (root._bokeh_is_initializing || (typeof root._bokeh_is_initializing === \"undefined\" && root._bokeh_onload_callbacks !== undefined)) {\n      setTimeout(load_or_wait, 100);\n    } else {\n      root._bokeh_is_initializing = true\n      root._bokeh_onload_callbacks = []\n      const bokeh_loaded = root.Bokeh != null && (root.Bokeh.version === py_version || (root.Bokeh.versions !== undefined && root.Bokeh.versions.has(py_version)));\n      if (!reloading && !bokeh_loaded) {\n        if (root.Bokeh) {\n          root.Bokeh = undefined;\n        }\n        console.debug(\"Bokeh: BokehJS not loaded, scheduling load and callback at\", now());\n      }\n      load_libs(css_urls, js_urls, js_modules, js_exports, function() {\n        console.debug(\"Bokeh: BokehJS plotting callback run at\", now());\n        run_inline_js();\n      });\n    }\n  }\n  // Give older versions of the autoload script a head-start to ensure\n  // they initialize before we start loading newer version.\n  setTimeout(load_or_wait, 100)\n}(window));",
            "application/vnd.holoviews_load.v0+json": ""
          },
          "metadata": {},
          "output_type": "display_data"
        },
        {
          "data": {
            "application/javascript": "\nif ((window.PyViz === undefined) || (window.PyViz instanceof HTMLElement)) {\n  window.PyViz = {comms: {}, comm_status:{}, kernels:{}, receivers: {}, plot_index: []}\n}\n\n\n    function JupyterCommManager() {\n    }\n\n    JupyterCommManager.prototype.register_target = function(plot_id, comm_id, msg_handler) {\n      if (window.comm_manager || ((window.Jupyter !== undefined) && (Jupyter.notebook.kernel != null))) {\n        var comm_manager = window.comm_manager || Jupyter.notebook.kernel.comm_manager;\n        comm_manager.register_target(comm_id, function(comm) {\n          comm.on_msg(msg_handler);\n        });\n      } else if ((plot_id in window.PyViz.kernels) && (window.PyViz.kernels[plot_id])) {\n        window.PyViz.kernels[plot_id].registerCommTarget(comm_id, function(comm) {\n          comm.onMsg = msg_handler;\n        });\n      } else if (typeof google != 'undefined' && google.colab.kernel != null) {\n        google.colab.kernel.comms.registerTarget(comm_id, (comm) => {\n          var messages = comm.messages[Symbol.asyncIterator]();\n          function processIteratorResult(result) {\n            var message = result.value;\n            console.log(message)\n            var content = {data: message.data, comm_id};\n            var buffers = []\n            for (var buffer of message.buffers || []) {\n              buffers.push(new DataView(buffer))\n            }\n            var metadata = message.metadata || {};\n            var msg = {content, buffers, metadata}\n            msg_handler(msg);\n            return messages.next().then(processIteratorResult);\n          }\n          return messages.next().then(processIteratorResult);\n        })\n      }\n    }\n\n    JupyterCommManager.prototype.get_client_comm = function(plot_id, comm_id, msg_handler) {\n      if (comm_id in window.PyViz.comms) {\n        return window.PyViz.comms[comm_id];\n      } else if (window.comm_manager || ((window.Jupyter !== undefined) && (Jupyter.notebook.kernel != null))) {\n        var comm_manager = window.comm_manager || Jupyter.notebook.kernel.comm_manager;\n        var comm = comm_manager.new_comm(comm_id, {}, {}, {}, comm_id);\n        if (msg_handler) {\n          comm.on_msg(msg_handler);\n        }\n      } else if ((plot_id in window.PyViz.kernels) && (window.PyViz.kernels[plot_id])) {\n        var comm = window.PyViz.kernels[plot_id].connectToComm(comm_id);\n        comm.open();\n        if (msg_handler) {\n          comm.onMsg = msg_handler;\n        }\n      } else if (typeof google != 'undefined' && google.colab.kernel != null) {\n        var comm_promise = google.colab.kernel.comms.open(comm_id)\n        comm_promise.then((comm) => {\n          window.PyViz.comms[comm_id] = comm;\n          if (msg_handler) {\n            var messages = comm.messages[Symbol.asyncIterator]();\n            function processIteratorResult(result) {\n              var message = result.value;\n              var content = {data: message.data};\n              var metadata = message.metadata || {comm_id};\n              var msg = {content, metadata}\n              msg_handler(msg);\n              return messages.next().then(processIteratorResult);\n            }\n            return messages.next().then(processIteratorResult);\n          }\n        }) \n        var sendClosure = (data, metadata, buffers, disposeOnDone) => {\n          return comm_promise.then((comm) => {\n            comm.send(data, metadata, buffers, disposeOnDone);\n          });\n        };\n        var comm = {\n          send: sendClosure\n        };\n      }\n      window.PyViz.comms[comm_id] = comm;\n      return comm;\n    }\n    window.PyViz.comm_manager = new JupyterCommManager();\n    \n\n\nvar JS_MIME_TYPE = 'application/javascript';\nvar HTML_MIME_TYPE = 'text/html';\nvar EXEC_MIME_TYPE = 'application/vnd.holoviews_exec.v0+json';\nvar CLASS_NAME = 'output';\n\n/**\n * Render data to the DOM node\n */\nfunction render(props, node) {\n  var div = document.createElement(\"div\");\n  var script = document.createElement(\"script\");\n  node.appendChild(div);\n  node.appendChild(script);\n}\n\n/**\n * Handle when a new output is added\n */\nfunction handle_add_output(event, handle) {\n  var output_area = handle.output_area;\n  var output = handle.output;\n  if ((output.data == undefined) || (!output.data.hasOwnProperty(EXEC_MIME_TYPE))) {\n    return\n  }\n  var id = output.metadata[EXEC_MIME_TYPE][\"id\"];\n  var toinsert = output_area.element.find(\".\" + CLASS_NAME.split(' ')[0]);\n  if (id !== undefined) {\n    var nchildren = toinsert.length;\n    var html_node = toinsert[nchildren-1].children[0];\n    html_node.innerHTML = output.data[HTML_MIME_TYPE];\n    var scripts = [];\n    var nodelist = html_node.querySelectorAll(\"script\");\n    for (var i in nodelist) {\n      if (nodelist.hasOwnProperty(i)) {\n        scripts.push(nodelist[i])\n      }\n    }\n\n    scripts.forEach( function (oldScript) {\n      var newScript = document.createElement(\"script\");\n      var attrs = [];\n      var nodemap = oldScript.attributes;\n      for (var j in nodemap) {\n        if (nodemap.hasOwnProperty(j)) {\n          attrs.push(nodemap[j])\n        }\n      }\n      attrs.forEach(function(attr) { newScript.setAttribute(attr.name, attr.value) });\n      newScript.appendChild(document.createTextNode(oldScript.innerHTML));\n      oldScript.parentNode.replaceChild(newScript, oldScript);\n    });\n    if (JS_MIME_TYPE in output.data) {\n      toinsert[nchildren-1].children[1].textContent = output.data[JS_MIME_TYPE];\n    }\n    output_area._hv_plot_id = id;\n    if ((window.Bokeh !== undefined) && (id in Bokeh.index)) {\n      window.PyViz.plot_index[id] = Bokeh.index[id];\n    } else {\n      window.PyViz.plot_index[id] = null;\n    }\n  } else if (output.metadata[EXEC_MIME_TYPE][\"server_id\"] !== undefined) {\n    var bk_div = document.createElement(\"div\");\n    bk_div.innerHTML = output.data[HTML_MIME_TYPE];\n    var script_attrs = bk_div.children[0].attributes;\n    for (var i = 0; i < script_attrs.length; i++) {\n      toinsert[toinsert.length - 1].childNodes[1].setAttribute(script_attrs[i].name, script_attrs[i].value);\n    }\n    // store reference to server id on output_area\n    output_area._bokeh_server_id = output.metadata[EXEC_MIME_TYPE][\"server_id\"];\n  }\n}\n\n/**\n * Handle when an output is cleared or removed\n */\nfunction handle_clear_output(event, handle) {\n  var id = handle.cell.output_area._hv_plot_id;\n  var server_id = handle.cell.output_area._bokeh_server_id;\n  if (((id === undefined) || !(id in PyViz.plot_index)) && (server_id !== undefined)) { return; }\n  var comm = window.PyViz.comm_manager.get_client_comm(\"hv-extension-comm\", \"hv-extension-comm\", function () {});\n  if (server_id !== null) {\n    comm.send({event_type: 'server_delete', 'id': server_id});\n    return;\n  } else if (comm !== null) {\n    comm.send({event_type: 'delete', 'id': id});\n  }\n  delete PyViz.plot_index[id];\n  if ((window.Bokeh !== undefined) & (id in window.Bokeh.index)) {\n    var doc = window.Bokeh.index[id].model.document\n    doc.clear();\n    const i = window.Bokeh.documents.indexOf(doc);\n    if (i > -1) {\n      window.Bokeh.documents.splice(i, 1);\n    }\n  }\n}\n\n/**\n * Handle kernel restart event\n */\nfunction handle_kernel_cleanup(event, handle) {\n  delete PyViz.comms[\"hv-extension-comm\"];\n  window.PyViz.plot_index = {}\n}\n\n/**\n * Handle update_display_data messages\n */\nfunction handle_update_output(event, handle) {\n  handle_clear_output(event, {cell: {output_area: handle.output_area}})\n  handle_add_output(event, handle)\n}\n\nfunction register_renderer(events, OutputArea) {\n  function append_mime(data, metadata, element) {\n    // create a DOM node to render to\n    var toinsert = this.create_output_subarea(\n    metadata,\n    CLASS_NAME,\n    EXEC_MIME_TYPE\n    );\n    this.keyboard_manager.register_events(toinsert);\n    // Render to node\n    var props = {data: data, metadata: metadata[EXEC_MIME_TYPE]};\n    render(props, toinsert[0]);\n    element.append(toinsert);\n    return toinsert\n  }\n\n  events.on('output_added.OutputArea', handle_add_output);\n  events.on('output_updated.OutputArea', handle_update_output);\n  events.on('clear_output.CodeCell', handle_clear_output);\n  events.on('delete.Cell', handle_clear_output);\n  events.on('kernel_ready.Kernel', handle_kernel_cleanup);\n\n  OutputArea.prototype.register_mime_type(EXEC_MIME_TYPE, append_mime, {\n    safe: true,\n    index: 0\n  });\n}\n\nif (window.Jupyter !== undefined) {\n  try {\n    var events = require('base/js/events');\n    var OutputArea = require('notebook/js/outputarea').OutputArea;\n    if (OutputArea.prototype.mime_types().indexOf(EXEC_MIME_TYPE) == -1) {\n      register_renderer(events, OutputArea);\n    }\n  } catch(err) {\n  }\n}\n",
            "application/vnd.holoviews_load.v0+json": ""
          },
          "metadata": {},
          "output_type": "display_data"
        },
        {
          "data": {
            "application/vnd.holoviews_exec.v0+json": "",
            "text/html": [
              "<div id='02d08f81-9296-4c77-8ab1-e09dffa42f24'>\n",
              "  <div id=\"d9588732-3e2a-4eef-819b-d0a7107e7f4f\" data-root-id=\"02d08f81-9296-4c77-8ab1-e09dffa42f24\" style=\"display: contents;\"></div>\n",
              "</div>\n",
              "<script type=\"application/javascript\">(function(root) {\n",
              "  var docs_json = {\"29e1189b-630f-4a45-a5b0-5ae200c65eb0\":{\"version\":\"3.5.2\",\"title\":\"Bokeh Application\",\"roots\":[{\"type\":\"object\",\"name\":\"panel.models.browser.BrowserInfo\",\"id\":\"02d08f81-9296-4c77-8ab1-e09dffa42f24\"},{\"type\":\"object\",\"name\":\"panel.models.comm_manager.CommManager\",\"id\":\"426eee94-4cc6-415b-a037-49607053d420\",\"attributes\":{\"plot_id\":\"02d08f81-9296-4c77-8ab1-e09dffa42f24\",\"comm_id\":\"f964b1cd714c4d498d6cfa6b25e668ad\",\"client_comm_id\":\"c96bda0f0c1d4390b3ef881470e38c85\"}}],\"defs\":[{\"type\":\"model\",\"name\":\"ReactiveHTML1\"},{\"type\":\"model\",\"name\":\"FlexBox1\",\"properties\":[{\"name\":\"align_content\",\"kind\":\"Any\",\"default\":\"flex-start\"},{\"name\":\"align_items\",\"kind\":\"Any\",\"default\":\"flex-start\"},{\"name\":\"flex_direction\",\"kind\":\"Any\",\"default\":\"row\"},{\"name\":\"flex_wrap\",\"kind\":\"Any\",\"default\":\"wrap\"},{\"name\":\"gap\",\"kind\":\"Any\",\"default\":\"\"},{\"name\":\"justify_content\",\"kind\":\"Any\",\"default\":\"flex-start\"}]},{\"type\":\"model\",\"name\":\"FloatPanel1\",\"properties\":[{\"name\":\"config\",\"kind\":\"Any\",\"default\":{\"type\":\"map\"}},{\"name\":\"contained\",\"kind\":\"Any\",\"default\":true},{\"name\":\"position\",\"kind\":\"Any\",\"default\":\"right-top\"},{\"name\":\"offsetx\",\"kind\":\"Any\",\"default\":null},{\"name\":\"offsety\",\"kind\":\"Any\",\"default\":null},{\"name\":\"theme\",\"kind\":\"Any\",\"default\":\"primary\"},{\"name\":\"status\",\"kind\":\"Any\",\"default\":\"normalized\"}]},{\"type\":\"model\",\"name\":\"GridStack1\",\"properties\":[{\"name\":\"mode\",\"kind\":\"Any\",\"default\":\"warn\"},{\"name\":\"ncols\",\"kind\":\"Any\",\"default\":null},{\"name\":\"nrows\",\"kind\":\"Any\",\"default\":null},{\"name\":\"allow_resize\",\"kind\":\"Any\",\"default\":true},{\"name\":\"allow_drag\",\"kind\":\"Any\",\"default\":true},{\"name\":\"state\",\"kind\":\"Any\",\"default\":[]}]},{\"type\":\"model\",\"name\":\"drag1\",\"properties\":[{\"name\":\"slider_width\",\"kind\":\"Any\",\"default\":5},{\"name\":\"slider_color\",\"kind\":\"Any\",\"default\":\"black\"},{\"name\":\"value\",\"kind\":\"Any\",\"default\":50}]},{\"type\":\"model\",\"name\":\"click1\",\"properties\":[{\"name\":\"terminal_output\",\"kind\":\"Any\",\"default\":\"\"},{\"name\":\"debug_name\",\"kind\":\"Any\",\"default\":\"\"},{\"name\":\"clears\",\"kind\":\"Any\",\"default\":0}]},{\"type\":\"model\",\"name\":\"FastWrapper1\",\"properties\":[{\"name\":\"object\",\"kind\":\"Any\",\"default\":null},{\"name\":\"style\",\"kind\":\"Any\",\"default\":null}]},{\"type\":\"model\",\"name\":\"NotificationAreaBase1\",\"properties\":[{\"name\":\"js_events\",\"kind\":\"Any\",\"default\":{\"type\":\"map\"}},{\"name\":\"position\",\"kind\":\"Any\",\"default\":\"bottom-right\"},{\"name\":\"_clear\",\"kind\":\"Any\",\"default\":0}]},{\"type\":\"model\",\"name\":\"NotificationArea1\",\"properties\":[{\"name\":\"js_events\",\"kind\":\"Any\",\"default\":{\"type\":\"map\"}},{\"name\":\"notifications\",\"kind\":\"Any\",\"default\":[]},{\"name\":\"position\",\"kind\":\"Any\",\"default\":\"bottom-right\"},{\"name\":\"_clear\",\"kind\":\"Any\",\"default\":0},{\"name\":\"types\",\"kind\":\"Any\",\"default\":[{\"type\":\"map\",\"entries\":[[\"type\",\"warning\"],[\"background\",\"#ffc107\"],[\"icon\",{\"type\":\"map\",\"entries\":[[\"className\",\"fas fa-exclamation-triangle\"],[\"tagName\",\"i\"],[\"color\",\"white\"]]}]]},{\"type\":\"map\",\"entries\":[[\"type\",\"info\"],[\"background\",\"#007bff\"],[\"icon\",{\"type\":\"map\",\"entries\":[[\"className\",\"fas fa-info-circle\"],[\"tagName\",\"i\"],[\"color\",\"white\"]]}]]}]}]},{\"type\":\"model\",\"name\":\"Notification\",\"properties\":[{\"name\":\"background\",\"kind\":\"Any\",\"default\":null},{\"name\":\"duration\",\"kind\":\"Any\",\"default\":3000},{\"name\":\"icon\",\"kind\":\"Any\",\"default\":null},{\"name\":\"message\",\"kind\":\"Any\",\"default\":\"\"},{\"name\":\"notification_type\",\"kind\":\"Any\",\"default\":null},{\"name\":\"_destroyed\",\"kind\":\"Any\",\"default\":false}]},{\"type\":\"model\",\"name\":\"TemplateActions1\",\"properties\":[{\"name\":\"open_modal\",\"kind\":\"Any\",\"default\":0},{\"name\":\"close_modal\",\"kind\":\"Any\",\"default\":0}]},{\"type\":\"model\",\"name\":\"BootstrapTemplateActions1\",\"properties\":[{\"name\":\"open_modal\",\"kind\":\"Any\",\"default\":0},{\"name\":\"close_modal\",\"kind\":\"Any\",\"default\":0}]},{\"type\":\"model\",\"name\":\"TemplateEditor1\",\"properties\":[{\"name\":\"layout\",\"kind\":\"Any\",\"default\":[]}]},{\"type\":\"model\",\"name\":\"MaterialTemplateActions1\",\"properties\":[{\"name\":\"open_modal\",\"kind\":\"Any\",\"default\":0},{\"name\":\"close_modal\",\"kind\":\"Any\",\"default\":0}]},{\"type\":\"model\",\"name\":\"ReactiveESM1\"},{\"type\":\"model\",\"name\":\"JSComponent1\"},{\"type\":\"model\",\"name\":\"ReactComponent1\"},{\"type\":\"model\",\"name\":\"AnyWidgetComponent1\"},{\"type\":\"model\",\"name\":\"request_value1\",\"properties\":[{\"name\":\"fill\",\"kind\":\"Any\",\"default\":\"none\"},{\"name\":\"_synced\",\"kind\":\"Any\",\"default\":null},{\"name\":\"_request_sync\",\"kind\":\"Any\",\"default\":0}]}]}};\n",
              "  var render_items = [{\"docid\":\"29e1189b-630f-4a45-a5b0-5ae200c65eb0\",\"roots\":{\"02d08f81-9296-4c77-8ab1-e09dffa42f24\":\"d9588732-3e2a-4eef-819b-d0a7107e7f4f\"},\"root_ids\":[\"02d08f81-9296-4c77-8ab1-e09dffa42f24\"]}];\n",
              "  var docs = Object.values(docs_json)\n",
              "  if (!docs) {\n",
              "    return\n",
              "  }\n",
              "  const py_version = docs[0].version.replace('rc', '-rc.').replace('.dev', '-dev.')\n",
              "  async function embed_document(root) {\n",
              "    var Bokeh = get_bokeh(root)\n",
              "    await Bokeh.embed.embed_items_notebook(docs_json, render_items);\n",
              "    for (const render_item of render_items) {\n",
              "      for (const root_id of render_item.root_ids) {\n",
              "\tconst id_el = document.getElementById(root_id)\n",
              "\tif (id_el.children.length && id_el.children[0].hasAttribute('data-root-id')) {\n",
              "\t  const root_el = id_el.children[0]\n",
              "\t  root_el.id = root_el.id + '-rendered'\n",
              "\t  for (const child of root_el.children) {\n",
              "            // Ensure JupyterLab does not capture keyboard shortcuts\n",
              "            // see: https://jupyterlab.readthedocs.io/en/4.1.x/extension/notebook.html#keyboard-interaction-model\n",
              "\t    child.setAttribute('data-lm-suppress-shortcuts', 'true')\n",
              "\t  }\n",
              "\t}\n",
              "      }\n",
              "    }\n",
              "  }\n",
              "  function get_bokeh(root) {\n",
              "    if (root.Bokeh === undefined) {\n",
              "      return null\n",
              "    } else if (root.Bokeh.version !== py_version) {\n",
              "      if (root.Bokeh.versions === undefined || !root.Bokeh.versions.has(py_version)) {\n",
              "\treturn null\n",
              "      }\n",
              "      return root.Bokeh.versions.get(py_version);\n",
              "    } else if (root.Bokeh.version === py_version) {\n",
              "      return root.Bokeh\n",
              "    }\n",
              "    return null\n",
              "  }\n",
              "  function is_loaded(root) {\n",
              "    var Bokeh = get_bokeh(root)\n",
              "    return (Bokeh != null && Bokeh.Panel !== undefined)\n",
              "  }\n",
              "  if (is_loaded(root)) {\n",
              "    embed_document(root);\n",
              "  } else {\n",
              "    var attempts = 0;\n",
              "    var timer = setInterval(function(root) {\n",
              "      if (is_loaded(root)) {\n",
              "        clearInterval(timer);\n",
              "        embed_document(root);\n",
              "      } else if (document.readyState == \"complete\") {\n",
              "        attempts++;\n",
              "        if (attempts > 200) {\n",
              "          clearInterval(timer);\n",
              "\t  var Bokeh = get_bokeh(root)\n",
              "\t  if (Bokeh == null || Bokeh.Panel == null) {\n",
              "            console.warn(\"Panel: ERROR: Unable to run Panel code because Bokeh or Panel library is missing\");\n",
              "\t  } else {\n",
              "\t    console.warn(\"Panel: WARNING: Attempting to render but not all required libraries could be resolved.\")\n",
              "\t    embed_document(root)\n",
              "\t  }\n",
              "        }\n",
              "      }\n",
              "    }, 25, root)\n",
              "  }\n",
              "})(window);</script>"
            ]
          },
          "metadata": {
            "application/vnd.holoviews_exec.v0+json": {
              "id": "02d08f81-9296-4c77-8ab1-e09dffa42f24"
            }
          },
          "output_type": "display_data"
        },
        {
          "data": {
            "text/html": [
              "<script type=\"esms-options\">{\"shimMode\": true}</script><style>*[data-root-id],\n",
              "*[data-root-id] > * {\n",
              "  box-sizing: border-box;\n",
              "  font-family: var(--jp-ui-font-family);\n",
              "  font-size: var(--jp-ui-font-size1);\n",
              "  color: var(--vscode-editor-foreground, var(--jp-ui-font-color1));\n",
              "}\n",
              "\n",
              "/* Override VSCode background color */\n",
              ".cell-output-ipywidget-background:has(\n",
              "    > .cell-output-ipywidget-background > .lm-Widget > *[data-root-id]\n",
              "  ),\n",
              ".cell-output-ipywidget-background:has(> .lm-Widget > *[data-root-id]) {\n",
              "  background-color: transparent !important;\n",
              "}\n",
              "</style>"
            ]
          },
          "metadata": {},
          "output_type": "display_data"
        },
        {
          "data": {
            "application/javascript": "(function(root) {\n  function now() {\n    return new Date();\n  }\n\n  const force = false;\n  const py_version = '3.5.2'.replace('rc', '-rc.').replace('.dev', '-dev.');\n  const reloading = true;\n  const Bokeh = root.Bokeh;\n\n  // Set a timeout for this load but only if we are not already initializing\n  if (typeof (root._bokeh_timeout) === \"undefined\" || (force || !root._bokeh_is_initializing)) {\n    root._bokeh_timeout = Date.now() + 5000;\n    root._bokeh_failed_load = false;\n  }\n\n  function run_callbacks() {\n    try {\n      root._bokeh_onload_callbacks.forEach(function(callback) {\n        if (callback != null)\n          callback();\n      });\n    } finally {\n      delete root._bokeh_onload_callbacks;\n    }\n    console.debug(\"Bokeh: all callbacks have finished\");\n  }\n\n  function load_libs(css_urls, js_urls, js_modules, js_exports, callback) {\n    if (css_urls == null) css_urls = [];\n    if (js_urls == null) js_urls = [];\n    if (js_modules == null) js_modules = [];\n    if (js_exports == null) js_exports = {};\n\n    root._bokeh_onload_callbacks.push(callback);\n\n    if (root._bokeh_is_loading > 0) {\n      // Don't load bokeh if it is still initializing\n      console.debug(\"Bokeh: BokehJS is being loaded, scheduling callback at\", now());\n      return null;\n    } else if (js_urls.length === 0 && js_modules.length === 0 && Object.keys(js_exports).length === 0) {\n      // There is nothing to load\n      run_callbacks();\n      return null;\n    }\n\n    function on_load() {\n      root._bokeh_is_loading--;\n      if (root._bokeh_is_loading === 0) {\n        console.debug(\"Bokeh: all BokehJS libraries/stylesheets loaded\");\n        run_callbacks()\n      }\n    }\n    window._bokeh_on_load = on_load\n\n    function on_error(e) {\n      const src_el = e.srcElement\n      console.error(\"failed to load \" + (src_el.href || src_el.src));\n    }\n\n    const skip = [];\n    if (window.requirejs) {\n      window.requirejs.config({'packages': {}, 'paths': {}, 'shim': {}});\n      root._bokeh_is_loading = css_urls.length + 0;\n    } else {\n      root._bokeh_is_loading = css_urls.length + js_urls.length + js_modules.length + Object.keys(js_exports).length;\n    }\n\n    const existing_stylesheets = []\n    const links = document.getElementsByTagName('link')\n    for (let i = 0; i < links.length; i++) {\n      const link = links[i]\n      if (link.href != null) {\n        existing_stylesheets.push(link.href)\n      }\n    }\n    for (let i = 0; i < css_urls.length; i++) {\n      const url = css_urls[i];\n      const escaped = encodeURI(url)\n      if (existing_stylesheets.indexOf(escaped) !== -1) {\n        on_load()\n        continue;\n      }\n      const element = document.createElement(\"link\");\n      element.onload = on_load;\n      element.onerror = on_error;\n      element.rel = \"stylesheet\";\n      element.type = \"text/css\";\n      element.href = url;\n      console.debug(\"Bokeh: injecting link tag for BokehJS stylesheet: \", url);\n      document.body.appendChild(element);\n    }    var existing_scripts = []\n    const scripts = document.getElementsByTagName('script')\n    for (let i = 0; i < scripts.length; i++) {\n      var script = scripts[i]\n      if (script.src != null) {\n        existing_scripts.push(script.src)\n      }\n    }\n    for (let i = 0; i < js_urls.length; i++) {\n      const url = js_urls[i];\n      const escaped = encodeURI(url)\n      if (skip.indexOf(escaped) !== -1 || existing_scripts.indexOf(escaped) !== -1) {\n        if (!window.requirejs) {\n          on_load();\n        }\n        continue;\n      }\n      const element = document.createElement('script');\n      element.onload = on_load;\n      element.onerror = on_error;\n      element.async = false;\n      element.src = url;\n      console.debug(\"Bokeh: injecting script tag for BokehJS library: \", url);\n      document.head.appendChild(element);\n    }\n    for (let i = 0; i < js_modules.length; i++) {\n      const url = js_modules[i];\n      const escaped = encodeURI(url)\n      if (skip.indexOf(escaped) !== -1 || existing_scripts.indexOf(escaped) !== -1) {\n        if (!window.requirejs) {\n          on_load();\n        }\n        continue;\n      }\n      var element = document.createElement('script');\n      element.onload = on_load;\n      element.onerror = on_error;\n      element.async = false;\n      element.src = url;\n      element.type = \"module\";\n      console.debug(\"Bokeh: injecting script tag for BokehJS library: \", url);\n      document.head.appendChild(element);\n    }\n    for (const name in js_exports) {\n      const url = js_exports[name];\n      const escaped = encodeURI(url)\n      if (skip.indexOf(escaped) >= 0 || root[name] != null) {\n        if (!window.requirejs) {\n          on_load();\n        }\n        continue;\n      }\n      var element = document.createElement('script');\n      element.onerror = on_error;\n      element.async = false;\n      element.type = \"module\";\n      console.debug(\"Bokeh: injecting script tag for BokehJS library: \", url);\n      element.textContent = `\n      import ${name} from \"${url}\"\n      window.${name} = ${name}\n      window._bokeh_on_load()\n      `\n      document.head.appendChild(element);\n    }\n    if (!js_urls.length && !js_modules.length) {\n      on_load()\n    }\n  };\n\n  function inject_raw_css(css) {\n    const element = document.createElement(\"style\");\n    element.appendChild(document.createTextNode(css));\n    document.body.appendChild(element);\n  }\n\n  const js_urls = [\"https://cdn.holoviz.org/panel/1.5.3/dist/bundled/reactiveesm/es-module-shims@^1.10.0/dist/es-module-shims.min.js\", \"https://cdn.jsdelivr.net/npm/@holoviz/geoviews@1.13.0/dist/geoviews.min.js\"];\n  const js_modules = [];\n  const js_exports = {};\n  const css_urls = [];\n  const inline_js = [    function(Bokeh) {\n      Bokeh.set_log_level(\"info\");\n    },\nfunction(Bokeh) {} // ensure no trailing comma for IE\n  ];\n\n  function run_inline_js() {\n    if ((root.Bokeh !== undefined) || (force === true)) {\n      for (let i = 0; i < inline_js.length; i++) {\n        try {\n          inline_js[i].call(root, root.Bokeh);\n        } catch(e) {\n          if (!reloading) {\n            throw e;\n          }\n        }\n      }\n      // Cache old bokeh versions\n      if (Bokeh != undefined && !reloading) {\n        var NewBokeh = root.Bokeh;\n        if (Bokeh.versions === undefined) {\n          Bokeh.versions = new Map();\n        }\n        if (NewBokeh.version !== Bokeh.version) {\n          Bokeh.versions.set(NewBokeh.version, NewBokeh)\n        }\n        root.Bokeh = Bokeh;\n      }\n    } else if (Date.now() < root._bokeh_timeout) {\n      setTimeout(run_inline_js, 100);\n    } else if (!root._bokeh_failed_load) {\n      console.log(\"Bokeh: BokehJS failed to load within specified timeout.\");\n      root._bokeh_failed_load = true;\n    }\n    root._bokeh_is_initializing = false\n  }\n\n  function load_or_wait() {\n    // Implement a backoff loop that tries to ensure we do not load multiple\n    // versions of Bokeh and its dependencies at the same time.\n    // In recent versions we use the root._bokeh_is_initializing flag\n    // to determine whether there is an ongoing attempt to initialize\n    // bokeh, however for backward compatibility we also try to ensure\n    // that we do not start loading a newer (Panel>=1.0 and Bokeh>3) version\n    // before older versions are fully initialized.\n    if (root._bokeh_is_initializing && Date.now() > root._bokeh_timeout) {\n      // If the timeout and bokeh was not successfully loaded we reset\n      // everything and try loading again\n      root._bokeh_timeout = Date.now() + 5000;\n      root._bokeh_is_initializing = false;\n      root._bokeh_onload_callbacks = undefined;\n      root._bokeh_is_loading = 0\n      console.log(\"Bokeh: BokehJS was loaded multiple times but one version failed to initialize.\");\n      load_or_wait();\n    } else if (root._bokeh_is_initializing || (typeof root._bokeh_is_initializing === \"undefined\" && root._bokeh_onload_callbacks !== undefined)) {\n      setTimeout(load_or_wait, 100);\n    } else {\n      root._bokeh_is_initializing = true\n      root._bokeh_onload_callbacks = []\n      const bokeh_loaded = root.Bokeh != null && (root.Bokeh.version === py_version || (root.Bokeh.versions !== undefined && root.Bokeh.versions.has(py_version)));\n      if (!reloading && !bokeh_loaded) {\n        if (root.Bokeh) {\n          root.Bokeh = undefined;\n        }\n        console.debug(\"Bokeh: BokehJS not loaded, scheduling load and callback at\", now());\n      }\n      load_libs(css_urls, js_urls, js_modules, js_exports, function() {\n        console.debug(\"Bokeh: BokehJS plotting callback run at\", now());\n        run_inline_js();\n      });\n    }\n  }\n  // Give older versions of the autoload script a head-start to ensure\n  // they initialize before we start loading newer version.\n  setTimeout(load_or_wait, 100)\n}(window));",
            "application/vnd.holoviews_load.v0+json": ""
          },
          "metadata": {},
          "output_type": "display_data"
        },
        {
          "data": {
            "application/javascript": "\nif ((window.PyViz === undefined) || (window.PyViz instanceof HTMLElement)) {\n  window.PyViz = {comms: {}, comm_status:{}, kernels:{}, receivers: {}, plot_index: []}\n}\n\n\n    function JupyterCommManager() {\n    }\n\n    JupyterCommManager.prototype.register_target = function(plot_id, comm_id, msg_handler) {\n      if (window.comm_manager || ((window.Jupyter !== undefined) && (Jupyter.notebook.kernel != null))) {\n        var comm_manager = window.comm_manager || Jupyter.notebook.kernel.comm_manager;\n        comm_manager.register_target(comm_id, function(comm) {\n          comm.on_msg(msg_handler);\n        });\n      } else if ((plot_id in window.PyViz.kernels) && (window.PyViz.kernels[plot_id])) {\n        window.PyViz.kernels[plot_id].registerCommTarget(comm_id, function(comm) {\n          comm.onMsg = msg_handler;\n        });\n      } else if (typeof google != 'undefined' && google.colab.kernel != null) {\n        google.colab.kernel.comms.registerTarget(comm_id, (comm) => {\n          var messages = comm.messages[Symbol.asyncIterator]();\n          function processIteratorResult(result) {\n            var message = result.value;\n            console.log(message)\n            var content = {data: message.data, comm_id};\n            var buffers = []\n            for (var buffer of message.buffers || []) {\n              buffers.push(new DataView(buffer))\n            }\n            var metadata = message.metadata || {};\n            var msg = {content, buffers, metadata}\n            msg_handler(msg);\n            return messages.next().then(processIteratorResult);\n          }\n          return messages.next().then(processIteratorResult);\n        })\n      }\n    }\n\n    JupyterCommManager.prototype.get_client_comm = function(plot_id, comm_id, msg_handler) {\n      if (comm_id in window.PyViz.comms) {\n        return window.PyViz.comms[comm_id];\n      } else if (window.comm_manager || ((window.Jupyter !== undefined) && (Jupyter.notebook.kernel != null))) {\n        var comm_manager = window.comm_manager || Jupyter.notebook.kernel.comm_manager;\n        var comm = comm_manager.new_comm(comm_id, {}, {}, {}, comm_id);\n        if (msg_handler) {\n          comm.on_msg(msg_handler);\n        }\n      } else if ((plot_id in window.PyViz.kernels) && (window.PyViz.kernels[plot_id])) {\n        var comm = window.PyViz.kernels[plot_id].connectToComm(comm_id);\n        comm.open();\n        if (msg_handler) {\n          comm.onMsg = msg_handler;\n        }\n      } else if (typeof google != 'undefined' && google.colab.kernel != null) {\n        var comm_promise = google.colab.kernel.comms.open(comm_id)\n        comm_promise.then((comm) => {\n          window.PyViz.comms[comm_id] = comm;\n          if (msg_handler) {\n            var messages = comm.messages[Symbol.asyncIterator]();\n            function processIteratorResult(result) {\n              var message = result.value;\n              var content = {data: message.data};\n              var metadata = message.metadata || {comm_id};\n              var msg = {content, metadata}\n              msg_handler(msg);\n              return messages.next().then(processIteratorResult);\n            }\n            return messages.next().then(processIteratorResult);\n          }\n        }) \n        var sendClosure = (data, metadata, buffers, disposeOnDone) => {\n          return comm_promise.then((comm) => {\n            comm.send(data, metadata, buffers, disposeOnDone);\n          });\n        };\n        var comm = {\n          send: sendClosure\n        };\n      }\n      window.PyViz.comms[comm_id] = comm;\n      return comm;\n    }\n    window.PyViz.comm_manager = new JupyterCommManager();\n    \n\n\nvar JS_MIME_TYPE = 'application/javascript';\nvar HTML_MIME_TYPE = 'text/html';\nvar EXEC_MIME_TYPE = 'application/vnd.holoviews_exec.v0+json';\nvar CLASS_NAME = 'output';\n\n/**\n * Render data to the DOM node\n */\nfunction render(props, node) {\n  var div = document.createElement(\"div\");\n  var script = document.createElement(\"script\");\n  node.appendChild(div);\n  node.appendChild(script);\n}\n\n/**\n * Handle when a new output is added\n */\nfunction handle_add_output(event, handle) {\n  var output_area = handle.output_area;\n  var output = handle.output;\n  if ((output.data == undefined) || (!output.data.hasOwnProperty(EXEC_MIME_TYPE))) {\n    return\n  }\n  var id = output.metadata[EXEC_MIME_TYPE][\"id\"];\n  var toinsert = output_area.element.find(\".\" + CLASS_NAME.split(' ')[0]);\n  if (id !== undefined) {\n    var nchildren = toinsert.length;\n    var html_node = toinsert[nchildren-1].children[0];\n    html_node.innerHTML = output.data[HTML_MIME_TYPE];\n    var scripts = [];\n    var nodelist = html_node.querySelectorAll(\"script\");\n    for (var i in nodelist) {\n      if (nodelist.hasOwnProperty(i)) {\n        scripts.push(nodelist[i])\n      }\n    }\n\n    scripts.forEach( function (oldScript) {\n      var newScript = document.createElement(\"script\");\n      var attrs = [];\n      var nodemap = oldScript.attributes;\n      for (var j in nodemap) {\n        if (nodemap.hasOwnProperty(j)) {\n          attrs.push(nodemap[j])\n        }\n      }\n      attrs.forEach(function(attr) { newScript.setAttribute(attr.name, attr.value) });\n      newScript.appendChild(document.createTextNode(oldScript.innerHTML));\n      oldScript.parentNode.replaceChild(newScript, oldScript);\n    });\n    if (JS_MIME_TYPE in output.data) {\n      toinsert[nchildren-1].children[1].textContent = output.data[JS_MIME_TYPE];\n    }\n    output_area._hv_plot_id = id;\n    if ((window.Bokeh !== undefined) && (id in Bokeh.index)) {\n      window.PyViz.plot_index[id] = Bokeh.index[id];\n    } else {\n      window.PyViz.plot_index[id] = null;\n    }\n  } else if (output.metadata[EXEC_MIME_TYPE][\"server_id\"] !== undefined) {\n    var bk_div = document.createElement(\"div\");\n    bk_div.innerHTML = output.data[HTML_MIME_TYPE];\n    var script_attrs = bk_div.children[0].attributes;\n    for (var i = 0; i < script_attrs.length; i++) {\n      toinsert[toinsert.length - 1].childNodes[1].setAttribute(script_attrs[i].name, script_attrs[i].value);\n    }\n    // store reference to server id on output_area\n    output_area._bokeh_server_id = output.metadata[EXEC_MIME_TYPE][\"server_id\"];\n  }\n}\n\n/**\n * Handle when an output is cleared or removed\n */\nfunction handle_clear_output(event, handle) {\n  var id = handle.cell.output_area._hv_plot_id;\n  var server_id = handle.cell.output_area._bokeh_server_id;\n  if (((id === undefined) || !(id in PyViz.plot_index)) && (server_id !== undefined)) { return; }\n  var comm = window.PyViz.comm_manager.get_client_comm(\"hv-extension-comm\", \"hv-extension-comm\", function () {});\n  if (server_id !== null) {\n    comm.send({event_type: 'server_delete', 'id': server_id});\n    return;\n  } else if (comm !== null) {\n    comm.send({event_type: 'delete', 'id': id});\n  }\n  delete PyViz.plot_index[id];\n  if ((window.Bokeh !== undefined) & (id in window.Bokeh.index)) {\n    var doc = window.Bokeh.index[id].model.document\n    doc.clear();\n    const i = window.Bokeh.documents.indexOf(doc);\n    if (i > -1) {\n      window.Bokeh.documents.splice(i, 1);\n    }\n  }\n}\n\n/**\n * Handle kernel restart event\n */\nfunction handle_kernel_cleanup(event, handle) {\n  delete PyViz.comms[\"hv-extension-comm\"];\n  window.PyViz.plot_index = {}\n}\n\n/**\n * Handle update_display_data messages\n */\nfunction handle_update_output(event, handle) {\n  handle_clear_output(event, {cell: {output_area: handle.output_area}})\n  handle_add_output(event, handle)\n}\n\nfunction register_renderer(events, OutputArea) {\n  function append_mime(data, metadata, element) {\n    // create a DOM node to render to\n    var toinsert = this.create_output_subarea(\n    metadata,\n    CLASS_NAME,\n    EXEC_MIME_TYPE\n    );\n    this.keyboard_manager.register_events(toinsert);\n    // Render to node\n    var props = {data: data, metadata: metadata[EXEC_MIME_TYPE]};\n    render(props, toinsert[0]);\n    element.append(toinsert);\n    return toinsert\n  }\n\n  events.on('output_added.OutputArea', handle_add_output);\n  events.on('output_updated.OutputArea', handle_update_output);\n  events.on('clear_output.CodeCell', handle_clear_output);\n  events.on('delete.Cell', handle_clear_output);\n  events.on('kernel_ready.Kernel', handle_kernel_cleanup);\n\n  OutputArea.prototype.register_mime_type(EXEC_MIME_TYPE, append_mime, {\n    safe: true,\n    index: 0\n  });\n}\n\nif (window.Jupyter !== undefined) {\n  try {\n    var events = require('base/js/events');\n    var OutputArea = require('notebook/js/outputarea').OutputArea;\n    if (OutputArea.prototype.mime_types().indexOf(EXEC_MIME_TYPE) == -1) {\n      register_renderer(events, OutputArea);\n    }\n  } catch(err) {\n  }\n}\n",
            "application/vnd.holoviews_load.v0+json": ""
          },
          "metadata": {},
          "output_type": "display_data"
        }
      ],
      "source": [
        "import os\n",
        "import pickle\n",
        "import re\n",
        "import warnings\n",
        "\n",
        "import cartopy.crs as ccrs\n",
        "import earthaccess\n",
        "import earthpy as et\n",
        "import geopandas as gpd\n",
        "import geoviews as gv\n",
        "import hvplot.pandas\n",
        "import hvplot.xarray\n",
        "import numpy as np\n",
        "import pandas as pd\n",
        "import rioxarray as rxr\n",
        "import rioxarray.merge as rxrmerge\n",
        "from tqdm.notebook import tqdm\n",
        "import xarray as xr\n",
        "from shapely.geometry import Polygon\n",
        "from sklearn.cluster import KMeans\n",
        "import pathlib \n",
        "\n",
        "os.environ[\"GDAL_HTTP_MAX_RETRY\"] = \"5\"\n",
        "os.environ[\"GDAL_HTTP_RETRY_DELAY\"] = \"1\"\n",
        "\n",
        "warnings.simplefilter('ignore')"
      ]
    },
    {
      "cell_type": "markdown",
      "id": "00d1daa3-a10e-472b-94ff-4ff2db336bf5",
      "metadata": {},
      "source": [
        "Below you can find code for a caching **decorator** which you can use in\n",
        "your code. To use the decorator:\n",
        "\n",
        "``` python\n",
        "@cached(key, override)\n",
        "def do_something(*args, **kwargs):\n",
        "    ...\n",
        "    return item_to_cache\n",
        "```\n",
        "\n",
        "This decorator will **pickle** the results of running the\n",
        "`do_something()` function, and only run the code if the results don’t\n",
        "already exist. To override the caching, for example temporarily after\n",
        "making changes to your code, set `override=True`. Note that to use the\n",
        "caching decorator, you must write your own function to perform each\n",
        "task!"
      ]
    },
    {
      "cell_type": "code",
      "execution_count": 23,
      "id": "ad0a9842",
      "metadata": {},
      "outputs": [],
      "source": [
        "def cached(func_key, override=True):\n",
        "    \"\"\"\n",
        "    A decorator to cache function results\n",
        "    \n",
        "    Parameters\n",
        "    ==========\n",
        "    key: str\n",
        "      File basename used to save pickled results\n",
        "    override: bool\n",
        "      When True, re-compute even if the results are already stored\n",
        "    \"\"\"\n",
        "    def compute_and_cache_decorator(compute_function):\n",
        "        \"\"\"\n",
        "        Wrap the caching function\n",
        "        \n",
        "        Parameters\n",
        "        ==========\n",
        "        compute_function: function\n",
        "          The function to run and cache results\n",
        "        \"\"\"\n",
        "        def compute_and_cache(*args, **kwargs):\n",
        "            \"\"\"\n",
        "            Perform a computation and cache, or load cached result.\n",
        "            \n",
        "            Parameters\n",
        "            ==========\n",
        "            args\n",
        "              Positional arguments for the compute function\n",
        "            kwargs\n",
        "              Keyword arguments for the compute function\n",
        "            \"\"\"\n",
        "            # Add an identifier from the particular function call\n",
        "            if 'cache_key' in kwargs:\n",
        "                key = '_'.join((func_key, kwargs['cache_key']))\n",
        "            else:\n",
        "                key = func_key\n",
        "\n",
        "            path = os.path.join(\n",
        "                et.io.HOME, et.io.DATA_NAME, 'jars', f'{key}.pickle')\n",
        "            \n",
        "            # Check if the cache exists already or override caching\n",
        "            if not os.path.exists(path) or override:\n",
        "                # Make jars directory if needed\n",
        "                os.makedirs(os.path.dirname(path), exist_ok=True)\n",
        "                \n",
        "                # Run the compute function as the user did\n",
        "                result = compute_function(*args, **kwargs)\n",
        "                \n",
        "                # Pickle the object\n",
        "                with open(path, 'wb') as file:\n",
        "                    pickle.dump(result, file)\n",
        "            else:\n",
        "                # Unpickle the object\n",
        "                with open(path, 'rb') as file:\n",
        "                    result = pickle.load(file)\n",
        "                    \n",
        "            return result\n",
        "        \n",
        "        return compute_and_cache\n",
        "    \n",
        "    return compute_and_cache_decorator"
      ]
    },
    {
      "cell_type": "code",
      "execution_count": 24,
      "id": "b13cae7a",
      "metadata": {},
      "outputs": [],
      "source": [
        "# Create Reproducible File Paths\n",
        "data_dir = os.path.join(\n",
        "    pathlib.Path.home(),\n",
        "    'earth-analytics',\n",
        "    'data',\n",
        "    'clustering')\n",
        "os.makedirs(data_dir, exist_ok=True)"
      ]
    },
    {
      "cell_type": "markdown",
      "id": "2f8cf346-8ef9-4c74-8835-411b1815aac2",
      "metadata": {},
      "source": [
        "## STEP 2: STUDY SITE\n",
        "\n",
        "For this analysis, you will use a watershed from the [Water Boundary\n",
        "Dataset](https://www.usgs.gov/national-hydrography/access-national-hydrography-products),\n",
        "HU12 watersheds (WBDHU12.shp).\n",
        "\n",
        "<link rel=\"stylesheet\" type=\"text/css\" href=\"./assets/styles.css\"><div class=\"callout callout-style-default callout-titled callout-task\"><div class=\"callout-header\"><div class=\"callout-icon-container\"><i class=\"callout-icon\"></i></div><div class=\"callout-title-container flex-fill\">Try It</div></div><div class=\"callout-body-container callout-body\"><ol type=\"1\">\n",
        "<li>Download the Water Boundary Dataset for region 8 (Mississippi)</li>\n",
        "<li>Select watershed 080902030506</li>\n",
        "<li>Generate a site map of the watershed</li>\n",
        "</ol>\n",
        "<p>Try to use the <strong>caching decorator</strong></p></div></div>\n",
        "\n",
        "We chose this watershed because it covers parts of New Orleans an is\n",
        "near the Mississippi Delta. Deltas are boundary areas between the land\n",
        "and the ocean, and as a result tend to contain a rich variety of\n",
        "different land cover and land use types.\n",
        "\n",
        "<link rel=\"stylesheet\" type=\"text/css\" href=\"./assets/styles.css\"><div class=\"callout callout-style-default callout-response\"><div class=\"callout-header\"><div class=\"callout-icon-container\"><i class=\"callout-icon\"></i></div></div><div class=\"callout-body-container callout-body\"><p>Write a 2-3 sentence <strong>site description</strong> (with\n",
        "citations) of this area that helps to put your analysis in context.</p></div></div>"
      ]
    },
    {
      "cell_type": "markdown",
      "id": "e779d07a-9ebd-4d84-af53-3fd1c211606c",
      "metadata": {},
      "source": [
        "**SITE DESCRIPTION**\n",
        "\n",
        "Water Boundary Dataset Region 8 covers the Mississippi, and our watershed (080902030506) is part of the Mississippi Delat\n",
        "\n",
        "**DATA DESCRIPTION**\n",
        "The Watershed Boundary Dataset (WBD) is available in shapefile and file geodatabase formats.\n",
        "\n",
        "Watershed Boundary Dataset (WBD) \n",
        "https://prd-tnm.s3.amazonaws.com/index.html?prefix=StagedProducts/Hydrography/WBD/HU2/Shape/\n",
        "U.S. Department of the Interior | U.S. Geological Survey\n",
        "\n",
        "\n",
        "This nationwide dynamic service displays the WBD at scales from 1:18M and below. It provides ability to either show all WBD levels at all scale ranges or the most appropriate HUC level at a given scale (default setting). The data is updated quarterly and it supports access to attributes and dynamic styling (the ability to change the style representation in ESRI clients). This map service is also available as a OGC Web Map Service (WMS) and a Web Feature Service (WFS).\n",
        "Reference: https://www.usgs.gov/national-hydrography/access-national-hydrography-products"
      ]
    },
    {
      "cell_type": "code",
      "execution_count": null,
      "id": "c6114715",
      "metadata": {},
      "outputs": [],
      "source": [
        "# # Download the Water Boundary Dataset for region 8 (Mississippi)\n",
        "\n",
        "# #wbd_url = https://www.usgs.gov/national-hydrography/access-national-hydrography-products\n",
        "\n",
        "# # Generate a site map of the watershed\n",
        "# wbd_dir = os.path.join(data_dir, 'hu12')\n",
        "# os.makedirs(wbd_dir, exist_ok=True)\n",
        "# wbd_path = os.path.join(wbd_dir, 'WBDHU12.shp')\n",
        "\n",
        "# # Download the census tracts (only once) and select watershed 080902030506\n",
        "# if not os.path.exists(wbd_path):\n",
        "#     wbd_url = ('https://prd-tnm.s3.amazonaws.com/StagedProducts/Hydrography/WBD/HU2/Shape/WBD_08_HU2_Shape.zip')\n",
        "#     wbd_gdf = gpd.read_file(wbd_url)\n",
        "#     hu12_gdf = wbd_gdf[wbd_gdf.PlaceName=='080902030506']\n",
        "#     hu12_gdf.to_file(wbd_path, index=False)\n",
        "\n",
        "# # Load in the census tract data\n",
        "# hu12_gdf = gpd.read_file(wbd_path)\n",
        "\n",
        "# # Site plot -- Census tracts with satellite imagery in the background\n",
        "# (\n",
        "#     hu12_gdf\n",
        "#     .to_crs(ccrs.Mercator())\n",
        "#     .hvplot(\n",
        "#         line_color='orange', fill_color=None, \n",
        "#         crs=ccrs.Mercator(), tiles='EsriImagery',\n",
        "#         frame_width=600)\n",
        "# )"
      ]
    },
    {
      "cell_type": "code",
      "execution_count": 35,
      "id": "7a4b869e",
      "metadata": {},
      "outputs": [
        {
          "name": "stdout",
          "output_type": "stream",
          "text": [
            "Available Datasets: ['california-rim-fire', 'co-flood-extras', 'cold-springs-fire', 'cold-springs-landsat-scenes', 'cold-springs-modis-h4', 'colorado-flood', 'cs-test-landsat', 'cs-test-naip', 'naip-fire-crop', 'ndvi-automation', 'spatial-vector-lidar', 'twitter-flood', 'vignette-elevation', 'vignette-landsat']\n"
          ]
        }
      ],
      "source": [
        "print(et.data)"
      ]
    },
    {
      "cell_type": "code",
      "execution_count": 38,
      "id": "5bf2bb38",
      "metadata": {},
      "outputs": [
        {
          "name": "stdout",
          "output_type": "stream",
          "text": [
            "Index(['tnmid', 'metasource', 'sourcedata', 'sourceorig', 'sourcefeat',\n",
            "       'loaddate', 'referenceg', 'areaacres', 'areasqkm', 'states', 'huc12',\n",
            "       'name', 'hutype', 'humod', 'tohuc', 'noncontrib', 'noncontr_1',\n",
            "       'shape_Leng', 'shape_Area', 'ObjectID', 'geometry'],\n",
            "      dtype='object')\n"
          ]
        }
      ],
      "source": [
        "@cached('wbd_08')\n",
        "def read_wbd_file(wbd_filename, huc_level, cache_key):\n",
        "    # Download and unzip\n",
        "    wbd_url = (\n",
        "        \"https://prd-tnm.s3.amazonaws.com\"\n",
        "        \"/StagedProducts/Hydrography/WBD/HU2/Shape/\"\n",
        "        f\"{wbd_filename}.zip\")\n",
        "    wbd_dir = et.data.get_data(url=wbd_url)\n",
        "                  \n",
        "    # Read desired data\n",
        "    wbd_path = os.path.join(wbd_dir, 'Shape', f'WBDHU{huc_level}.shp')\n",
        "    wbd_gdf = gpd.read_file(wbd_path, engine='pyogrio')\n",
        "    return wbd_gdf\n",
        "\n",
        "huc_level = 12\n",
        "wbd_gdf = read_wbd_file(\n",
        "    \"WBD_08_HU2_Shape\", huc_level, cache_key=f'hu{huc_level}')\n",
        "\n",
        "\n",
        "print(wbd_gdf.columns)\n",
        "\n",
        "delta_gdf = (\n",
        "    wbd_gdf[wbd_gdf[f'huc{huc_level}']\n",
        "    .isin(['080902030506'])]\n",
        "    .dissolve()\n",
        ")\n",
        "\n",
        "(\n",
        "    delta_gdf.to_crs(ccrs.Mercator())\n",
        "    .hvplot(\n",
        "        alpha=.2, fill_color='white', \n",
        "        tiles='EsriImagery', crs=ccrs.Mercator())\n",
        "    .opts(width=600, height=300)\n",
        ")"
      ]
    },
    {
      "cell_type": "markdown",
      "id": "f9903174-b87c-4026-8564-bd3e62dbfd14",
      "metadata": {},
      "source": [
        "## STEP 3: MULTISPECTRAL DATA\n",
        "\n",
        "### Search for data\n",
        "\n",
        "<link rel=\"stylesheet\" type=\"text/css\" href=\"./assets/styles.css\"><div class=\"callout callout-style-default callout-titled callout-task\"><div class=\"callout-header\"><div class=\"callout-icon-container\"><i class=\"callout-icon\"></i></div><div class=\"callout-title-container flex-fill\">Try It</div></div><div class=\"callout-body-container callout-body\"><ol type=\"1\">\n",
        "<li>Log in to the <code>earthaccess</code> service using your Earthdata\n",
        "credentials:\n",
        "<code>python      earthaccess.login(persist=True)</code></li>\n",
        "<li>Modify the following sample code to search for granules of the\n",
        "HLSL30 product overlapping the watershed boundary from May to October\n",
        "2023 (there should be 76 granules):\n",
        "<code>python      results = earthaccess.search_data(          short_name=\"...\",          cloud_hosted=True,          bounding_box=tuple(gdf.total_bounds),          temporal=(\"...\", \"...\"),      )</code></li>\n",
        "</ol></div></div>"
      ]
    },
    {
      "cell_type": "code",
      "execution_count": 32,
      "id": "ec44285e",
      "metadata": {
        "highlight": true
      },
      "outputs": [
        {
          "ename": "NameError",
          "evalue": "name 'num_granules' is not defined",
          "output_type": "error",
          "traceback": [
            "\u001b[0;31m---------------------------------------------------------------------------\u001b[0m",
            "\u001b[0;31mNameError\u001b[0m                                 Traceback (most recent call last)",
            "Cell \u001b[0;32mIn[32], line 14\u001b[0m\n\u001b[1;32m      5\u001b[0m results \u001b[38;5;241m=\u001b[39m earthaccess\u001b[38;5;241m.\u001b[39msearch_data(  \n\u001b[1;32m      6\u001b[0m     short_name\u001b[38;5;241m=\u001b[39m\u001b[38;5;124m\"\u001b[39m\u001b[38;5;124mHLSL30\u001b[39m\u001b[38;5;124m\"\u001b[39m,          \n\u001b[1;32m      7\u001b[0m     cloud_hosted\u001b[38;5;241m=\u001b[39m\u001b[38;5;28;01mTrue\u001b[39;00m,          \n\u001b[1;32m      8\u001b[0m     bounding_box\u001b[38;5;241m=\u001b[39m\u001b[38;5;28mtuple\u001b[39m(delta_gdf\u001b[38;5;241m.\u001b[39mtotal_bounds),          \n\u001b[1;32m      9\u001b[0m     temporal\u001b[38;5;241m=\u001b[39m(\u001b[38;5;124m\"\u001b[39m\u001b[38;5;124m2024-06\u001b[39m\u001b[38;5;124m\"\u001b[39m, \u001b[38;5;124m\"\u001b[39m\u001b[38;5;124m2024-08\u001b[39m\u001b[38;5;124m\"\u001b[39m), \u001b[38;5;66;03m# how do we find out the correct syntax/format for code inputs?\u001b[39;00m\n\u001b[1;32m     10\u001b[0m )\n\u001b[1;32m     12\u001b[0m \u001b[38;5;66;03m# Conform the Contents\u001b[39;00m\n\u001b[1;32m     13\u001b[0m \u001b[38;5;66;03m# num_granules = lense(results)\u001b[39;00m\n\u001b[0;32m---> 14\u001b[0m \u001b[38;5;28mprint\u001b[39m(\u001b[38;5;124mf\u001b[39m\u001b[38;5;124m'\u001b[39m\u001b[38;5;124mNumber of Granules found\u001b[39m\u001b[38;5;124m'\u001b[39m, {\u001b[43mnum_granules\u001b[49m})\n",
            "\u001b[0;31mNameError\u001b[0m: name 'num_granules' is not defined"
          ]
        }
      ],
      "source": [
        "# Log in to earthaccess\n",
        "earthaccess.login(persist=True)\n",
        "\n",
        "# Search for HLS tiles\n",
        "results = earthaccess.search_data(  \n",
        "    short_name=\"HLSL30\",          \n",
        "    cloud_hosted=True,          \n",
        "    bounding_box=tuple(delta_gdf.total_bounds),          \n",
        "    temporal=(\"2024-06\", \"2024-08\"), # how do we find out the correct syntax/format for code inputs?\n",
        ")\n",
        "\n",
        "# Conform the Contents\n",
        "num_granules = lense(results)\n",
        "print(f'Number of Granules found', {num_granules})"
      ]
    },
    {
      "cell_type": "code",
      "execution_count": 27,
      "id": "438d327d",
      "metadata": {},
      "outputs": [
        {
          "name": "stdout",
          "output_type": "stream",
          "text": [
            "[Collection: {'EntryTitle': 'HLS Landsat Operational Land Imager Surface Reflectance and TOA Brightness Daily Global 30m v2.0'}\n",
            "Spatial coverage: {'HorizontalSpatialDomain': {'Geometry': {'GPolygons': [{'Boundary': {'Points': [{'Longitude': -89.79864173, 'Latitude': 29.70347853}, {'Longitude': -89.76643746, 'Latitude': 30.69278312}, {'Longitude': -90.91181412, 'Latitude': 30.71627038}, {'Longitude': -90.93262544, 'Latitude': 29.72659663}, {'Longitude': -89.79864173, 'Latitude': 29.70347853}]}}]}}}\n",
            "Temporal coverage: {'RangeDateTime': {'BeginningDateTime': '2024-06-07T16:31:11.509Z', 'EndingDateTime': '2024-06-07T16:31:11.509Z'}}\n",
            "Size(MB): 169.50417041778564\n",
            "Data: ['https://data.lpdaac.earthdatacloud.nasa.gov/lp-prod-protected/HLSL30.020/HLS.L30.T15RYP.2024159T163111.v2.0/HLS.L30.T15RYP.2024159T163111.v2.0.B10.tif', 'https://data.lpdaac.earthdatacloud.nasa.gov/lp-prod-protected/HLSL30.020/HLS.L30.T15RYP.2024159T163111.v2.0/HLS.L30.T15RYP.2024159T163111.v2.0.SAA.tif', 'https://data.lpdaac.earthdatacloud.nasa.gov/lp-prod-protected/HLSL30.020/HLS.L30.T15RYP.2024159T163111.v2.0/HLS.L30.T15RYP.2024159T163111.v2.0.VZA.tif', 'https://data.lpdaac.earthdatacloud.nasa.gov/lp-prod-protected/HLSL30.020/HLS.L30.T15RYP.2024159T163111.v2.0/HLS.L30.T15RYP.2024159T163111.v2.0.B06.tif', 'https://data.lpdaac.earthdatacloud.nasa.gov/lp-prod-protected/HLSL30.020/HLS.L30.T15RYP.2024159T163111.v2.0/HLS.L30.T15RYP.2024159T163111.v2.0.B09.tif', 'https://data.lpdaac.earthdatacloud.nasa.gov/lp-prod-protected/HLSL30.020/HLS.L30.T15RYP.2024159T163111.v2.0/HLS.L30.T15RYP.2024159T163111.v2.0.B04.tif', 'https://data.lpdaac.earthdatacloud.nasa.gov/lp-prod-protected/HLSL30.020/HLS.L30.T15RYP.2024159T163111.v2.0/HLS.L30.T15RYP.2024159T163111.v2.0.B03.tif', 'https://data.lpdaac.earthdatacloud.nasa.gov/lp-prod-protected/HLSL30.020/HLS.L30.T15RYP.2024159T163111.v2.0/HLS.L30.T15RYP.2024159T163111.v2.0.B07.tif', 'https://data.lpdaac.earthdatacloud.nasa.gov/lp-prod-protected/HLSL30.020/HLS.L30.T15RYP.2024159T163111.v2.0/HLS.L30.T15RYP.2024159T163111.v2.0.VAA.tif', 'https://data.lpdaac.earthdatacloud.nasa.gov/lp-prod-protected/HLSL30.020/HLS.L30.T15RYP.2024159T163111.v2.0/HLS.L30.T15RYP.2024159T163111.v2.0.Fmask.tif', 'https://data.lpdaac.earthdatacloud.nasa.gov/lp-prod-protected/HLSL30.020/HLS.L30.T15RYP.2024159T163111.v2.0/HLS.L30.T15RYP.2024159T163111.v2.0.B01.tif', 'https://data.lpdaac.earthdatacloud.nasa.gov/lp-prod-protected/HLSL30.020/HLS.L30.T15RYP.2024159T163111.v2.0/HLS.L30.T15RYP.2024159T163111.v2.0.SZA.tif', 'https://data.lpdaac.earthdatacloud.nasa.gov/lp-prod-protected/HLSL30.020/HLS.L30.T15RYP.2024159T163111.v2.0/HLS.L30.T15RYP.2024159T163111.v2.0.B11.tif', 'https://data.lpdaac.earthdatacloud.nasa.gov/lp-prod-protected/HLSL30.020/HLS.L30.T15RYP.2024159T163111.v2.0/HLS.L30.T15RYP.2024159T163111.v2.0.B05.tif', 'https://data.lpdaac.earthdatacloud.nasa.gov/lp-prod-protected/HLSL30.020/HLS.L30.T15RYP.2024159T163111.v2.0/HLS.L30.T15RYP.2024159T163111.v2.0.B02.tif'], Collection: {'EntryTitle': 'HLS Landsat Operational Land Imager Surface Reflectance and TOA Brightness Daily Global 30m v2.0'}\n",
            "Spatial coverage: {'HorizontalSpatialDomain': {'Geometry': {'GPolygons': [{'Boundary': {'Points': [{'Longitude': -90.10082051, 'Latitude': 29.70587294}, {'Longitude': -89.29622418, 'Latitude': 29.72228205}, {'Longitude': -89.02503941, 'Latitude': 30.71727112}, {'Longitude': -90.13201749, 'Latitude': 30.69527405}, {'Longitude': -90.10082051, 'Latitude': 29.70587294}]}}]}}}\n",
            "Temporal coverage: {'RangeDateTime': {'BeginningDateTime': '2024-06-07T16:31:11.509Z', 'EndingDateTime': '2024-06-07T16:31:11.509Z'}}\n",
            "Size(MB): 144.86769199371338\n",
            "Data: ['https://data.lpdaac.earthdatacloud.nasa.gov/lp-prod-protected/HLSL30.020/HLS.L30.T16RBU.2024159T163111.v2.0/HLS.L30.T16RBU.2024159T163111.v2.0.VAA.tif', 'https://data.lpdaac.earthdatacloud.nasa.gov/lp-prod-protected/HLSL30.020/HLS.L30.T16RBU.2024159T163111.v2.0/HLS.L30.T16RBU.2024159T163111.v2.0.SAA.tif', 'https://data.lpdaac.earthdatacloud.nasa.gov/lp-prod-protected/HLSL30.020/HLS.L30.T16RBU.2024159T163111.v2.0/HLS.L30.T16RBU.2024159T163111.v2.0.VZA.tif', 'https://data.lpdaac.earthdatacloud.nasa.gov/lp-prod-protected/HLSL30.020/HLS.L30.T16RBU.2024159T163111.v2.0/HLS.L30.T16RBU.2024159T163111.v2.0.SZA.tif', 'https://data.lpdaac.earthdatacloud.nasa.gov/lp-prod-protected/HLSL30.020/HLS.L30.T16RBU.2024159T163111.v2.0/HLS.L30.T16RBU.2024159T163111.v2.0.B01.tif', 'https://data.lpdaac.earthdatacloud.nasa.gov/lp-prod-protected/HLSL30.020/HLS.L30.T16RBU.2024159T163111.v2.0/HLS.L30.T16RBU.2024159T163111.v2.0.B06.tif', 'https://data.lpdaac.earthdatacloud.nasa.gov/lp-prod-protected/HLSL30.020/HLS.L30.T16RBU.2024159T163111.v2.0/HLS.L30.T16RBU.2024159T163111.v2.0.Fmask.tif', 'https://data.lpdaac.earthdatacloud.nasa.gov/lp-prod-protected/HLSL30.020/HLS.L30.T16RBU.2024159T163111.v2.0/HLS.L30.T16RBU.2024159T163111.v2.0.B04.tif', 'https://data.lpdaac.earthdatacloud.nasa.gov/lp-prod-protected/HLSL30.020/HLS.L30.T16RBU.2024159T163111.v2.0/HLS.L30.T16RBU.2024159T163111.v2.0.B07.tif', 'https://data.lpdaac.earthdatacloud.nasa.gov/lp-prod-protected/HLSL30.020/HLS.L30.T16RBU.2024159T163111.v2.0/HLS.L30.T16RBU.2024159T163111.v2.0.B10.tif', 'https://data.lpdaac.earthdatacloud.nasa.gov/lp-prod-protected/HLSL30.020/HLS.L30.T16RBU.2024159T163111.v2.0/HLS.L30.T16RBU.2024159T163111.v2.0.B02.tif', 'https://data.lpdaac.earthdatacloud.nasa.gov/lp-prod-protected/HLSL30.020/HLS.L30.T16RBU.2024159T163111.v2.0/HLS.L30.T16RBU.2024159T163111.v2.0.B05.tif', 'https://data.lpdaac.earthdatacloud.nasa.gov/lp-prod-protected/HLSL30.020/HLS.L30.T16RBU.2024159T163111.v2.0/HLS.L30.T16RBU.2024159T163111.v2.0.B09.tif', 'https://data.lpdaac.earthdatacloud.nasa.gov/lp-prod-protected/HLSL30.020/HLS.L30.T16RBU.2024159T163111.v2.0/HLS.L30.T16RBU.2024159T163111.v2.0.B11.tif', 'https://data.lpdaac.earthdatacloud.nasa.gov/lp-prod-protected/HLSL30.020/HLS.L30.T16RBU.2024159T163111.v2.0/HLS.L30.T16RBU.2024159T163111.v2.0.B03.tif'], Collection: {'EntryTitle': 'HLS Landsat Operational Land Imager Surface Reflectance and TOA Brightness Daily Global 30m v2.0'}\n",
            "Spatial coverage: {'HorizontalSpatialDomain': {'Geometry': {'GPolygons': [{'Boundary': {'Points': [{'Longitude': -90.07372506, 'Latitude': 28.80444525}, {'Longitude': -89.53973129, 'Latitude': 28.81609841}, {'Longitude': -89.27248963, 'Latitude': 29.81092015}, {'Longitude': -90.10353675, 'Latitude': 29.79400715}, {'Longitude': -90.07372506, 'Latitude': 28.80444525}]}}]}}}\n",
            "Temporal coverage: {'RangeDateTime': {'BeginningDateTime': '2024-06-07T16:31:11.509Z', 'EndingDateTime': '2024-06-07T16:31:35.408Z'}}\n",
            "Size(MB): 99.33320713043213\n",
            "Data: ['https://data.lpdaac.earthdatacloud.nasa.gov/lp-prod-protected/HLSL30.020/HLS.L30.T16RBT.2024159T163111.v2.0/HLS.L30.T16RBT.2024159T163111.v2.0.B10.tif', 'https://data.lpdaac.earthdatacloud.nasa.gov/lp-prod-protected/HLSL30.020/HLS.L30.T16RBT.2024159T163111.v2.0/HLS.L30.T16RBT.2024159T163111.v2.0.B02.tif', 'https://data.lpdaac.earthdatacloud.nasa.gov/lp-prod-protected/HLSL30.020/HLS.L30.T16RBT.2024159T163111.v2.0/HLS.L30.T16RBT.2024159T163111.v2.0.SZA.tif', 'https://data.lpdaac.earthdatacloud.nasa.gov/lp-prod-protected/HLSL30.020/HLS.L30.T16RBT.2024159T163111.v2.0/HLS.L30.T16RBT.2024159T163111.v2.0.B09.tif', 'https://data.lpdaac.earthdatacloud.nasa.gov/lp-prod-protected/HLSL30.020/HLS.L30.T16RBT.2024159T163111.v2.0/HLS.L30.T16RBT.2024159T163111.v2.0.SAA.tif', 'https://data.lpdaac.earthdatacloud.nasa.gov/lp-prod-protected/HLSL30.020/HLS.L30.T16RBT.2024159T163111.v2.0/HLS.L30.T16RBT.2024159T163111.v2.0.B11.tif', 'https://data.lpdaac.earthdatacloud.nasa.gov/lp-prod-protected/HLSL30.020/HLS.L30.T16RBT.2024159T163111.v2.0/HLS.L30.T16RBT.2024159T163111.v2.0.B03.tif', 'https://data.lpdaac.earthdatacloud.nasa.gov/lp-prod-protected/HLSL30.020/HLS.L30.T16RBT.2024159T163111.v2.0/HLS.L30.T16RBT.2024159T163111.v2.0.B07.tif', 'https://data.lpdaac.earthdatacloud.nasa.gov/lp-prod-protected/HLSL30.020/HLS.L30.T16RBT.2024159T163111.v2.0/HLS.L30.T16RBT.2024159T163111.v2.0.VZA.tif', 'https://data.lpdaac.earthdatacloud.nasa.gov/lp-prod-protected/HLSL30.020/HLS.L30.T16RBT.2024159T163111.v2.0/HLS.L30.T16RBT.2024159T163111.v2.0.Fmask.tif', 'https://data.lpdaac.earthdatacloud.nasa.gov/lp-prod-protected/HLSL30.020/HLS.L30.T16RBT.2024159T163111.v2.0/HLS.L30.T16RBT.2024159T163111.v2.0.B04.tif', 'https://data.lpdaac.earthdatacloud.nasa.gov/lp-prod-protected/HLSL30.020/HLS.L30.T16RBT.2024159T163111.v2.0/HLS.L30.T16RBT.2024159T163111.v2.0.B05.tif', 'https://data.lpdaac.earthdatacloud.nasa.gov/lp-prod-protected/HLSL30.020/HLS.L30.T16RBT.2024159T163111.v2.0/HLS.L30.T16RBT.2024159T163111.v2.0.VAA.tif', 'https://data.lpdaac.earthdatacloud.nasa.gov/lp-prod-protected/HLSL30.020/HLS.L30.T16RBT.2024159T163111.v2.0/HLS.L30.T16RBT.2024159T163111.v2.0.B06.tif', 'https://data.lpdaac.earthdatacloud.nasa.gov/lp-prod-protected/HLSL30.020/HLS.L30.T16RBT.2024159T163111.v2.0/HLS.L30.T16RBT.2024159T163111.v2.0.B01.tif'], Collection: {'EntryTitle': 'HLS Landsat Operational Land Imager Surface Reflectance and TOA Brightness Daily Global 30m v2.0'}\n",
            "Spatial coverage: {'HorizontalSpatialDomain': {'Geometry': {'GPolygons': [{'Boundary': {'Points': [{'Longitude': -89.82661214, 'Latitude': 28.80213717}, {'Longitude': -89.79583778, 'Latitude': 29.79160422}, {'Longitude': -90.93082361, 'Latitude': 29.81426153}, {'Longitude': -90.95072084, 'Latitude': 28.82389994}, {'Longitude': -89.82661214, 'Latitude': 28.80213717}]}}]}}}\n",
            "Temporal coverage: {'RangeDateTime': {'BeginningDateTime': '2024-06-07T16:31:11.509Z', 'EndingDateTime': '2024-06-07T16:31:35.408Z'}}\n",
            "Size(MB): 162.8173542022705\n",
            "Data: ['https://data.lpdaac.earthdatacloud.nasa.gov/lp-prod-protected/HLSL30.020/HLS.L30.T15RYN.2024159T163111.v2.0/HLS.L30.T15RYN.2024159T163111.v2.0.B04.tif', 'https://data.lpdaac.earthdatacloud.nasa.gov/lp-prod-protected/HLSL30.020/HLS.L30.T15RYN.2024159T163111.v2.0/HLS.L30.T15RYN.2024159T163111.v2.0.SZA.tif', 'https://data.lpdaac.earthdatacloud.nasa.gov/lp-prod-protected/HLSL30.020/HLS.L30.T15RYN.2024159T163111.v2.0/HLS.L30.T15RYN.2024159T163111.v2.0.Fmask.tif', 'https://data.lpdaac.earthdatacloud.nasa.gov/lp-prod-protected/HLSL30.020/HLS.L30.T15RYN.2024159T163111.v2.0/HLS.L30.T15RYN.2024159T163111.v2.0.B06.tif', 'https://data.lpdaac.earthdatacloud.nasa.gov/lp-prod-protected/HLSL30.020/HLS.L30.T15RYN.2024159T163111.v2.0/HLS.L30.T15RYN.2024159T163111.v2.0.B03.tif', 'https://data.lpdaac.earthdatacloud.nasa.gov/lp-prod-protected/HLSL30.020/HLS.L30.T15RYN.2024159T163111.v2.0/HLS.L30.T15RYN.2024159T163111.v2.0.B07.tif', 'https://data.lpdaac.earthdatacloud.nasa.gov/lp-prod-protected/HLSL30.020/HLS.L30.T15RYN.2024159T163111.v2.0/HLS.L30.T15RYN.2024159T163111.v2.0.B02.tif', 'https://data.lpdaac.earthdatacloud.nasa.gov/lp-prod-protected/HLSL30.020/HLS.L30.T15RYN.2024159T163111.v2.0/HLS.L30.T15RYN.2024159T163111.v2.0.B09.tif', 'https://data.lpdaac.earthdatacloud.nasa.gov/lp-prod-protected/HLSL30.020/HLS.L30.T15RYN.2024159T163111.v2.0/HLS.L30.T15RYN.2024159T163111.v2.0.SAA.tif', 'https://data.lpdaac.earthdatacloud.nasa.gov/lp-prod-protected/HLSL30.020/HLS.L30.T15RYN.2024159T163111.v2.0/HLS.L30.T15RYN.2024159T163111.v2.0.B10.tif', 'https://data.lpdaac.earthdatacloud.nasa.gov/lp-prod-protected/HLSL30.020/HLS.L30.T15RYN.2024159T163111.v2.0/HLS.L30.T15RYN.2024159T163111.v2.0.B01.tif', 'https://data.lpdaac.earthdatacloud.nasa.gov/lp-prod-protected/HLSL30.020/HLS.L30.T15RYN.2024159T163111.v2.0/HLS.L30.T15RYN.2024159T163111.v2.0.B05.tif', 'https://data.lpdaac.earthdatacloud.nasa.gov/lp-prod-protected/HLSL30.020/HLS.L30.T15RYN.2024159T163111.v2.0/HLS.L30.T15RYN.2024159T163111.v2.0.B11.tif', 'https://data.lpdaac.earthdatacloud.nasa.gov/lp-prod-protected/HLSL30.020/HLS.L30.T15RYN.2024159T163111.v2.0/HLS.L30.T15RYN.2024159T163111.v2.0.VAA.tif', 'https://data.lpdaac.earthdatacloud.nasa.gov/lp-prod-protected/HLSL30.020/HLS.L30.T15RYN.2024159T163111.v2.0/HLS.L30.T15RYN.2024159T163111.v2.0.VZA.tif'], Collection: {'EntryTitle': 'HLS Landsat Operational Land Imager Surface Reflectance and TOA Brightness Daily Global 30m v2.0'}\n",
            "Spatial coverage: {'HorizontalSpatialDomain': {'Geometry': {'GPolygons': [{'Boundary': {'Points': [{'Longitude': -90.10082051, 'Latitude': 29.70587294}, {'Longitude': -89.31389059, 'Latitude': 29.72197431}, {'Longitude': -89.043514, 'Latitude': 30.71698152}, {'Longitude': -90.13201749, 'Latitude': 30.69527405}, {'Longitude': -90.10082051, 'Latitude': 29.70587294}]}}]}}}\n",
            "Temporal coverage: {'RangeDateTime': {'BeginningDateTime': '2024-06-15T16:31:19.154Z', 'EndingDateTime': '2024-06-15T16:31:19.154Z'}}\n",
            "Size(MB): 148.00107669830322\n",
            "Data: ['https://data.lpdaac.earthdatacloud.nasa.gov/lp-prod-protected/HLSL30.020/HLS.L30.T16RBU.2024167T163119.v2.0/HLS.L30.T16RBU.2024167T163119.v2.0.SAA.tif', 'https://data.lpdaac.earthdatacloud.nasa.gov/lp-prod-protected/HLSL30.020/HLS.L30.T16RBU.2024167T163119.v2.0/HLS.L30.T16RBU.2024167T163119.v2.0.VZA.tif', 'https://data.lpdaac.earthdatacloud.nasa.gov/lp-prod-protected/HLSL30.020/HLS.L30.T16RBU.2024167T163119.v2.0/HLS.L30.T16RBU.2024167T163119.v2.0.B01.tif', 'https://data.lpdaac.earthdatacloud.nasa.gov/lp-prod-protected/HLSL30.020/HLS.L30.T16RBU.2024167T163119.v2.0/HLS.L30.T16RBU.2024167T163119.v2.0.Fmask.tif', 'https://data.lpdaac.earthdatacloud.nasa.gov/lp-prod-protected/HLSL30.020/HLS.L30.T16RBU.2024167T163119.v2.0/HLS.L30.T16RBU.2024167T163119.v2.0.B11.tif', 'https://data.lpdaac.earthdatacloud.nasa.gov/lp-prod-protected/HLSL30.020/HLS.L30.T16RBU.2024167T163119.v2.0/HLS.L30.T16RBU.2024167T163119.v2.0.B05.tif', 'https://data.lpdaac.earthdatacloud.nasa.gov/lp-prod-protected/HLSL30.020/HLS.L30.T16RBU.2024167T163119.v2.0/HLS.L30.T16RBU.2024167T163119.v2.0.B09.tif', 'https://data.lpdaac.earthdatacloud.nasa.gov/lp-prod-protected/HLSL30.020/HLS.L30.T16RBU.2024167T163119.v2.0/HLS.L30.T16RBU.2024167T163119.v2.0.VAA.tif', 'https://data.lpdaac.earthdatacloud.nasa.gov/lp-prod-protected/HLSL30.020/HLS.L30.T16RBU.2024167T163119.v2.0/HLS.L30.T16RBU.2024167T163119.v2.0.B03.tif', 'https://data.lpdaac.earthdatacloud.nasa.gov/lp-prod-protected/HLSL30.020/HLS.L30.T16RBU.2024167T163119.v2.0/HLS.L30.T16RBU.2024167T163119.v2.0.B04.tif', 'https://data.lpdaac.earthdatacloud.nasa.gov/lp-prod-protected/HLSL30.020/HLS.L30.T16RBU.2024167T163119.v2.0/HLS.L30.T16RBU.2024167T163119.v2.0.B06.tif', 'https://data.lpdaac.earthdatacloud.nasa.gov/lp-prod-protected/HLSL30.020/HLS.L30.T16RBU.2024167T163119.v2.0/HLS.L30.T16RBU.2024167T163119.v2.0.SZA.tif', 'https://data.lpdaac.earthdatacloud.nasa.gov/lp-prod-protected/HLSL30.020/HLS.L30.T16RBU.2024167T163119.v2.0/HLS.L30.T16RBU.2024167T163119.v2.0.B07.tif', 'https://data.lpdaac.earthdatacloud.nasa.gov/lp-prod-protected/HLSL30.020/HLS.L30.T16RBU.2024167T163119.v2.0/HLS.L30.T16RBU.2024167T163119.v2.0.B10.tif', 'https://data.lpdaac.earthdatacloud.nasa.gov/lp-prod-protected/HLSL30.020/HLS.L30.T16RBU.2024167T163119.v2.0/HLS.L30.T16RBU.2024167T163119.v2.0.B02.tif'], Collection: {'EntryTitle': 'HLS Landsat Operational Land Imager Surface Reflectance and TOA Brightness Daily Global 30m v2.0'}\n",
            "Spatial coverage: {'HorizontalSpatialDomain': {'Geometry': {'GPolygons': [{'Boundary': {'Points': [{'Longitude': -90.07372506, 'Latitude': 28.80444525}, {'Longitude': -89.55691903, 'Latitude': 28.8152324}, {'Longitude': -89.28986168, 'Latitude': 29.81062013}, {'Longitude': -90.10353675, 'Latitude': 29.79400715}, {'Longitude': -90.07372506, 'Latitude': 28.80444525}]}}]}}}\n",
            "Temporal coverage: {'RangeDateTime': {'BeginningDateTime': '2024-06-15T16:31:19.154Z', 'EndingDateTime': '2024-06-15T16:31:43.045Z'}}\n",
            "Size(MB): 99.73652935028076\n",
            "Data: ['https://data.lpdaac.earthdatacloud.nasa.gov/lp-prod-protected/HLSL30.020/HLS.L30.T16RBT.2024167T163119.v2.0/HLS.L30.T16RBT.2024167T163119.v2.0.B02.tif', 'https://data.lpdaac.earthdatacloud.nasa.gov/lp-prod-protected/HLSL30.020/HLS.L30.T16RBT.2024167T163119.v2.0/HLS.L30.T16RBT.2024167T163119.v2.0.B05.tif', 'https://data.lpdaac.earthdatacloud.nasa.gov/lp-prod-protected/HLSL30.020/HLS.L30.T16RBT.2024167T163119.v2.0/HLS.L30.T16RBT.2024167T163119.v2.0.B06.tif', 'https://data.lpdaac.earthdatacloud.nasa.gov/lp-prod-protected/HLSL30.020/HLS.L30.T16RBT.2024167T163119.v2.0/HLS.L30.T16RBT.2024167T163119.v2.0.Fmask.tif', 'https://data.lpdaac.earthdatacloud.nasa.gov/lp-prod-protected/HLSL30.020/HLS.L30.T16RBT.2024167T163119.v2.0/HLS.L30.T16RBT.2024167T163119.v2.0.B09.tif', 'https://data.lpdaac.earthdatacloud.nasa.gov/lp-prod-protected/HLSL30.020/HLS.L30.T16RBT.2024167T163119.v2.0/HLS.L30.T16RBT.2024167T163119.v2.0.SZA.tif', 'https://data.lpdaac.earthdatacloud.nasa.gov/lp-prod-protected/HLSL30.020/HLS.L30.T16RBT.2024167T163119.v2.0/HLS.L30.T16RBT.2024167T163119.v2.0.B04.tif', 'https://data.lpdaac.earthdatacloud.nasa.gov/lp-prod-protected/HLSL30.020/HLS.L30.T16RBT.2024167T163119.v2.0/HLS.L30.T16RBT.2024167T163119.v2.0.VAA.tif', 'https://data.lpdaac.earthdatacloud.nasa.gov/lp-prod-protected/HLSL30.020/HLS.L30.T16RBT.2024167T163119.v2.0/HLS.L30.T16RBT.2024167T163119.v2.0.B11.tif', 'https://data.lpdaac.earthdatacloud.nasa.gov/lp-prod-protected/HLSL30.020/HLS.L30.T16RBT.2024167T163119.v2.0/HLS.L30.T16RBT.2024167T163119.v2.0.B10.tif', 'https://data.lpdaac.earthdatacloud.nasa.gov/lp-prod-protected/HLSL30.020/HLS.L30.T16RBT.2024167T163119.v2.0/HLS.L30.T16RBT.2024167T163119.v2.0.B07.tif', 'https://data.lpdaac.earthdatacloud.nasa.gov/lp-prod-protected/HLSL30.020/HLS.L30.T16RBT.2024167T163119.v2.0/HLS.L30.T16RBT.2024167T163119.v2.0.B03.tif', 'https://data.lpdaac.earthdatacloud.nasa.gov/lp-prod-protected/HLSL30.020/HLS.L30.T16RBT.2024167T163119.v2.0/HLS.L30.T16RBT.2024167T163119.v2.0.VZA.tif', 'https://data.lpdaac.earthdatacloud.nasa.gov/lp-prod-protected/HLSL30.020/HLS.L30.T16RBT.2024167T163119.v2.0/HLS.L30.T16RBT.2024167T163119.v2.0.SAA.tif', 'https://data.lpdaac.earthdatacloud.nasa.gov/lp-prod-protected/HLSL30.020/HLS.L30.T16RBT.2024167T163119.v2.0/HLS.L30.T16RBT.2024167T163119.v2.0.B01.tif'], Collection: {'EntryTitle': 'HLS Landsat Operational Land Imager Surface Reflectance and TOA Brightness Daily Global 30m v2.0'}\n",
            "Spatial coverage: {'HorizontalSpatialDomain': {'Geometry': {'GPolygons': [{'Boundary': {'Points': [{'Longitude': -89.79864173, 'Latitude': 29.70347853}, {'Longitude': -89.76643746, 'Latitude': 30.69278312}, {'Longitude': -90.91181412, 'Latitude': 30.71627038}, {'Longitude': -90.93263654, 'Latitude': 29.72605548}, {'Longitude': -89.79864173, 'Latitude': 29.70347853}]}}]}}}\n",
            "Temporal coverage: {'RangeDateTime': {'BeginningDateTime': '2024-06-15T16:31:19.154Z', 'EndingDateTime': '2024-06-15T16:31:19.154Z'}}\n",
            "Size(MB): 169.47915649414062\n",
            "Data: ['https://data.lpdaac.earthdatacloud.nasa.gov/lp-prod-protected/HLSL30.020/HLS.L30.T15RYP.2024167T163119.v2.0/HLS.L30.T15RYP.2024167T163119.v2.0.Fmask.tif', 'https://data.lpdaac.earthdatacloud.nasa.gov/lp-prod-protected/HLSL30.020/HLS.L30.T15RYP.2024167T163119.v2.0/HLS.L30.T15RYP.2024167T163119.v2.0.SAA.tif', 'https://data.lpdaac.earthdatacloud.nasa.gov/lp-prod-protected/HLSL30.020/HLS.L30.T15RYP.2024167T163119.v2.0/HLS.L30.T15RYP.2024167T163119.v2.0.VZA.tif', 'https://data.lpdaac.earthdatacloud.nasa.gov/lp-prod-protected/HLSL30.020/HLS.L30.T15RYP.2024167T163119.v2.0/HLS.L30.T15RYP.2024167T163119.v2.0.B10.tif', 'https://data.lpdaac.earthdatacloud.nasa.gov/lp-prod-protected/HLSL30.020/HLS.L30.T15RYP.2024167T163119.v2.0/HLS.L30.T15RYP.2024167T163119.v2.0.SZA.tif', 'https://data.lpdaac.earthdatacloud.nasa.gov/lp-prod-protected/HLSL30.020/HLS.L30.T15RYP.2024167T163119.v2.0/HLS.L30.T15RYP.2024167T163119.v2.0.B02.tif', 'https://data.lpdaac.earthdatacloud.nasa.gov/lp-prod-protected/HLSL30.020/HLS.L30.T15RYP.2024167T163119.v2.0/HLS.L30.T15RYP.2024167T163119.v2.0.B03.tif', 'https://data.lpdaac.earthdatacloud.nasa.gov/lp-prod-protected/HLSL30.020/HLS.L30.T15RYP.2024167T163119.v2.0/HLS.L30.T15RYP.2024167T163119.v2.0.B07.tif', 'https://data.lpdaac.earthdatacloud.nasa.gov/lp-prod-protected/HLSL30.020/HLS.L30.T15RYP.2024167T163119.v2.0/HLS.L30.T15RYP.2024167T163119.v2.0.B09.tif', 'https://data.lpdaac.earthdatacloud.nasa.gov/lp-prod-protected/HLSL30.020/HLS.L30.T15RYP.2024167T163119.v2.0/HLS.L30.T15RYP.2024167T163119.v2.0.B06.tif', 'https://data.lpdaac.earthdatacloud.nasa.gov/lp-prod-protected/HLSL30.020/HLS.L30.T15RYP.2024167T163119.v2.0/HLS.L30.T15RYP.2024167T163119.v2.0.B01.tif', 'https://data.lpdaac.earthdatacloud.nasa.gov/lp-prod-protected/HLSL30.020/HLS.L30.T15RYP.2024167T163119.v2.0/HLS.L30.T15RYP.2024167T163119.v2.0.B05.tif', 'https://data.lpdaac.earthdatacloud.nasa.gov/lp-prod-protected/HLSL30.020/HLS.L30.T15RYP.2024167T163119.v2.0/HLS.L30.T15RYP.2024167T163119.v2.0.B04.tif', 'https://data.lpdaac.earthdatacloud.nasa.gov/lp-prod-protected/HLSL30.020/HLS.L30.T15RYP.2024167T163119.v2.0/HLS.L30.T15RYP.2024167T163119.v2.0.B11.tif', 'https://data.lpdaac.earthdatacloud.nasa.gov/lp-prod-protected/HLSL30.020/HLS.L30.T15RYP.2024167T163119.v2.0/HLS.L30.T15RYP.2024167T163119.v2.0.VAA.tif'], Collection: {'EntryTitle': 'HLS Landsat Operational Land Imager Surface Reflectance and TOA Brightness Daily Global 30m v2.0'}\n",
            "Spatial coverage: {'HorizontalSpatialDomain': {'Geometry': {'GPolygons': [{'Boundary': {'Points': [{'Longitude': -89.82661214, 'Latitude': 28.80213717}, {'Longitude': -89.79583778, 'Latitude': 29.79160422}, {'Longitude': -90.93082361, 'Latitude': 29.81426153}, {'Longitude': -90.95072084, 'Latitude': 28.82389994}, {'Longitude': -89.82661214, 'Latitude': 28.80213717}]}}]}}}\n",
            "Temporal coverage: {'RangeDateTime': {'BeginningDateTime': '2024-06-15T16:31:19.154Z', 'EndingDateTime': '2024-06-15T16:31:43.045Z'}}\n",
            "Size(MB): 162.89949798583984\n",
            "Data: ['https://data.lpdaac.earthdatacloud.nasa.gov/lp-prod-protected/HLSL30.020/HLS.L30.T15RYN.2024167T163119.v2.0/HLS.L30.T15RYN.2024167T163119.v2.0.SAA.tif', 'https://data.lpdaac.earthdatacloud.nasa.gov/lp-prod-protected/HLSL30.020/HLS.L30.T15RYN.2024167T163119.v2.0/HLS.L30.T15RYN.2024167T163119.v2.0.VAA.tif', 'https://data.lpdaac.earthdatacloud.nasa.gov/lp-prod-protected/HLSL30.020/HLS.L30.T15RYN.2024167T163119.v2.0/HLS.L30.T15RYN.2024167T163119.v2.0.B05.tif', 'https://data.lpdaac.earthdatacloud.nasa.gov/lp-prod-protected/HLSL30.020/HLS.L30.T15RYN.2024167T163119.v2.0/HLS.L30.T15RYN.2024167T163119.v2.0.B07.tif', 'https://data.lpdaac.earthdatacloud.nasa.gov/lp-prod-protected/HLSL30.020/HLS.L30.T15RYN.2024167T163119.v2.0/HLS.L30.T15RYN.2024167T163119.v2.0.B02.tif', 'https://data.lpdaac.earthdatacloud.nasa.gov/lp-prod-protected/HLSL30.020/HLS.L30.T15RYN.2024167T163119.v2.0/HLS.L30.T15RYN.2024167T163119.v2.0.B03.tif', 'https://data.lpdaac.earthdatacloud.nasa.gov/lp-prod-protected/HLSL30.020/HLS.L30.T15RYN.2024167T163119.v2.0/HLS.L30.T15RYN.2024167T163119.v2.0.SZA.tif', 'https://data.lpdaac.earthdatacloud.nasa.gov/lp-prod-protected/HLSL30.020/HLS.L30.T15RYN.2024167T163119.v2.0/HLS.L30.T15RYN.2024167T163119.v2.0.B01.tif', 'https://data.lpdaac.earthdatacloud.nasa.gov/lp-prod-protected/HLSL30.020/HLS.L30.T15RYN.2024167T163119.v2.0/HLS.L30.T15RYN.2024167T163119.v2.0.B09.tif', 'https://data.lpdaac.earthdatacloud.nasa.gov/lp-prod-protected/HLSL30.020/HLS.L30.T15RYN.2024167T163119.v2.0/HLS.L30.T15RYN.2024167T163119.v2.0.VZA.tif', 'https://data.lpdaac.earthdatacloud.nasa.gov/lp-prod-protected/HLSL30.020/HLS.L30.T15RYN.2024167T163119.v2.0/HLS.L30.T15RYN.2024167T163119.v2.0.B10.tif', 'https://data.lpdaac.earthdatacloud.nasa.gov/lp-prod-protected/HLSL30.020/HLS.L30.T15RYN.2024167T163119.v2.0/HLS.L30.T15RYN.2024167T163119.v2.0.B04.tif', 'https://data.lpdaac.earthdatacloud.nasa.gov/lp-prod-protected/HLSL30.020/HLS.L30.T15RYN.2024167T163119.v2.0/HLS.L30.T15RYN.2024167T163119.v2.0.Fmask.tif', 'https://data.lpdaac.earthdatacloud.nasa.gov/lp-prod-protected/HLSL30.020/HLS.L30.T15RYN.2024167T163119.v2.0/HLS.L30.T15RYN.2024167T163119.v2.0.B06.tif', 'https://data.lpdaac.earthdatacloud.nasa.gov/lp-prod-protected/HLSL30.020/HLS.L30.T15RYN.2024167T163119.v2.0/HLS.L30.T15RYN.2024167T163119.v2.0.B11.tif'], Collection: {'EntryTitle': 'HLS Landsat Operational Land Imager Surface Reflectance and TOA Brightness Daily Global 30m v2.0'}\n",
            "Spatial coverage: {'HorizontalSpatialDomain': {'Geometry': {'GPolygons': [{'Boundary': {'Points': [{'Longitude': -90.07372506, 'Latitude': 28.80444525}, {'Longitude': -89.54186829, 'Latitude': 28.81551687}, {'Longitude': -89.27404072, 'Latitude': 29.81089346}, {'Longitude': -90.10353675, 'Latitude': 29.79400715}, {'Longitude': -90.07372506, 'Latitude': 28.80444525}]}}]}}}\n",
            "Temporal coverage: {'RangeDateTime': {'BeginningDateTime': '2024-06-23T16:31:21.277Z', 'EndingDateTime': '2024-06-23T16:31:45.168Z'}}\n",
            "Size(MB): 104.84857845306396\n",
            "Data: ['https://data.lpdaac.earthdatacloud.nasa.gov/lp-prod-protected/HLSL30.020/HLS.L30.T16RBT.2024175T163121.v2.0/HLS.L30.T16RBT.2024175T163121.v2.0.VZA.tif', 'https://data.lpdaac.earthdatacloud.nasa.gov/lp-prod-protected/HLSL30.020/HLS.L30.T16RBT.2024175T163121.v2.0/HLS.L30.T16RBT.2024175T163121.v2.0.Fmask.tif', 'https://data.lpdaac.earthdatacloud.nasa.gov/lp-prod-protected/HLSL30.020/HLS.L30.T16RBT.2024175T163121.v2.0/HLS.L30.T16RBT.2024175T163121.v2.0.SAA.tif', 'https://data.lpdaac.earthdatacloud.nasa.gov/lp-prod-protected/HLSL30.020/HLS.L30.T16RBT.2024175T163121.v2.0/HLS.L30.T16RBT.2024175T163121.v2.0.B02.tif', 'https://data.lpdaac.earthdatacloud.nasa.gov/lp-prod-protected/HLSL30.020/HLS.L30.T16RBT.2024175T163121.v2.0/HLS.L30.T16RBT.2024175T163121.v2.0.B10.tif', 'https://data.lpdaac.earthdatacloud.nasa.gov/lp-prod-protected/HLSL30.020/HLS.L30.T16RBT.2024175T163121.v2.0/HLS.L30.T16RBT.2024175T163121.v2.0.B09.tif', 'https://data.lpdaac.earthdatacloud.nasa.gov/lp-prod-protected/HLSL30.020/HLS.L30.T16RBT.2024175T163121.v2.0/HLS.L30.T16RBT.2024175T163121.v2.0.B05.tif', 'https://data.lpdaac.earthdatacloud.nasa.gov/lp-prod-protected/HLSL30.020/HLS.L30.T16RBT.2024175T163121.v2.0/HLS.L30.T16RBT.2024175T163121.v2.0.SZA.tif', 'https://data.lpdaac.earthdatacloud.nasa.gov/lp-prod-protected/HLSL30.020/HLS.L30.T16RBT.2024175T163121.v2.0/HLS.L30.T16RBT.2024175T163121.v2.0.B03.tif', 'https://data.lpdaac.earthdatacloud.nasa.gov/lp-prod-protected/HLSL30.020/HLS.L30.T16RBT.2024175T163121.v2.0/HLS.L30.T16RBT.2024175T163121.v2.0.B04.tif', 'https://data.lpdaac.earthdatacloud.nasa.gov/lp-prod-protected/HLSL30.020/HLS.L30.T16RBT.2024175T163121.v2.0/HLS.L30.T16RBT.2024175T163121.v2.0.B01.tif', 'https://data.lpdaac.earthdatacloud.nasa.gov/lp-prod-protected/HLSL30.020/HLS.L30.T16RBT.2024175T163121.v2.0/HLS.L30.T16RBT.2024175T163121.v2.0.VAA.tif', 'https://data.lpdaac.earthdatacloud.nasa.gov/lp-prod-protected/HLSL30.020/HLS.L30.T16RBT.2024175T163121.v2.0/HLS.L30.T16RBT.2024175T163121.v2.0.B07.tif', 'https://data.lpdaac.earthdatacloud.nasa.gov/lp-prod-protected/HLSL30.020/HLS.L30.T16RBT.2024175T163121.v2.0/HLS.L30.T16RBT.2024175T163121.v2.0.B11.tif', 'https://data.lpdaac.earthdatacloud.nasa.gov/lp-prod-protected/HLSL30.020/HLS.L30.T16RBT.2024175T163121.v2.0/HLS.L30.T16RBT.2024175T163121.v2.0.B06.tif'], Collection: {'EntryTitle': 'HLS Landsat Operational Land Imager Surface Reflectance and TOA Brightness Daily Global 30m v2.0'}\n",
            "Spatial coverage: {'HorizontalSpatialDomain': {'Geometry': {'GPolygons': [{'Boundary': {'Points': [{'Longitude': -89.82661214, 'Latitude': 28.80213717}, {'Longitude': -89.79583778, 'Latitude': 29.79160422}, {'Longitude': -90.93082361, 'Latitude': 29.81426153}, {'Longitude': -90.95072084, 'Latitude': 28.82389994}, {'Longitude': -89.82661214, 'Latitude': 28.80213717}]}}]}}}\n",
            "Temporal coverage: {'RangeDateTime': {'BeginningDateTime': '2024-06-23T16:31:21.277Z', 'EndingDateTime': '2024-06-23T16:31:45.168Z'}}\n",
            "Size(MB): 170.80303192138672\n",
            "Data: ['https://data.lpdaac.earthdatacloud.nasa.gov/lp-prod-protected/HLSL30.020/HLS.L30.T15RYN.2024175T163121.v2.0/HLS.L30.T15RYN.2024175T163121.v2.0.B10.tif', 'https://data.lpdaac.earthdatacloud.nasa.gov/lp-prod-protected/HLSL30.020/HLS.L30.T15RYN.2024175T163121.v2.0/HLS.L30.T15RYN.2024175T163121.v2.0.B09.tif', 'https://data.lpdaac.earthdatacloud.nasa.gov/lp-prod-protected/HLSL30.020/HLS.L30.T15RYN.2024175T163121.v2.0/HLS.L30.T15RYN.2024175T163121.v2.0.VAA.tif', 'https://data.lpdaac.earthdatacloud.nasa.gov/lp-prod-protected/HLSL30.020/HLS.L30.T15RYN.2024175T163121.v2.0/HLS.L30.T15RYN.2024175T163121.v2.0.B06.tif', 'https://data.lpdaac.earthdatacloud.nasa.gov/lp-prod-protected/HLSL30.020/HLS.L30.T15RYN.2024175T163121.v2.0/HLS.L30.T15RYN.2024175T163121.v2.0.B05.tif', 'https://data.lpdaac.earthdatacloud.nasa.gov/lp-prod-protected/HLSL30.020/HLS.L30.T15RYN.2024175T163121.v2.0/HLS.L30.T15RYN.2024175T163121.v2.0.B02.tif', 'https://data.lpdaac.earthdatacloud.nasa.gov/lp-prod-protected/HLSL30.020/HLS.L30.T15RYN.2024175T163121.v2.0/HLS.L30.T15RYN.2024175T163121.v2.0.Fmask.tif', 'https://data.lpdaac.earthdatacloud.nasa.gov/lp-prod-protected/HLSL30.020/HLS.L30.T15RYN.2024175T163121.v2.0/HLS.L30.T15RYN.2024175T163121.v2.0.SZA.tif', 'https://data.lpdaac.earthdatacloud.nasa.gov/lp-prod-protected/HLSL30.020/HLS.L30.T15RYN.2024175T163121.v2.0/HLS.L30.T15RYN.2024175T163121.v2.0.B11.tif', 'https://data.lpdaac.earthdatacloud.nasa.gov/lp-prod-protected/HLSL30.020/HLS.L30.T15RYN.2024175T163121.v2.0/HLS.L30.T15RYN.2024175T163121.v2.0.VZA.tif', 'https://data.lpdaac.earthdatacloud.nasa.gov/lp-prod-protected/HLSL30.020/HLS.L30.T15RYN.2024175T163121.v2.0/HLS.L30.T15RYN.2024175T163121.v2.0.SAA.tif', 'https://data.lpdaac.earthdatacloud.nasa.gov/lp-prod-protected/HLSL30.020/HLS.L30.T15RYN.2024175T163121.v2.0/HLS.L30.T15RYN.2024175T163121.v2.0.B04.tif', 'https://data.lpdaac.earthdatacloud.nasa.gov/lp-prod-protected/HLSL30.020/HLS.L30.T15RYN.2024175T163121.v2.0/HLS.L30.T15RYN.2024175T163121.v2.0.B01.tif', 'https://data.lpdaac.earthdatacloud.nasa.gov/lp-prod-protected/HLSL30.020/HLS.L30.T15RYN.2024175T163121.v2.0/HLS.L30.T15RYN.2024175T163121.v2.0.B07.tif', 'https://data.lpdaac.earthdatacloud.nasa.gov/lp-prod-protected/HLSL30.020/HLS.L30.T15RYN.2024175T163121.v2.0/HLS.L30.T15RYN.2024175T163121.v2.0.B03.tif'], Collection: {'EntryTitle': 'HLS Landsat Operational Land Imager Surface Reflectance and TOA Brightness Daily Global 30m v2.0'}\n",
            "Spatial coverage: {'HorizontalSpatialDomain': {'Geometry': {'GPolygons': [{'Boundary': {'Points': [{'Longitude': -89.79864173, 'Latitude': 29.70347853}, {'Longitude': -89.76643746, 'Latitude': 30.69278312}, {'Longitude': -90.91181412, 'Latitude': 30.71627038}, {'Longitude': -90.93263654, 'Latitude': 29.72605548}, {'Longitude': -89.79864173, 'Latitude': 29.70347853}]}}]}}}\n",
            "Temporal coverage: {'RangeDateTime': {'BeginningDateTime': '2024-06-23T16:31:21.277Z', 'EndingDateTime': '2024-06-23T16:31:21.277Z'}}\n",
            "Size(MB): 179.39665699005127\n",
            "Data: ['https://data.lpdaac.earthdatacloud.nasa.gov/lp-prod-protected/HLSL30.020/HLS.L30.T15RYP.2024175T163121.v2.0/HLS.L30.T15RYP.2024175T163121.v2.0.B06.tif', 'https://data.lpdaac.earthdatacloud.nasa.gov/lp-prod-protected/HLSL30.020/HLS.L30.T15RYP.2024175T163121.v2.0/HLS.L30.T15RYP.2024175T163121.v2.0.B09.tif', 'https://data.lpdaac.earthdatacloud.nasa.gov/lp-prod-protected/HLSL30.020/HLS.L30.T15RYP.2024175T163121.v2.0/HLS.L30.T15RYP.2024175T163121.v2.0.B07.tif', 'https://data.lpdaac.earthdatacloud.nasa.gov/lp-prod-protected/HLSL30.020/HLS.L30.T15RYP.2024175T163121.v2.0/HLS.L30.T15RYP.2024175T163121.v2.0.VZA.tif', 'https://data.lpdaac.earthdatacloud.nasa.gov/lp-prod-protected/HLSL30.020/HLS.L30.T15RYP.2024175T163121.v2.0/HLS.L30.T15RYP.2024175T163121.v2.0.Fmask.tif', 'https://data.lpdaac.earthdatacloud.nasa.gov/lp-prod-protected/HLSL30.020/HLS.L30.T15RYP.2024175T163121.v2.0/HLS.L30.T15RYP.2024175T163121.v2.0.B03.tif', 'https://data.lpdaac.earthdatacloud.nasa.gov/lp-prod-protected/HLSL30.020/HLS.L30.T15RYP.2024175T163121.v2.0/HLS.L30.T15RYP.2024175T163121.v2.0.SZA.tif', 'https://data.lpdaac.earthdatacloud.nasa.gov/lp-prod-protected/HLSL30.020/HLS.L30.T15RYP.2024175T163121.v2.0/HLS.L30.T15RYP.2024175T163121.v2.0.B01.tif', 'https://data.lpdaac.earthdatacloud.nasa.gov/lp-prod-protected/HLSL30.020/HLS.L30.T15RYP.2024175T163121.v2.0/HLS.L30.T15RYP.2024175T163121.v2.0.SAA.tif', 'https://data.lpdaac.earthdatacloud.nasa.gov/lp-prod-protected/HLSL30.020/HLS.L30.T15RYP.2024175T163121.v2.0/HLS.L30.T15RYP.2024175T163121.v2.0.B04.tif', 'https://data.lpdaac.earthdatacloud.nasa.gov/lp-prod-protected/HLSL30.020/HLS.L30.T15RYP.2024175T163121.v2.0/HLS.L30.T15RYP.2024175T163121.v2.0.B05.tif', 'https://data.lpdaac.earthdatacloud.nasa.gov/lp-prod-protected/HLSL30.020/HLS.L30.T15RYP.2024175T163121.v2.0/HLS.L30.T15RYP.2024175T163121.v2.0.B02.tif', 'https://data.lpdaac.earthdatacloud.nasa.gov/lp-prod-protected/HLSL30.020/HLS.L30.T15RYP.2024175T163121.v2.0/HLS.L30.T15RYP.2024175T163121.v2.0.B11.tif', 'https://data.lpdaac.earthdatacloud.nasa.gov/lp-prod-protected/HLSL30.020/HLS.L30.T15RYP.2024175T163121.v2.0/HLS.L30.T15RYP.2024175T163121.v2.0.B10.tif', 'https://data.lpdaac.earthdatacloud.nasa.gov/lp-prod-protected/HLSL30.020/HLS.L30.T15RYP.2024175T163121.v2.0/HLS.L30.T15RYP.2024175T163121.v2.0.VAA.tif'], Collection: {'EntryTitle': 'HLS Landsat Operational Land Imager Surface Reflectance and TOA Brightness Daily Global 30m v2.0'}\n",
            "Spatial coverage: {'HorizontalSpatialDomain': {'Geometry': {'GPolygons': [{'Boundary': {'Points': [{'Longitude': -90.10082051, 'Latitude': 29.70587294}, {'Longitude': -89.29777388, 'Latitude': 29.72225515}, {'Longitude': -89.02660507, 'Latitude': 30.71724668}, {'Longitude': -90.13201749, 'Latitude': 30.69527405}, {'Longitude': -90.10082051, 'Latitude': 29.70587294}]}}]}}}\n",
            "Temporal coverage: {'RangeDateTime': {'BeginningDateTime': '2024-06-23T16:31:21.277Z', 'EndingDateTime': '2024-06-23T16:31:21.277Z'}}\n",
            "Size(MB): 151.0251693725586\n",
            "Data: ['https://data.lpdaac.earthdatacloud.nasa.gov/lp-prod-protected/HLSL30.020/HLS.L30.T16RBU.2024175T163121.v2.0/HLS.L30.T16RBU.2024175T163121.v2.0.VZA.tif', 'https://data.lpdaac.earthdatacloud.nasa.gov/lp-prod-protected/HLSL30.020/HLS.L30.T16RBU.2024175T163121.v2.0/HLS.L30.T16RBU.2024175T163121.v2.0.SAA.tif', 'https://data.lpdaac.earthdatacloud.nasa.gov/lp-prod-protected/HLSL30.020/HLS.L30.T16RBU.2024175T163121.v2.0/HLS.L30.T16RBU.2024175T163121.v2.0.B06.tif', 'https://data.lpdaac.earthdatacloud.nasa.gov/lp-prod-protected/HLSL30.020/HLS.L30.T16RBU.2024175T163121.v2.0/HLS.L30.T16RBU.2024175T163121.v2.0.B01.tif', 'https://data.lpdaac.earthdatacloud.nasa.gov/lp-prod-protected/HLSL30.020/HLS.L30.T16RBU.2024175T163121.v2.0/HLS.L30.T16RBU.2024175T163121.v2.0.B04.tif', 'https://data.lpdaac.earthdatacloud.nasa.gov/lp-prod-protected/HLSL30.020/HLS.L30.T16RBU.2024175T163121.v2.0/HLS.L30.T16RBU.2024175T163121.v2.0.VAA.tif', 'https://data.lpdaac.earthdatacloud.nasa.gov/lp-prod-protected/HLSL30.020/HLS.L30.T16RBU.2024175T163121.v2.0/HLS.L30.T16RBU.2024175T163121.v2.0.B10.tif', 'https://data.lpdaac.earthdatacloud.nasa.gov/lp-prod-protected/HLSL30.020/HLS.L30.T16RBU.2024175T163121.v2.0/HLS.L30.T16RBU.2024175T163121.v2.0.B03.tif', 'https://data.lpdaac.earthdatacloud.nasa.gov/lp-prod-protected/HLSL30.020/HLS.L30.T16RBU.2024175T163121.v2.0/HLS.L30.T16RBU.2024175T163121.v2.0.B05.tif', 'https://data.lpdaac.earthdatacloud.nasa.gov/lp-prod-protected/HLSL30.020/HLS.L30.T16RBU.2024175T163121.v2.0/HLS.L30.T16RBU.2024175T163121.v2.0.B07.tif', 'https://data.lpdaac.earthdatacloud.nasa.gov/lp-prod-protected/HLSL30.020/HLS.L30.T16RBU.2024175T163121.v2.0/HLS.L30.T16RBU.2024175T163121.v2.0.B09.tif', 'https://data.lpdaac.earthdatacloud.nasa.gov/lp-prod-protected/HLSL30.020/HLS.L30.T16RBU.2024175T163121.v2.0/HLS.L30.T16RBU.2024175T163121.v2.0.B11.tif', 'https://data.lpdaac.earthdatacloud.nasa.gov/lp-prod-protected/HLSL30.020/HLS.L30.T16RBU.2024175T163121.v2.0/HLS.L30.T16RBU.2024175T163121.v2.0.B02.tif', 'https://data.lpdaac.earthdatacloud.nasa.gov/lp-prod-protected/HLSL30.020/HLS.L30.T16RBU.2024175T163121.v2.0/HLS.L30.T16RBU.2024175T163121.v2.0.Fmask.tif', 'https://data.lpdaac.earthdatacloud.nasa.gov/lp-prod-protected/HLSL30.020/HLS.L30.T16RBU.2024175T163121.v2.0/HLS.L30.T16RBU.2024175T163121.v2.0.SZA.tif'], Collection: {'EntryTitle': 'HLS Landsat Operational Land Imager Surface Reflectance and TOA Brightness Daily Global 30m v2.0'}\n",
            "Spatial coverage: {'HorizontalSpatialDomain': {'Geometry': {'GPolygons': [{'Boundary': {'Points': [{'Longitude': -90.07372506, 'Latitude': 28.80444525}, {'Longitude': -89.54340409, 'Latitude': 28.81548792}, {'Longitude': -89.27528159, 'Latitude': 29.81087209}, {'Longitude': -90.10353675, 'Latitude': 29.79400715}, {'Longitude': -90.07372506, 'Latitude': 28.80444525}]}}]}}}\n",
            "Temporal coverage: {'RangeDateTime': {'BeginningDateTime': '2024-07-01T16:31:17.338Z', 'EndingDateTime': '2024-07-01T16:31:41.238Z'}}\n",
            "Size(MB): 98.90982341766357\n",
            "Data: ['https://data.lpdaac.earthdatacloud.nasa.gov/lp-prod-protected/HLSL30.020/HLS.L30.T16RBT.2024183T163117.v2.0/HLS.L30.T16RBT.2024183T163117.v2.0.B09.tif', 'https://data.lpdaac.earthdatacloud.nasa.gov/lp-prod-protected/HLSL30.020/HLS.L30.T16RBT.2024183T163117.v2.0/HLS.L30.T16RBT.2024183T163117.v2.0.SZA.tif', 'https://data.lpdaac.earthdatacloud.nasa.gov/lp-prod-protected/HLSL30.020/HLS.L30.T16RBT.2024183T163117.v2.0/HLS.L30.T16RBT.2024183T163117.v2.0.B04.tif', 'https://data.lpdaac.earthdatacloud.nasa.gov/lp-prod-protected/HLSL30.020/HLS.L30.T16RBT.2024183T163117.v2.0/HLS.L30.T16RBT.2024183T163117.v2.0.Fmask.tif', 'https://data.lpdaac.earthdatacloud.nasa.gov/lp-prod-protected/HLSL30.020/HLS.L30.T16RBT.2024183T163117.v2.0/HLS.L30.T16RBT.2024183T163117.v2.0.SAA.tif', 'https://data.lpdaac.earthdatacloud.nasa.gov/lp-prod-protected/HLSL30.020/HLS.L30.T16RBT.2024183T163117.v2.0/HLS.L30.T16RBT.2024183T163117.v2.0.B11.tif', 'https://data.lpdaac.earthdatacloud.nasa.gov/lp-prod-protected/HLSL30.020/HLS.L30.T16RBT.2024183T163117.v2.0/HLS.L30.T16RBT.2024183T163117.v2.0.B06.tif', 'https://data.lpdaac.earthdatacloud.nasa.gov/lp-prod-protected/HLSL30.020/HLS.L30.T16RBT.2024183T163117.v2.0/HLS.L30.T16RBT.2024183T163117.v2.0.VAA.tif', 'https://data.lpdaac.earthdatacloud.nasa.gov/lp-prod-protected/HLSL30.020/HLS.L30.T16RBT.2024183T163117.v2.0/HLS.L30.T16RBT.2024183T163117.v2.0.VZA.tif', 'https://data.lpdaac.earthdatacloud.nasa.gov/lp-prod-protected/HLSL30.020/HLS.L30.T16RBT.2024183T163117.v2.0/HLS.L30.T16RBT.2024183T163117.v2.0.B07.tif', 'https://data.lpdaac.earthdatacloud.nasa.gov/lp-prod-protected/HLSL30.020/HLS.L30.T16RBT.2024183T163117.v2.0/HLS.L30.T16RBT.2024183T163117.v2.0.B05.tif', 'https://data.lpdaac.earthdatacloud.nasa.gov/lp-prod-protected/HLSL30.020/HLS.L30.T16RBT.2024183T163117.v2.0/HLS.L30.T16RBT.2024183T163117.v2.0.B02.tif', 'https://data.lpdaac.earthdatacloud.nasa.gov/lp-prod-protected/HLSL30.020/HLS.L30.T16RBT.2024183T163117.v2.0/HLS.L30.T16RBT.2024183T163117.v2.0.B10.tif', 'https://data.lpdaac.earthdatacloud.nasa.gov/lp-prod-protected/HLSL30.020/HLS.L30.T16RBT.2024183T163117.v2.0/HLS.L30.T16RBT.2024183T163117.v2.0.B01.tif', 'https://data.lpdaac.earthdatacloud.nasa.gov/lp-prod-protected/HLSL30.020/HLS.L30.T16RBT.2024183T163117.v2.0/HLS.L30.T16RBT.2024183T163117.v2.0.B03.tif'], Collection: {'EntryTitle': 'HLS Landsat Operational Land Imager Surface Reflectance and TOA Brightness Daily Global 30m v2.0'}\n",
            "Spatial coverage: {'HorizontalSpatialDomain': {'Geometry': {'GPolygons': [{'Boundary': {'Points': [{'Longitude': -89.79864173, 'Latitude': 29.70347853}, {'Longitude': -89.76643746, 'Latitude': 30.69278312}, {'Longitude': -90.91181412, 'Latitude': 30.71627038}, {'Longitude': -90.93263654, 'Latitude': 29.72605548}, {'Longitude': -89.79864173, 'Latitude': 29.70347853}]}}]}}}\n",
            "Temporal coverage: {'RangeDateTime': {'BeginningDateTime': '2024-07-01T16:31:17.338Z', 'EndingDateTime': '2024-07-01T16:31:17.338Z'}}\n",
            "Size(MB): 170.83516216278076\n",
            "Data: ['https://data.lpdaac.earthdatacloud.nasa.gov/lp-prod-protected/HLSL30.020/HLS.L30.T15RYP.2024183T163117.v2.0/HLS.L30.T15RYP.2024183T163117.v2.0.B11.tif', 'https://data.lpdaac.earthdatacloud.nasa.gov/lp-prod-protected/HLSL30.020/HLS.L30.T15RYP.2024183T163117.v2.0/HLS.L30.T15RYP.2024183T163117.v2.0.Fmask.tif', 'https://data.lpdaac.earthdatacloud.nasa.gov/lp-prod-protected/HLSL30.020/HLS.L30.T15RYP.2024183T163117.v2.0/HLS.L30.T15RYP.2024183T163117.v2.0.B06.tif', 'https://data.lpdaac.earthdatacloud.nasa.gov/lp-prod-protected/HLSL30.020/HLS.L30.T15RYP.2024183T163117.v2.0/HLS.L30.T15RYP.2024183T163117.v2.0.VZA.tif', 'https://data.lpdaac.earthdatacloud.nasa.gov/lp-prod-protected/HLSL30.020/HLS.L30.T15RYP.2024183T163117.v2.0/HLS.L30.T15RYP.2024183T163117.v2.0.B09.tif', 'https://data.lpdaac.earthdatacloud.nasa.gov/lp-prod-protected/HLSL30.020/HLS.L30.T15RYP.2024183T163117.v2.0/HLS.L30.T15RYP.2024183T163117.v2.0.SAA.tif', 'https://data.lpdaac.earthdatacloud.nasa.gov/lp-prod-protected/HLSL30.020/HLS.L30.T15RYP.2024183T163117.v2.0/HLS.L30.T15RYP.2024183T163117.v2.0.B02.tif', 'https://data.lpdaac.earthdatacloud.nasa.gov/lp-prod-protected/HLSL30.020/HLS.L30.T15RYP.2024183T163117.v2.0/HLS.L30.T15RYP.2024183T163117.v2.0.B07.tif', 'https://data.lpdaac.earthdatacloud.nasa.gov/lp-prod-protected/HLSL30.020/HLS.L30.T15RYP.2024183T163117.v2.0/HLS.L30.T15RYP.2024183T163117.v2.0.B03.tif', 'https://data.lpdaac.earthdatacloud.nasa.gov/lp-prod-protected/HLSL30.020/HLS.L30.T15RYP.2024183T163117.v2.0/HLS.L30.T15RYP.2024183T163117.v2.0.B04.tif', 'https://data.lpdaac.earthdatacloud.nasa.gov/lp-prod-protected/HLSL30.020/HLS.L30.T15RYP.2024183T163117.v2.0/HLS.L30.T15RYP.2024183T163117.v2.0.VAA.tif', 'https://data.lpdaac.earthdatacloud.nasa.gov/lp-prod-protected/HLSL30.020/HLS.L30.T15RYP.2024183T163117.v2.0/HLS.L30.T15RYP.2024183T163117.v2.0.B05.tif', 'https://data.lpdaac.earthdatacloud.nasa.gov/lp-prod-protected/HLSL30.020/HLS.L30.T15RYP.2024183T163117.v2.0/HLS.L30.T15RYP.2024183T163117.v2.0.B01.tif', 'https://data.lpdaac.earthdatacloud.nasa.gov/lp-prod-protected/HLSL30.020/HLS.L30.T15RYP.2024183T163117.v2.0/HLS.L30.T15RYP.2024183T163117.v2.0.SZA.tif', 'https://data.lpdaac.earthdatacloud.nasa.gov/lp-prod-protected/HLSL30.020/HLS.L30.T15RYP.2024183T163117.v2.0/HLS.L30.T15RYP.2024183T163117.v2.0.B10.tif'], Collection: {'EntryTitle': 'HLS Landsat Operational Land Imager Surface Reflectance and TOA Brightness Daily Global 30m v2.0'}\n",
            "Spatial coverage: {'HorizontalSpatialDomain': {'Geometry': {'GPolygons': [{'Boundary': {'Points': [{'Longitude': -90.10082051, 'Latitude': 29.70587294}, {'Longitude': -89.29932357, 'Latitude': 29.72222823}, {'Longitude': -89.02785759, 'Latitude': 30.71722711}, {'Longitude': -90.13201749, 'Latitude': 30.69527405}, {'Longitude': -90.10082051, 'Latitude': 29.70587294}]}}]}}}\n",
            "Temporal coverage: {'RangeDateTime': {'BeginningDateTime': '2024-07-01T16:31:17.338Z', 'EndingDateTime': '2024-07-01T16:31:17.338Z'}}\n",
            "Size(MB): 142.1349582672119\n",
            "Data: ['https://data.lpdaac.earthdatacloud.nasa.gov/lp-prod-protected/HLSL30.020/HLS.L30.T16RBU.2024183T163117.v2.0/HLS.L30.T16RBU.2024183T163117.v2.0.B09.tif', 'https://data.lpdaac.earthdatacloud.nasa.gov/lp-prod-protected/HLSL30.020/HLS.L30.T16RBU.2024183T163117.v2.0/HLS.L30.T16RBU.2024183T163117.v2.0.B07.tif', 'https://data.lpdaac.earthdatacloud.nasa.gov/lp-prod-protected/HLSL30.020/HLS.L30.T16RBU.2024183T163117.v2.0/HLS.L30.T16RBU.2024183T163117.v2.0.B02.tif', 'https://data.lpdaac.earthdatacloud.nasa.gov/lp-prod-protected/HLSL30.020/HLS.L30.T16RBU.2024183T163117.v2.0/HLS.L30.T16RBU.2024183T163117.v2.0.B03.tif', 'https://data.lpdaac.earthdatacloud.nasa.gov/lp-prod-protected/HLSL30.020/HLS.L30.T16RBU.2024183T163117.v2.0/HLS.L30.T16RBU.2024183T163117.v2.0.Fmask.tif', 'https://data.lpdaac.earthdatacloud.nasa.gov/lp-prod-protected/HLSL30.020/HLS.L30.T16RBU.2024183T163117.v2.0/HLS.L30.T16RBU.2024183T163117.v2.0.SAA.tif', 'https://data.lpdaac.earthdatacloud.nasa.gov/lp-prod-protected/HLSL30.020/HLS.L30.T16RBU.2024183T163117.v2.0/HLS.L30.T16RBU.2024183T163117.v2.0.B11.tif', 'https://data.lpdaac.earthdatacloud.nasa.gov/lp-prod-protected/HLSL30.020/HLS.L30.T16RBU.2024183T163117.v2.0/HLS.L30.T16RBU.2024183T163117.v2.0.B10.tif', 'https://data.lpdaac.earthdatacloud.nasa.gov/lp-prod-protected/HLSL30.020/HLS.L30.T16RBU.2024183T163117.v2.0/HLS.L30.T16RBU.2024183T163117.v2.0.B06.tif', 'https://data.lpdaac.earthdatacloud.nasa.gov/lp-prod-protected/HLSL30.020/HLS.L30.T16RBU.2024183T163117.v2.0/HLS.L30.T16RBU.2024183T163117.v2.0.VAA.tif', 'https://data.lpdaac.earthdatacloud.nasa.gov/lp-prod-protected/HLSL30.020/HLS.L30.T16RBU.2024183T163117.v2.0/HLS.L30.T16RBU.2024183T163117.v2.0.B01.tif', 'https://data.lpdaac.earthdatacloud.nasa.gov/lp-prod-protected/HLSL30.020/HLS.L30.T16RBU.2024183T163117.v2.0/HLS.L30.T16RBU.2024183T163117.v2.0.VZA.tif', 'https://data.lpdaac.earthdatacloud.nasa.gov/lp-prod-protected/HLSL30.020/HLS.L30.T16RBU.2024183T163117.v2.0/HLS.L30.T16RBU.2024183T163117.v2.0.SZA.tif', 'https://data.lpdaac.earthdatacloud.nasa.gov/lp-prod-protected/HLSL30.020/HLS.L30.T16RBU.2024183T163117.v2.0/HLS.L30.T16RBU.2024183T163117.v2.0.B04.tif', 'https://data.lpdaac.earthdatacloud.nasa.gov/lp-prod-protected/HLSL30.020/HLS.L30.T16RBU.2024183T163117.v2.0/HLS.L30.T16RBU.2024183T163117.v2.0.B05.tif'], Collection: {'EntryTitle': 'HLS Landsat Operational Land Imager Surface Reflectance and TOA Brightness Daily Global 30m v2.0'}\n",
            "Spatial coverage: {'HorizontalSpatialDomain': {'Geometry': {'GPolygons': [{'Boundary': {'Points': [{'Longitude': -89.82661214, 'Latitude': 28.80213717}, {'Longitude': -89.79583778, 'Latitude': 29.79160422}, {'Longitude': -90.93082361, 'Latitude': 29.81426153}, {'Longitude': -90.95072084, 'Latitude': 28.82389994}, {'Longitude': -89.82661214, 'Latitude': 28.80213717}]}}]}}}\n",
            "Temporal coverage: {'RangeDateTime': {'BeginningDateTime': '2024-07-01T16:31:17.338Z', 'EndingDateTime': '2024-07-01T16:31:41.238Z'}}\n",
            "Size(MB): 158.23029136657715\n",
            "Data: ['https://data.lpdaac.earthdatacloud.nasa.gov/lp-prod-protected/HLSL30.020/HLS.L30.T15RYN.2024183T163117.v2.0/HLS.L30.T15RYN.2024183T163117.v2.0.B11.tif', 'https://data.lpdaac.earthdatacloud.nasa.gov/lp-prod-protected/HLSL30.020/HLS.L30.T15RYN.2024183T163117.v2.0/HLS.L30.T15RYN.2024183T163117.v2.0.B09.tif', 'https://data.lpdaac.earthdatacloud.nasa.gov/lp-prod-protected/HLSL30.020/HLS.L30.T15RYN.2024183T163117.v2.0/HLS.L30.T15RYN.2024183T163117.v2.0.B05.tif', 'https://data.lpdaac.earthdatacloud.nasa.gov/lp-prod-protected/HLSL30.020/HLS.L30.T15RYN.2024183T163117.v2.0/HLS.L30.T15RYN.2024183T163117.v2.0.Fmask.tif', 'https://data.lpdaac.earthdatacloud.nasa.gov/lp-prod-protected/HLSL30.020/HLS.L30.T15RYN.2024183T163117.v2.0/HLS.L30.T15RYN.2024183T163117.v2.0.SZA.tif', 'https://data.lpdaac.earthdatacloud.nasa.gov/lp-prod-protected/HLSL30.020/HLS.L30.T15RYN.2024183T163117.v2.0/HLS.L30.T15RYN.2024183T163117.v2.0.B07.tif', 'https://data.lpdaac.earthdatacloud.nasa.gov/lp-prod-protected/HLSL30.020/HLS.L30.T15RYN.2024183T163117.v2.0/HLS.L30.T15RYN.2024183T163117.v2.0.B01.tif', 'https://data.lpdaac.earthdatacloud.nasa.gov/lp-prod-protected/HLSL30.020/HLS.L30.T15RYN.2024183T163117.v2.0/HLS.L30.T15RYN.2024183T163117.v2.0.VZA.tif', 'https://data.lpdaac.earthdatacloud.nasa.gov/lp-prod-protected/HLSL30.020/HLS.L30.T15RYN.2024183T163117.v2.0/HLS.L30.T15RYN.2024183T163117.v2.0.B10.tif', 'https://data.lpdaac.earthdatacloud.nasa.gov/lp-prod-protected/HLSL30.020/HLS.L30.T15RYN.2024183T163117.v2.0/HLS.L30.T15RYN.2024183T163117.v2.0.B04.tif', 'https://data.lpdaac.earthdatacloud.nasa.gov/lp-prod-protected/HLSL30.020/HLS.L30.T15RYN.2024183T163117.v2.0/HLS.L30.T15RYN.2024183T163117.v2.0.B03.tif', 'https://data.lpdaac.earthdatacloud.nasa.gov/lp-prod-protected/HLSL30.020/HLS.L30.T15RYN.2024183T163117.v2.0/HLS.L30.T15RYN.2024183T163117.v2.0.B06.tif', 'https://data.lpdaac.earthdatacloud.nasa.gov/lp-prod-protected/HLSL30.020/HLS.L30.T15RYN.2024183T163117.v2.0/HLS.L30.T15RYN.2024183T163117.v2.0.SAA.tif', 'https://data.lpdaac.earthdatacloud.nasa.gov/lp-prod-protected/HLSL30.020/HLS.L30.T15RYN.2024183T163117.v2.0/HLS.L30.T15RYN.2024183T163117.v2.0.B02.tif', 'https://data.lpdaac.earthdatacloud.nasa.gov/lp-prod-protected/HLSL30.020/HLS.L30.T15RYN.2024183T163117.v2.0/HLS.L30.T15RYN.2024183T163117.v2.0.VAA.tif'], Collection: {'EntryTitle': 'HLS Landsat Operational Land Imager Surface Reflectance and TOA Brightness Daily Global 30m v2.0'}\n",
            "Spatial coverage: {'HorizontalSpatialDomain': {'Geometry': {'GPolygons': [{'Boundary': {'Points': [{'Longitude': -89.79864173, 'Latitude': 29.70347853}, {'Longitude': -89.76643746, 'Latitude': 30.69278312}, {'Longitude': -90.91181412, 'Latitude': 30.71627038}, {'Longitude': -90.93263654, 'Latitude': 29.72605548}, {'Longitude': -89.79864173, 'Latitude': 29.70347853}]}}]}}}\n",
            "Temporal coverage: {'RangeDateTime': {'BeginningDateTime': '2024-07-09T16:31:29.187Z', 'EndingDateTime': '2024-07-09T16:31:29.187Z'}}\n",
            "Size(MB): 199.09678268432617\n",
            "Data: ['https://data.lpdaac.earthdatacloud.nasa.gov/lp-prod-protected/HLSL30.020/HLS.L30.T15RYP.2024191T163129.v2.0/HLS.L30.T15RYP.2024191T163129.v2.0.B03.tif', 'https://data.lpdaac.earthdatacloud.nasa.gov/lp-prod-protected/HLSL30.020/HLS.L30.T15RYP.2024191T163129.v2.0/HLS.L30.T15RYP.2024191T163129.v2.0.B01.tif', 'https://data.lpdaac.earthdatacloud.nasa.gov/lp-prod-protected/HLSL30.020/HLS.L30.T15RYP.2024191T163129.v2.0/HLS.L30.T15RYP.2024191T163129.v2.0.SAA.tif', 'https://data.lpdaac.earthdatacloud.nasa.gov/lp-prod-protected/HLSL30.020/HLS.L30.T15RYP.2024191T163129.v2.0/HLS.L30.T15RYP.2024191T163129.v2.0.VZA.tif', 'https://data.lpdaac.earthdatacloud.nasa.gov/lp-prod-protected/HLSL30.020/HLS.L30.T15RYP.2024191T163129.v2.0/HLS.L30.T15RYP.2024191T163129.v2.0.SZA.tif', 'https://data.lpdaac.earthdatacloud.nasa.gov/lp-prod-protected/HLSL30.020/HLS.L30.T15RYP.2024191T163129.v2.0/HLS.L30.T15RYP.2024191T163129.v2.0.VAA.tif', 'https://data.lpdaac.earthdatacloud.nasa.gov/lp-prod-protected/HLSL30.020/HLS.L30.T15RYP.2024191T163129.v2.0/HLS.L30.T15RYP.2024191T163129.v2.0.B04.tif', 'https://data.lpdaac.earthdatacloud.nasa.gov/lp-prod-protected/HLSL30.020/HLS.L30.T15RYP.2024191T163129.v2.0/HLS.L30.T15RYP.2024191T163129.v2.0.B05.tif', 'https://data.lpdaac.earthdatacloud.nasa.gov/lp-prod-protected/HLSL30.020/HLS.L30.T15RYP.2024191T163129.v2.0/HLS.L30.T15RYP.2024191T163129.v2.0.B02.tif', 'https://data.lpdaac.earthdatacloud.nasa.gov/lp-prod-protected/HLSL30.020/HLS.L30.T15RYP.2024191T163129.v2.0/HLS.L30.T15RYP.2024191T163129.v2.0.B11.tif', 'https://data.lpdaac.earthdatacloud.nasa.gov/lp-prod-protected/HLSL30.020/HLS.L30.T15RYP.2024191T163129.v2.0/HLS.L30.T15RYP.2024191T163129.v2.0.B09.tif', 'https://data.lpdaac.earthdatacloud.nasa.gov/lp-prod-protected/HLSL30.020/HLS.L30.T15RYP.2024191T163129.v2.0/HLS.L30.T15RYP.2024191T163129.v2.0.B10.tif', 'https://data.lpdaac.earthdatacloud.nasa.gov/lp-prod-protected/HLSL30.020/HLS.L30.T15RYP.2024191T163129.v2.0/HLS.L30.T15RYP.2024191T163129.v2.0.B07.tif', 'https://data.lpdaac.earthdatacloud.nasa.gov/lp-prod-protected/HLSL30.020/HLS.L30.T15RYP.2024191T163129.v2.0/HLS.L30.T15RYP.2024191T163129.v2.0.B06.tif', 'https://data.lpdaac.earthdatacloud.nasa.gov/lp-prod-protected/HLSL30.020/HLS.L30.T15RYP.2024191T163129.v2.0/HLS.L30.T15RYP.2024191T163129.v2.0.Fmask.tif'], Collection: {'EntryTitle': 'HLS Landsat Operational Land Imager Surface Reflectance and TOA Brightness Daily Global 30m v2.0'}\n",
            "Spatial coverage: {'HorizontalSpatialDomain': {'Geometry': {'GPolygons': [{'Boundary': {'Points': [{'Longitude': -90.10082051, 'Latitude': 29.70587294}, {'Longitude': -89.29653412, 'Latitude': 29.72227667}, {'Longitude': -89.02535254, 'Latitude': 30.71726623}, {'Longitude': -90.13201749, 'Latitude': 30.69527405}, {'Longitude': -90.10082051, 'Latitude': 29.70587294}]}}]}}}\n",
            "Temporal coverage: {'RangeDateTime': {'BeginningDateTime': '2024-07-09T16:31:29.187Z', 'EndingDateTime': '2024-07-09T16:31:29.187Z'}}\n",
            "Size(MB): 162.0969877243042\n",
            "Data: ['https://data.lpdaac.earthdatacloud.nasa.gov/lp-prod-protected/HLSL30.020/HLS.L30.T16RBU.2024191T163129.v2.0/HLS.L30.T16RBU.2024191T163129.v2.0.B07.tif', 'https://data.lpdaac.earthdatacloud.nasa.gov/lp-prod-protected/HLSL30.020/HLS.L30.T16RBU.2024191T163129.v2.0/HLS.L30.T16RBU.2024191T163129.v2.0.B02.tif', 'https://data.lpdaac.earthdatacloud.nasa.gov/lp-prod-protected/HLSL30.020/HLS.L30.T16RBU.2024191T163129.v2.0/HLS.L30.T16RBU.2024191T163129.v2.0.B06.tif', 'https://data.lpdaac.earthdatacloud.nasa.gov/lp-prod-protected/HLSL30.020/HLS.L30.T16RBU.2024191T163129.v2.0/HLS.L30.T16RBU.2024191T163129.v2.0.B01.tif', 'https://data.lpdaac.earthdatacloud.nasa.gov/lp-prod-protected/HLSL30.020/HLS.L30.T16RBU.2024191T163129.v2.0/HLS.L30.T16RBU.2024191T163129.v2.0.SZA.tif', 'https://data.lpdaac.earthdatacloud.nasa.gov/lp-prod-protected/HLSL30.020/HLS.L30.T16RBU.2024191T163129.v2.0/HLS.L30.T16RBU.2024191T163129.v2.0.B09.tif', 'https://data.lpdaac.earthdatacloud.nasa.gov/lp-prod-protected/HLSL30.020/HLS.L30.T16RBU.2024191T163129.v2.0/HLS.L30.T16RBU.2024191T163129.v2.0.SAA.tif', 'https://data.lpdaac.earthdatacloud.nasa.gov/lp-prod-protected/HLSL30.020/HLS.L30.T16RBU.2024191T163129.v2.0/HLS.L30.T16RBU.2024191T163129.v2.0.B10.tif', 'https://data.lpdaac.earthdatacloud.nasa.gov/lp-prod-protected/HLSL30.020/HLS.L30.T16RBU.2024191T163129.v2.0/HLS.L30.T16RBU.2024191T163129.v2.0.VAA.tif', 'https://data.lpdaac.earthdatacloud.nasa.gov/lp-prod-protected/HLSL30.020/HLS.L30.T16RBU.2024191T163129.v2.0/HLS.L30.T16RBU.2024191T163129.v2.0.VZA.tif', 'https://data.lpdaac.earthdatacloud.nasa.gov/lp-prod-protected/HLSL30.020/HLS.L30.T16RBU.2024191T163129.v2.0/HLS.L30.T16RBU.2024191T163129.v2.0.B11.tif', 'https://data.lpdaac.earthdatacloud.nasa.gov/lp-prod-protected/HLSL30.020/HLS.L30.T16RBU.2024191T163129.v2.0/HLS.L30.T16RBU.2024191T163129.v2.0.B03.tif', 'https://data.lpdaac.earthdatacloud.nasa.gov/lp-prod-protected/HLSL30.020/HLS.L30.T16RBU.2024191T163129.v2.0/HLS.L30.T16RBU.2024191T163129.v2.0.B04.tif', 'https://data.lpdaac.earthdatacloud.nasa.gov/lp-prod-protected/HLSL30.020/HLS.L30.T16RBU.2024191T163129.v2.0/HLS.L30.T16RBU.2024191T163129.v2.0.B05.tif', 'https://data.lpdaac.earthdatacloud.nasa.gov/lp-prod-protected/HLSL30.020/HLS.L30.T16RBU.2024191T163129.v2.0/HLS.L30.T16RBU.2024191T163129.v2.0.Fmask.tif'], Collection: {'EntryTitle': 'HLS Landsat Operational Land Imager Surface Reflectance and TOA Brightness Daily Global 30m v2.0'}\n",
            "Spatial coverage: {'HorizontalSpatialDomain': {'Geometry': {'GPolygons': [{'Boundary': {'Points': [{'Longitude': -90.07372506, 'Latitude': 28.80444525}, {'Longitude': -89.54063964, 'Latitude': 28.81554002}, {'Longitude': -89.27279985, 'Latitude': 29.81091482}, {'Longitude': -90.10353675, 'Latitude': 29.79400715}, {'Longitude': -90.07372506, 'Latitude': 28.80444525}]}}]}}}\n",
            "Temporal coverage: {'RangeDateTime': {'BeginningDateTime': '2024-07-09T16:31:29.187Z', 'EndingDateTime': '2024-07-09T16:31:53.078Z'}}\n",
            "Size(MB): 110.03975105285645\n",
            "Data: ['https://data.lpdaac.earthdatacloud.nasa.gov/lp-prod-protected/HLSL30.020/HLS.L30.T16RBT.2024191T163129.v2.0/HLS.L30.T16RBT.2024191T163129.v2.0.VAA.tif', 'https://data.lpdaac.earthdatacloud.nasa.gov/lp-prod-protected/HLSL30.020/HLS.L30.T16RBT.2024191T163129.v2.0/HLS.L30.T16RBT.2024191T163129.v2.0.B07.tif', 'https://data.lpdaac.earthdatacloud.nasa.gov/lp-prod-protected/HLSL30.020/HLS.L30.T16RBT.2024191T163129.v2.0/HLS.L30.T16RBT.2024191T163129.v2.0.B04.tif', 'https://data.lpdaac.earthdatacloud.nasa.gov/lp-prod-protected/HLSL30.020/HLS.L30.T16RBT.2024191T163129.v2.0/HLS.L30.T16RBT.2024191T163129.v2.0.B09.tif', 'https://data.lpdaac.earthdatacloud.nasa.gov/lp-prod-protected/HLSL30.020/HLS.L30.T16RBT.2024191T163129.v2.0/HLS.L30.T16RBT.2024191T163129.v2.0.B10.tif', 'https://data.lpdaac.earthdatacloud.nasa.gov/lp-prod-protected/HLSL30.020/HLS.L30.T16RBT.2024191T163129.v2.0/HLS.L30.T16RBT.2024191T163129.v2.0.B03.tif', 'https://data.lpdaac.earthdatacloud.nasa.gov/lp-prod-protected/HLSL30.020/HLS.L30.T16RBT.2024191T163129.v2.0/HLS.L30.T16RBT.2024191T163129.v2.0.B05.tif', 'https://data.lpdaac.earthdatacloud.nasa.gov/lp-prod-protected/HLSL30.020/HLS.L30.T16RBT.2024191T163129.v2.0/HLS.L30.T16RBT.2024191T163129.v2.0.B11.tif', 'https://data.lpdaac.earthdatacloud.nasa.gov/lp-prod-protected/HLSL30.020/HLS.L30.T16RBT.2024191T163129.v2.0/HLS.L30.T16RBT.2024191T163129.v2.0.Fmask.tif', 'https://data.lpdaac.earthdatacloud.nasa.gov/lp-prod-protected/HLSL30.020/HLS.L30.T16RBT.2024191T163129.v2.0/HLS.L30.T16RBT.2024191T163129.v2.0.B06.tif', 'https://data.lpdaac.earthdatacloud.nasa.gov/lp-prod-protected/HLSL30.020/HLS.L30.T16RBT.2024191T163129.v2.0/HLS.L30.T16RBT.2024191T163129.v2.0.B01.tif', 'https://data.lpdaac.earthdatacloud.nasa.gov/lp-prod-protected/HLSL30.020/HLS.L30.T16RBT.2024191T163129.v2.0/HLS.L30.T16RBT.2024191T163129.v2.0.VZA.tif', 'https://data.lpdaac.earthdatacloud.nasa.gov/lp-prod-protected/HLSL30.020/HLS.L30.T16RBT.2024191T163129.v2.0/HLS.L30.T16RBT.2024191T163129.v2.0.B02.tif', 'https://data.lpdaac.earthdatacloud.nasa.gov/lp-prod-protected/HLSL30.020/HLS.L30.T16RBT.2024191T163129.v2.0/HLS.L30.T16RBT.2024191T163129.v2.0.SZA.tif', 'https://data.lpdaac.earthdatacloud.nasa.gov/lp-prod-protected/HLSL30.020/HLS.L30.T16RBT.2024191T163129.v2.0/HLS.L30.T16RBT.2024191T163129.v2.0.SAA.tif'], Collection: {'EntryTitle': 'HLS Landsat Operational Land Imager Surface Reflectance and TOA Brightness Daily Global 30m v2.0'}\n",
            "Spatial coverage: {'HorizontalSpatialDomain': {'Geometry': {'GPolygons': [{'Boundary': {'Points': [{'Longitude': -89.82661214, 'Latitude': 28.80213717}, {'Longitude': -89.79583778, 'Latitude': 29.79160422}, {'Longitude': -90.93082361, 'Latitude': 29.81426153}, {'Longitude': -90.95072084, 'Latitude': 28.82389994}, {'Longitude': -89.82661214, 'Latitude': 28.80213717}]}}]}}}\n",
            "Temporal coverage: {'RangeDateTime': {'BeginningDateTime': '2024-07-09T16:31:29.187Z', 'EndingDateTime': '2024-07-09T16:31:53.078Z'}}\n",
            "Size(MB): 181.66566848754883\n",
            "Data: ['https://data.lpdaac.earthdatacloud.nasa.gov/lp-prod-protected/HLSL30.020/HLS.L30.T15RYN.2024191T163129.v2.0/HLS.L30.T15RYN.2024191T163129.v2.0.B05.tif', 'https://data.lpdaac.earthdatacloud.nasa.gov/lp-prod-protected/HLSL30.020/HLS.L30.T15RYN.2024191T163129.v2.0/HLS.L30.T15RYN.2024191T163129.v2.0.B06.tif', 'https://data.lpdaac.earthdatacloud.nasa.gov/lp-prod-protected/HLSL30.020/HLS.L30.T15RYN.2024191T163129.v2.0/HLS.L30.T15RYN.2024191T163129.v2.0.B01.tif', 'https://data.lpdaac.earthdatacloud.nasa.gov/lp-prod-protected/HLSL30.020/HLS.L30.T15RYN.2024191T163129.v2.0/HLS.L30.T15RYN.2024191T163129.v2.0.B07.tif', 'https://data.lpdaac.earthdatacloud.nasa.gov/lp-prod-protected/HLSL30.020/HLS.L30.T15RYN.2024191T163129.v2.0/HLS.L30.T15RYN.2024191T163129.v2.0.B04.tif', 'https://data.lpdaac.earthdatacloud.nasa.gov/lp-prod-protected/HLSL30.020/HLS.L30.T15RYN.2024191T163129.v2.0/HLS.L30.T15RYN.2024191T163129.v2.0.SZA.tif', 'https://data.lpdaac.earthdatacloud.nasa.gov/lp-prod-protected/HLSL30.020/HLS.L30.T15RYN.2024191T163129.v2.0/HLS.L30.T15RYN.2024191T163129.v2.0.B11.tif', 'https://data.lpdaac.earthdatacloud.nasa.gov/lp-prod-protected/HLSL30.020/HLS.L30.T15RYN.2024191T163129.v2.0/HLS.L30.T15RYN.2024191T163129.v2.0.B09.tif', 'https://data.lpdaac.earthdatacloud.nasa.gov/lp-prod-protected/HLSL30.020/HLS.L30.T15RYN.2024191T163129.v2.0/HLS.L30.T15RYN.2024191T163129.v2.0.B02.tif', 'https://data.lpdaac.earthdatacloud.nasa.gov/lp-prod-protected/HLSL30.020/HLS.L30.T15RYN.2024191T163129.v2.0/HLS.L30.T15RYN.2024191T163129.v2.0.Fmask.tif', 'https://data.lpdaac.earthdatacloud.nasa.gov/lp-prod-protected/HLSL30.020/HLS.L30.T15RYN.2024191T163129.v2.0/HLS.L30.T15RYN.2024191T163129.v2.0.VZA.tif', 'https://data.lpdaac.earthdatacloud.nasa.gov/lp-prod-protected/HLSL30.020/HLS.L30.T15RYN.2024191T163129.v2.0/HLS.L30.T15RYN.2024191T163129.v2.0.VAA.tif', 'https://data.lpdaac.earthdatacloud.nasa.gov/lp-prod-protected/HLSL30.020/HLS.L30.T15RYN.2024191T163129.v2.0/HLS.L30.T15RYN.2024191T163129.v2.0.B10.tif', 'https://data.lpdaac.earthdatacloud.nasa.gov/lp-prod-protected/HLSL30.020/HLS.L30.T15RYN.2024191T163129.v2.0/HLS.L30.T15RYN.2024191T163129.v2.0.SAA.tif', 'https://data.lpdaac.earthdatacloud.nasa.gov/lp-prod-protected/HLSL30.020/HLS.L30.T15RYN.2024191T163129.v2.0/HLS.L30.T15RYN.2024191T163129.v2.0.B03.tif'], Collection: {'EntryTitle': 'HLS Landsat Operational Land Imager Surface Reflectance and TOA Brightness Daily Global 30m v2.0'}\n",
            "Spatial coverage: {'HorizontalSpatialDomain': {'Geometry': {'GPolygons': [{'Boundary': {'Points': [{'Longitude': -90.07372506, 'Latitude': 28.80444525}, {'Longitude': -89.5692052, 'Latitude': 28.81499894}, {'Longitude': -89.3013395, 'Latitude': 29.81042066}, {'Longitude': -90.10353675, 'Latitude': 29.79400715}, {'Longitude': -90.07372506, 'Latitude': 28.80444525}]}}]}}}\n",
            "Temporal coverage: {'RangeDateTime': {'BeginningDateTime': '2024-07-17T16:31:33.271Z', 'EndingDateTime': '2024-07-17T16:31:57.167Z'}}\n",
            "Size(MB): 116.18332481384277\n",
            "Data: ['https://data.lpdaac.earthdatacloud.nasa.gov/lp-prod-protected/HLSL30.020/HLS.L30.T16RBT.2024199T163133.v2.0/HLS.L30.T16RBT.2024199T163133.v2.0.B04.tif', 'https://data.lpdaac.earthdatacloud.nasa.gov/lp-prod-protected/HLSL30.020/HLS.L30.T16RBT.2024199T163133.v2.0/HLS.L30.T16RBT.2024199T163133.v2.0.Fmask.tif', 'https://data.lpdaac.earthdatacloud.nasa.gov/lp-prod-protected/HLSL30.020/HLS.L30.T16RBT.2024199T163133.v2.0/HLS.L30.T16RBT.2024199T163133.v2.0.SZA.tif', 'https://data.lpdaac.earthdatacloud.nasa.gov/lp-prod-protected/HLSL30.020/HLS.L30.T16RBT.2024199T163133.v2.0/HLS.L30.T16RBT.2024199T163133.v2.0.B02.tif', 'https://data.lpdaac.earthdatacloud.nasa.gov/lp-prod-protected/HLSL30.020/HLS.L30.T16RBT.2024199T163133.v2.0/HLS.L30.T16RBT.2024199T163133.v2.0.VZA.tif', 'https://data.lpdaac.earthdatacloud.nasa.gov/lp-prod-protected/HLSL30.020/HLS.L30.T16RBT.2024199T163133.v2.0/HLS.L30.T16RBT.2024199T163133.v2.0.B06.tif', 'https://data.lpdaac.earthdatacloud.nasa.gov/lp-prod-protected/HLSL30.020/HLS.L30.T16RBT.2024199T163133.v2.0/HLS.L30.T16RBT.2024199T163133.v2.0.B07.tif', 'https://data.lpdaac.earthdatacloud.nasa.gov/lp-prod-protected/HLSL30.020/HLS.L30.T16RBT.2024199T163133.v2.0/HLS.L30.T16RBT.2024199T163133.v2.0.SAA.tif', 'https://data.lpdaac.earthdatacloud.nasa.gov/lp-prod-protected/HLSL30.020/HLS.L30.T16RBT.2024199T163133.v2.0/HLS.L30.T16RBT.2024199T163133.v2.0.B01.tif', 'https://data.lpdaac.earthdatacloud.nasa.gov/lp-prod-protected/HLSL30.020/HLS.L30.T16RBT.2024199T163133.v2.0/HLS.L30.T16RBT.2024199T163133.v2.0.B10.tif', 'https://data.lpdaac.earthdatacloud.nasa.gov/lp-prod-protected/HLSL30.020/HLS.L30.T16RBT.2024199T163133.v2.0/HLS.L30.T16RBT.2024199T163133.v2.0.B05.tif', 'https://data.lpdaac.earthdatacloud.nasa.gov/lp-prod-protected/HLSL30.020/HLS.L30.T16RBT.2024199T163133.v2.0/HLS.L30.T16RBT.2024199T163133.v2.0.VAA.tif', 'https://data.lpdaac.earthdatacloud.nasa.gov/lp-prod-protected/HLSL30.020/HLS.L30.T16RBT.2024199T163133.v2.0/HLS.L30.T16RBT.2024199T163133.v2.0.B03.tif', 'https://data.lpdaac.earthdatacloud.nasa.gov/lp-prod-protected/HLSL30.020/HLS.L30.T16RBT.2024199T163133.v2.0/HLS.L30.T16RBT.2024199T163133.v2.0.B09.tif', 'https://data.lpdaac.earthdatacloud.nasa.gov/lp-prod-protected/HLSL30.020/HLS.L30.T16RBT.2024199T163133.v2.0/HLS.L30.T16RBT.2024199T163133.v2.0.B11.tif'], Collection: {'EntryTitle': 'HLS Landsat Operational Land Imager Surface Reflectance and TOA Brightness Daily Global 30m v2.0'}\n",
            "Spatial coverage: {'HorizontalSpatialDomain': {'Geometry': {'GPolygons': [{'Boundary': {'Points': [{'Longitude': -90.10082051, 'Latitude': 29.70587294}, {'Longitude': -89.32505442, 'Latitude': 29.72204926}, {'Longitude': -89.05384712, 'Latitude': 30.71681839}, {'Longitude': -90.13201749, 'Latitude': 30.69527405}, {'Longitude': -90.10082051, 'Latitude': 29.70587294}]}}]}}}\n",
            "Temporal coverage: {'RangeDateTime': {'BeginningDateTime': '2024-07-17T16:31:33.271Z', 'EndingDateTime': '2024-07-17T16:31:33.271Z'}}\n",
            "Size(MB): 160.67893600463867\n",
            "Data: ['https://data.lpdaac.earthdatacloud.nasa.gov/lp-prod-protected/HLSL30.020/HLS.L30.T16RBU.2024199T163133.v2.0/HLS.L30.T16RBU.2024199T163133.v2.0.B05.tif', 'https://data.lpdaac.earthdatacloud.nasa.gov/lp-prod-protected/HLSL30.020/HLS.L30.T16RBU.2024199T163133.v2.0/HLS.L30.T16RBU.2024199T163133.v2.0.B09.tif', 'https://data.lpdaac.earthdatacloud.nasa.gov/lp-prod-protected/HLSL30.020/HLS.L30.T16RBU.2024199T163133.v2.0/HLS.L30.T16RBU.2024199T163133.v2.0.B10.tif', 'https://data.lpdaac.earthdatacloud.nasa.gov/lp-prod-protected/HLSL30.020/HLS.L30.T16RBU.2024199T163133.v2.0/HLS.L30.T16RBU.2024199T163133.v2.0.SZA.tif', 'https://data.lpdaac.earthdatacloud.nasa.gov/lp-prod-protected/HLSL30.020/HLS.L30.T16RBU.2024199T163133.v2.0/HLS.L30.T16RBU.2024199T163133.v2.0.SAA.tif', 'https://data.lpdaac.earthdatacloud.nasa.gov/lp-prod-protected/HLSL30.020/HLS.L30.T16RBU.2024199T163133.v2.0/HLS.L30.T16RBU.2024199T163133.v2.0.B02.tif', 'https://data.lpdaac.earthdatacloud.nasa.gov/lp-prod-protected/HLSL30.020/HLS.L30.T16RBU.2024199T163133.v2.0/HLS.L30.T16RBU.2024199T163133.v2.0.B07.tif', 'https://data.lpdaac.earthdatacloud.nasa.gov/lp-prod-protected/HLSL30.020/HLS.L30.T16RBU.2024199T163133.v2.0/HLS.L30.T16RBU.2024199T163133.v2.0.B04.tif', 'https://data.lpdaac.earthdatacloud.nasa.gov/lp-prod-protected/HLSL30.020/HLS.L30.T16RBU.2024199T163133.v2.0/HLS.L30.T16RBU.2024199T163133.v2.0.B01.tif', 'https://data.lpdaac.earthdatacloud.nasa.gov/lp-prod-protected/HLSL30.020/HLS.L30.T16RBU.2024199T163133.v2.0/HLS.L30.T16RBU.2024199T163133.v2.0.B03.tif', 'https://data.lpdaac.earthdatacloud.nasa.gov/lp-prod-protected/HLSL30.020/HLS.L30.T16RBU.2024199T163133.v2.0/HLS.L30.T16RBU.2024199T163133.v2.0.B06.tif', 'https://data.lpdaac.earthdatacloud.nasa.gov/lp-prod-protected/HLSL30.020/HLS.L30.T16RBU.2024199T163133.v2.0/HLS.L30.T16RBU.2024199T163133.v2.0.B11.tif', 'https://data.lpdaac.earthdatacloud.nasa.gov/lp-prod-protected/HLSL30.020/HLS.L30.T16RBU.2024199T163133.v2.0/HLS.L30.T16RBU.2024199T163133.v2.0.VAA.tif', 'https://data.lpdaac.earthdatacloud.nasa.gov/lp-prod-protected/HLSL30.020/HLS.L30.T16RBU.2024199T163133.v2.0/HLS.L30.T16RBU.2024199T163133.v2.0.Fmask.tif', 'https://data.lpdaac.earthdatacloud.nasa.gov/lp-prod-protected/HLSL30.020/HLS.L30.T16RBU.2024199T163133.v2.0/HLS.L30.T16RBU.2024199T163133.v2.0.VZA.tif'], Collection: {'EntryTitle': 'HLS Landsat Operational Land Imager Surface Reflectance and TOA Brightness Daily Global 30m v2.0'}\n",
            "Spatial coverage: {'HorizontalSpatialDomain': {'Geometry': {'GPolygons': [{'Boundary': {'Points': [{'Longitude': -89.79864173, 'Latitude': 29.70347853}, {'Longitude': -89.76643746, 'Latitude': 30.69278312}, {'Longitude': -90.91181412, 'Latitude': 30.71627038}, {'Longitude': -90.93263654, 'Latitude': 29.72605548}, {'Longitude': -89.79864173, 'Latitude': 29.70347853}]}}]}}}\n",
            "Temporal coverage: {'RangeDateTime': {'BeginningDateTime': '2024-07-17T16:31:33.271Z', 'EndingDateTime': '2024-07-17T16:31:33.271Z'}}\n",
            "Size(MB): 193.96066761016846\n",
            "Data: ['https://data.lpdaac.earthdatacloud.nasa.gov/lp-prod-protected/HLSL30.020/HLS.L30.T15RYP.2024199T163133.v2.0/HLS.L30.T15RYP.2024199T163133.v2.0.B07.tif', 'https://data.lpdaac.earthdatacloud.nasa.gov/lp-prod-protected/HLSL30.020/HLS.L30.T15RYP.2024199T163133.v2.0/HLS.L30.T15RYP.2024199T163133.v2.0.SZA.tif', 'https://data.lpdaac.earthdatacloud.nasa.gov/lp-prod-protected/HLSL30.020/HLS.L30.T15RYP.2024199T163133.v2.0/HLS.L30.T15RYP.2024199T163133.v2.0.B03.tif', 'https://data.lpdaac.earthdatacloud.nasa.gov/lp-prod-protected/HLSL30.020/HLS.L30.T15RYP.2024199T163133.v2.0/HLS.L30.T15RYP.2024199T163133.v2.0.SAA.tif', 'https://data.lpdaac.earthdatacloud.nasa.gov/lp-prod-protected/HLSL30.020/HLS.L30.T15RYP.2024199T163133.v2.0/HLS.L30.T15RYP.2024199T163133.v2.0.B06.tif', 'https://data.lpdaac.earthdatacloud.nasa.gov/lp-prod-protected/HLSL30.020/HLS.L30.T15RYP.2024199T163133.v2.0/HLS.L30.T15RYP.2024199T163133.v2.0.B09.tif', 'https://data.lpdaac.earthdatacloud.nasa.gov/lp-prod-protected/HLSL30.020/HLS.L30.T15RYP.2024199T163133.v2.0/HLS.L30.T15RYP.2024199T163133.v2.0.B04.tif', 'https://data.lpdaac.earthdatacloud.nasa.gov/lp-prod-protected/HLSL30.020/HLS.L30.T15RYP.2024199T163133.v2.0/HLS.L30.T15RYP.2024199T163133.v2.0.B10.tif', 'https://data.lpdaac.earthdatacloud.nasa.gov/lp-prod-protected/HLSL30.020/HLS.L30.T15RYP.2024199T163133.v2.0/HLS.L30.T15RYP.2024199T163133.v2.0.B02.tif', 'https://data.lpdaac.earthdatacloud.nasa.gov/lp-prod-protected/HLSL30.020/HLS.L30.T15RYP.2024199T163133.v2.0/HLS.L30.T15RYP.2024199T163133.v2.0.VZA.tif', 'https://data.lpdaac.earthdatacloud.nasa.gov/lp-prod-protected/HLSL30.020/HLS.L30.T15RYP.2024199T163133.v2.0/HLS.L30.T15RYP.2024199T163133.v2.0.VAA.tif', 'https://data.lpdaac.earthdatacloud.nasa.gov/lp-prod-protected/HLSL30.020/HLS.L30.T15RYP.2024199T163133.v2.0/HLS.L30.T15RYP.2024199T163133.v2.0.Fmask.tif', 'https://data.lpdaac.earthdatacloud.nasa.gov/lp-prod-protected/HLSL30.020/HLS.L30.T15RYP.2024199T163133.v2.0/HLS.L30.T15RYP.2024199T163133.v2.0.B01.tif', 'https://data.lpdaac.earthdatacloud.nasa.gov/lp-prod-protected/HLSL30.020/HLS.L30.T15RYP.2024199T163133.v2.0/HLS.L30.T15RYP.2024199T163133.v2.0.B05.tif', 'https://data.lpdaac.earthdatacloud.nasa.gov/lp-prod-protected/HLSL30.020/HLS.L30.T15RYP.2024199T163133.v2.0/HLS.L30.T15RYP.2024199T163133.v2.0.B11.tif'], Collection: {'EntryTitle': 'HLS Landsat Operational Land Imager Surface Reflectance and TOA Brightness Daily Global 30m v2.0'}\n",
            "Spatial coverage: {'HorizontalSpatialDomain': {'Geometry': {'GPolygons': [{'Boundary': {'Points': [{'Longitude': -89.82661214, 'Latitude': 28.80213717}, {'Longitude': -89.79583778, 'Latitude': 29.79160422}, {'Longitude': -90.93082361, 'Latitude': 29.81426153}, {'Longitude': -90.95072084, 'Latitude': 28.82389994}, {'Longitude': -89.82661214, 'Latitude': 28.80213717}]}}]}}}\n",
            "Temporal coverage: {'RangeDateTime': {'BeginningDateTime': '2024-07-17T16:31:33.271Z', 'EndingDateTime': '2024-07-17T16:31:57.167Z'}}\n",
            "Size(MB): 182.9251298904419\n",
            "Data: ['https://data.lpdaac.earthdatacloud.nasa.gov/lp-prod-protected/HLSL30.020/HLS.L30.T15RYN.2024199T163133.v2.0/HLS.L30.T15RYN.2024199T163133.v2.0.SZA.tif', 'https://data.lpdaac.earthdatacloud.nasa.gov/lp-prod-protected/HLSL30.020/HLS.L30.T15RYN.2024199T163133.v2.0/HLS.L30.T15RYN.2024199T163133.v2.0.VZA.tif', 'https://data.lpdaac.earthdatacloud.nasa.gov/lp-prod-protected/HLSL30.020/HLS.L30.T15RYN.2024199T163133.v2.0/HLS.L30.T15RYN.2024199T163133.v2.0.B10.tif', 'https://data.lpdaac.earthdatacloud.nasa.gov/lp-prod-protected/HLSL30.020/HLS.L30.T15RYN.2024199T163133.v2.0/HLS.L30.T15RYN.2024199T163133.v2.0.B09.tif', 'https://data.lpdaac.earthdatacloud.nasa.gov/lp-prod-protected/HLSL30.020/HLS.L30.T15RYN.2024199T163133.v2.0/HLS.L30.T15RYN.2024199T163133.v2.0.B03.tif', 'https://data.lpdaac.earthdatacloud.nasa.gov/lp-prod-protected/HLSL30.020/HLS.L30.T15RYN.2024199T163133.v2.0/HLS.L30.T15RYN.2024199T163133.v2.0.B05.tif', 'https://data.lpdaac.earthdatacloud.nasa.gov/lp-prod-protected/HLSL30.020/HLS.L30.T15RYN.2024199T163133.v2.0/HLS.L30.T15RYN.2024199T163133.v2.0.B11.tif', 'https://data.lpdaac.earthdatacloud.nasa.gov/lp-prod-protected/HLSL30.020/HLS.L30.T15RYN.2024199T163133.v2.0/HLS.L30.T15RYN.2024199T163133.v2.0.Fmask.tif', 'https://data.lpdaac.earthdatacloud.nasa.gov/lp-prod-protected/HLSL30.020/HLS.L30.T15RYN.2024199T163133.v2.0/HLS.L30.T15RYN.2024199T163133.v2.0.SAA.tif', 'https://data.lpdaac.earthdatacloud.nasa.gov/lp-prod-protected/HLSL30.020/HLS.L30.T15RYN.2024199T163133.v2.0/HLS.L30.T15RYN.2024199T163133.v2.0.B04.tif', 'https://data.lpdaac.earthdatacloud.nasa.gov/lp-prod-protected/HLSL30.020/HLS.L30.T15RYN.2024199T163133.v2.0/HLS.L30.T15RYN.2024199T163133.v2.0.B01.tif', 'https://data.lpdaac.earthdatacloud.nasa.gov/lp-prod-protected/HLSL30.020/HLS.L30.T15RYN.2024199T163133.v2.0/HLS.L30.T15RYN.2024199T163133.v2.0.B07.tif', 'https://data.lpdaac.earthdatacloud.nasa.gov/lp-prod-protected/HLSL30.020/HLS.L30.T15RYN.2024199T163133.v2.0/HLS.L30.T15RYN.2024199T163133.v2.0.B02.tif', 'https://data.lpdaac.earthdatacloud.nasa.gov/lp-prod-protected/HLSL30.020/HLS.L30.T15RYN.2024199T163133.v2.0/HLS.L30.T15RYN.2024199T163133.v2.0.VAA.tif', 'https://data.lpdaac.earthdatacloud.nasa.gov/lp-prod-protected/HLSL30.020/HLS.L30.T15RYN.2024199T163133.v2.0/HLS.L30.T15RYN.2024199T163133.v2.0.B06.tif'], Collection: {'EntryTitle': 'HLS Landsat Operational Land Imager Surface Reflectance and TOA Brightness Daily Global 30m v2.0'}\n",
            "Spatial coverage: {'HorizontalSpatialDomain': {'Geometry': {'GPolygons': [{'Boundary': {'Points': [{'Longitude': -89.79864173, 'Latitude': 29.70347853}, {'Longitude': -89.76643746, 'Latitude': 30.69278312}, {'Longitude': -90.91181412, 'Latitude': 30.71627038}, {'Longitude': -90.93263654, 'Latitude': 29.72605548}, {'Longitude': -89.79864173, 'Latitude': 29.70347853}]}}]}}}\n",
            "Temporal coverage: {'RangeDateTime': {'BeginningDateTime': '2024-07-25T16:31:43.265Z', 'EndingDateTime': '2024-07-25T16:31:43.265Z'}}\n",
            "Size(MB): 180.69450092315674\n",
            "Data: ['https://data.lpdaac.earthdatacloud.nasa.gov/lp-prod-protected/HLSL30.020/HLS.L30.T15RYP.2024207T163143.v2.0/HLS.L30.T15RYP.2024207T163143.v2.0.B11.tif', 'https://data.lpdaac.earthdatacloud.nasa.gov/lp-prod-protected/HLSL30.020/HLS.L30.T15RYP.2024207T163143.v2.0/HLS.L30.T15RYP.2024207T163143.v2.0.SAA.tif', 'https://data.lpdaac.earthdatacloud.nasa.gov/lp-prod-protected/HLSL30.020/HLS.L30.T15RYP.2024207T163143.v2.0/HLS.L30.T15RYP.2024207T163143.v2.0.B06.tif', 'https://data.lpdaac.earthdatacloud.nasa.gov/lp-prod-protected/HLSL30.020/HLS.L30.T15RYP.2024207T163143.v2.0/HLS.L30.T15RYP.2024207T163143.v2.0.B05.tif', 'https://data.lpdaac.earthdatacloud.nasa.gov/lp-prod-protected/HLSL30.020/HLS.L30.T15RYP.2024207T163143.v2.0/HLS.L30.T15RYP.2024207T163143.v2.0.B01.tif', 'https://data.lpdaac.earthdatacloud.nasa.gov/lp-prod-protected/HLSL30.020/HLS.L30.T15RYP.2024207T163143.v2.0/HLS.L30.T15RYP.2024207T163143.v2.0.B03.tif', 'https://data.lpdaac.earthdatacloud.nasa.gov/lp-prod-protected/HLSL30.020/HLS.L30.T15RYP.2024207T163143.v2.0/HLS.L30.T15RYP.2024207T163143.v2.0.B04.tif', 'https://data.lpdaac.earthdatacloud.nasa.gov/lp-prod-protected/HLSL30.020/HLS.L30.T15RYP.2024207T163143.v2.0/HLS.L30.T15RYP.2024207T163143.v2.0.B10.tif', 'https://data.lpdaac.earthdatacloud.nasa.gov/lp-prod-protected/HLSL30.020/HLS.L30.T15RYP.2024207T163143.v2.0/HLS.L30.T15RYP.2024207T163143.v2.0.VZA.tif', 'https://data.lpdaac.earthdatacloud.nasa.gov/lp-prod-protected/HLSL30.020/HLS.L30.T15RYP.2024207T163143.v2.0/HLS.L30.T15RYP.2024207T163143.v2.0.B09.tif', 'https://data.lpdaac.earthdatacloud.nasa.gov/lp-prod-protected/HLSL30.020/HLS.L30.T15RYP.2024207T163143.v2.0/HLS.L30.T15RYP.2024207T163143.v2.0.B07.tif', 'https://data.lpdaac.earthdatacloud.nasa.gov/lp-prod-protected/HLSL30.020/HLS.L30.T15RYP.2024207T163143.v2.0/HLS.L30.T15RYP.2024207T163143.v2.0.SZA.tif', 'https://data.lpdaac.earthdatacloud.nasa.gov/lp-prod-protected/HLSL30.020/HLS.L30.T15RYP.2024207T163143.v2.0/HLS.L30.T15RYP.2024207T163143.v2.0.Fmask.tif', 'https://data.lpdaac.earthdatacloud.nasa.gov/lp-prod-protected/HLSL30.020/HLS.L30.T15RYP.2024207T163143.v2.0/HLS.L30.T15RYP.2024207T163143.v2.0.B02.tif', 'https://data.lpdaac.earthdatacloud.nasa.gov/lp-prod-protected/HLSL30.020/HLS.L30.T15RYP.2024207T163143.v2.0/HLS.L30.T15RYP.2024207T163143.v2.0.VAA.tif'], Collection: {'EntryTitle': 'HLS Landsat Operational Land Imager Surface Reflectance and TOA Brightness Daily Global 30m v2.0'}\n",
            "Spatial coverage: {'HorizontalSpatialDomain': {'Geometry': {'GPolygons': [{'Boundary': {'Points': [{'Longitude': -90.10082051, 'Latitude': 29.70587294}, {'Longitude': -89.32008927, 'Latitude': 29.72186577}, {'Longitude': -89.04883713, 'Latitude': 30.71689758}, {'Longitude': -90.13201749, 'Latitude': 30.69527405}, {'Longitude': -90.10082051, 'Latitude': 29.70587294}]}}]}}}\n",
            "Temporal coverage: {'RangeDateTime': {'BeginningDateTime': '2024-07-25T16:31:43.265Z', 'EndingDateTime': '2024-07-25T16:31:43.265Z'}}\n",
            "Size(MB): 147.18633270263672\n",
            "Data: ['https://data.lpdaac.earthdatacloud.nasa.gov/lp-prod-protected/HLSL30.020/HLS.L30.T16RBU.2024207T163143.v2.0/HLS.L30.T16RBU.2024207T163143.v2.0.B05.tif', 'https://data.lpdaac.earthdatacloud.nasa.gov/lp-prod-protected/HLSL30.020/HLS.L30.T16RBU.2024207T163143.v2.0/HLS.L30.T16RBU.2024207T163143.v2.0.SZA.tif', 'https://data.lpdaac.earthdatacloud.nasa.gov/lp-prod-protected/HLSL30.020/HLS.L30.T16RBU.2024207T163143.v2.0/HLS.L30.T16RBU.2024207T163143.v2.0.B07.tif', 'https://data.lpdaac.earthdatacloud.nasa.gov/lp-prod-protected/HLSL30.020/HLS.L30.T16RBU.2024207T163143.v2.0/HLS.L30.T16RBU.2024207T163143.v2.0.SAA.tif', 'https://data.lpdaac.earthdatacloud.nasa.gov/lp-prod-protected/HLSL30.020/HLS.L30.T16RBU.2024207T163143.v2.0/HLS.L30.T16RBU.2024207T163143.v2.0.Fmask.tif', 'https://data.lpdaac.earthdatacloud.nasa.gov/lp-prod-protected/HLSL30.020/HLS.L30.T16RBU.2024207T163143.v2.0/HLS.L30.T16RBU.2024207T163143.v2.0.B01.tif', 'https://data.lpdaac.earthdatacloud.nasa.gov/lp-prod-protected/HLSL30.020/HLS.L30.T16RBU.2024207T163143.v2.0/HLS.L30.T16RBU.2024207T163143.v2.0.B06.tif', 'https://data.lpdaac.earthdatacloud.nasa.gov/lp-prod-protected/HLSL30.020/HLS.L30.T16RBU.2024207T163143.v2.0/HLS.L30.T16RBU.2024207T163143.v2.0.B03.tif', 'https://data.lpdaac.earthdatacloud.nasa.gov/lp-prod-protected/HLSL30.020/HLS.L30.T16RBU.2024207T163143.v2.0/HLS.L30.T16RBU.2024207T163143.v2.0.B10.tif', 'https://data.lpdaac.earthdatacloud.nasa.gov/lp-prod-protected/HLSL30.020/HLS.L30.T16RBU.2024207T163143.v2.0/HLS.L30.T16RBU.2024207T163143.v2.0.B02.tif', 'https://data.lpdaac.earthdatacloud.nasa.gov/lp-prod-protected/HLSL30.020/HLS.L30.T16RBU.2024207T163143.v2.0/HLS.L30.T16RBU.2024207T163143.v2.0.VAA.tif', 'https://data.lpdaac.earthdatacloud.nasa.gov/lp-prod-protected/HLSL30.020/HLS.L30.T16RBU.2024207T163143.v2.0/HLS.L30.T16RBU.2024207T163143.v2.0.B11.tif', 'https://data.lpdaac.earthdatacloud.nasa.gov/lp-prod-protected/HLSL30.020/HLS.L30.T16RBU.2024207T163143.v2.0/HLS.L30.T16RBU.2024207T163143.v2.0.VZA.tif', 'https://data.lpdaac.earthdatacloud.nasa.gov/lp-prod-protected/HLSL30.020/HLS.L30.T16RBU.2024207T163143.v2.0/HLS.L30.T16RBU.2024207T163143.v2.0.B04.tif', 'https://data.lpdaac.earthdatacloud.nasa.gov/lp-prod-protected/HLSL30.020/HLS.L30.T16RBU.2024207T163143.v2.0/HLS.L30.T16RBU.2024207T163143.v2.0.B09.tif'], Collection: {'EntryTitle': 'HLS Landsat Operational Land Imager Surface Reflectance and TOA Brightness Daily Global 30m v2.0'}\n",
            "Spatial coverage: {'HorizontalSpatialDomain': {'Geometry': {'GPolygons': [{'Boundary': {'Points': [{'Longitude': -90.07372506, 'Latitude': 28.80444525}, {'Longitude': -89.5639836, 'Latitude': 28.8150983}, {'Longitude': -89.29637613, 'Latitude': 29.81050704}, {'Longitude': -90.10353675, 'Latitude': 29.79400715}, {'Longitude': -90.07372506, 'Latitude': 28.80444525}]}}]}}}\n",
            "Temporal coverage: {'RangeDateTime': {'BeginningDateTime': '2024-07-25T16:31:43.265Z', 'EndingDateTime': '2024-07-25T16:32:07.156Z'}}\n",
            "Size(MB): 102.61906719207764\n",
            "Data: ['https://data.lpdaac.earthdatacloud.nasa.gov/lp-prod-protected/HLSL30.020/HLS.L30.T16RBT.2024207T163143.v2.0/HLS.L30.T16RBT.2024207T163143.v2.0.B04.tif', 'https://data.lpdaac.earthdatacloud.nasa.gov/lp-prod-protected/HLSL30.020/HLS.L30.T16RBT.2024207T163143.v2.0/HLS.L30.T16RBT.2024207T163143.v2.0.B02.tif', 'https://data.lpdaac.earthdatacloud.nasa.gov/lp-prod-protected/HLSL30.020/HLS.L30.T16RBT.2024207T163143.v2.0/HLS.L30.T16RBT.2024207T163143.v2.0.B11.tif', 'https://data.lpdaac.earthdatacloud.nasa.gov/lp-prod-protected/HLSL30.020/HLS.L30.T16RBT.2024207T163143.v2.0/HLS.L30.T16RBT.2024207T163143.v2.0.VAA.tif', 'https://data.lpdaac.earthdatacloud.nasa.gov/lp-prod-protected/HLSL30.020/HLS.L30.T16RBT.2024207T163143.v2.0/HLS.L30.T16RBT.2024207T163143.v2.0.VZA.tif', 'https://data.lpdaac.earthdatacloud.nasa.gov/lp-prod-protected/HLSL30.020/HLS.L30.T16RBT.2024207T163143.v2.0/HLS.L30.T16RBT.2024207T163143.v2.0.B03.tif', 'https://data.lpdaac.earthdatacloud.nasa.gov/lp-prod-protected/HLSL30.020/HLS.L30.T16RBT.2024207T163143.v2.0/HLS.L30.T16RBT.2024207T163143.v2.0.B01.tif', 'https://data.lpdaac.earthdatacloud.nasa.gov/lp-prod-protected/HLSL30.020/HLS.L30.T16RBT.2024207T163143.v2.0/HLS.L30.T16RBT.2024207T163143.v2.0.B10.tif', 'https://data.lpdaac.earthdatacloud.nasa.gov/lp-prod-protected/HLSL30.020/HLS.L30.T16RBT.2024207T163143.v2.0/HLS.L30.T16RBT.2024207T163143.v2.0.B07.tif', 'https://data.lpdaac.earthdatacloud.nasa.gov/lp-prod-protected/HLSL30.020/HLS.L30.T16RBT.2024207T163143.v2.0/HLS.L30.T16RBT.2024207T163143.v2.0.SZA.tif', 'https://data.lpdaac.earthdatacloud.nasa.gov/lp-prod-protected/HLSL30.020/HLS.L30.T16RBT.2024207T163143.v2.0/HLS.L30.T16RBT.2024207T163143.v2.0.B06.tif', 'https://data.lpdaac.earthdatacloud.nasa.gov/lp-prod-protected/HLSL30.020/HLS.L30.T16RBT.2024207T163143.v2.0/HLS.L30.T16RBT.2024207T163143.v2.0.B05.tif', 'https://data.lpdaac.earthdatacloud.nasa.gov/lp-prod-protected/HLSL30.020/HLS.L30.T16RBT.2024207T163143.v2.0/HLS.L30.T16RBT.2024207T163143.v2.0.SAA.tif', 'https://data.lpdaac.earthdatacloud.nasa.gov/lp-prod-protected/HLSL30.020/HLS.L30.T16RBT.2024207T163143.v2.0/HLS.L30.T16RBT.2024207T163143.v2.0.B09.tif', 'https://data.lpdaac.earthdatacloud.nasa.gov/lp-prod-protected/HLSL30.020/HLS.L30.T16RBT.2024207T163143.v2.0/HLS.L30.T16RBT.2024207T163143.v2.0.Fmask.tif'], Collection: {'EntryTitle': 'HLS Landsat Operational Land Imager Surface Reflectance and TOA Brightness Daily Global 30m v2.0'}\n",
            "Spatial coverage: {'HorizontalSpatialDomain': {'Geometry': {'GPolygons': [{'Boundary': {'Points': [{'Longitude': -89.82661214, 'Latitude': 28.80213717}, {'Longitude': -89.79583778, 'Latitude': 29.79160422}, {'Longitude': -90.93082361, 'Latitude': 29.81426153}, {'Longitude': -90.95072084, 'Latitude': 28.82389994}, {'Longitude': -89.82661214, 'Latitude': 28.80213717}]}}]}}}\n",
            "Temporal coverage: {'RangeDateTime': {'BeginningDateTime': '2024-07-25T16:31:43.265Z', 'EndingDateTime': '2024-07-25T16:32:07.156Z'}}\n",
            "Size(MB): 169.49930667877197\n",
            "Data: ['https://data.lpdaac.earthdatacloud.nasa.gov/lp-prod-protected/HLSL30.020/HLS.L30.T15RYN.2024207T163143.v2.0/HLS.L30.T15RYN.2024207T163143.v2.0.SZA.tif', 'https://data.lpdaac.earthdatacloud.nasa.gov/lp-prod-protected/HLSL30.020/HLS.L30.T15RYN.2024207T163143.v2.0/HLS.L30.T15RYN.2024207T163143.v2.0.B01.tif', 'https://data.lpdaac.earthdatacloud.nasa.gov/lp-prod-protected/HLSL30.020/HLS.L30.T15RYN.2024207T163143.v2.0/HLS.L30.T15RYN.2024207T163143.v2.0.B09.tif', 'https://data.lpdaac.earthdatacloud.nasa.gov/lp-prod-protected/HLSL30.020/HLS.L30.T15RYN.2024207T163143.v2.0/HLS.L30.T15RYN.2024207T163143.v2.0.B06.tif', 'https://data.lpdaac.earthdatacloud.nasa.gov/lp-prod-protected/HLSL30.020/HLS.L30.T15RYN.2024207T163143.v2.0/HLS.L30.T15RYN.2024207T163143.v2.0.B07.tif', 'https://data.lpdaac.earthdatacloud.nasa.gov/lp-prod-protected/HLSL30.020/HLS.L30.T15RYN.2024207T163143.v2.0/HLS.L30.T15RYN.2024207T163143.v2.0.B05.tif', 'https://data.lpdaac.earthdatacloud.nasa.gov/lp-prod-protected/HLSL30.020/HLS.L30.T15RYN.2024207T163143.v2.0/HLS.L30.T15RYN.2024207T163143.v2.0.VZA.tif', 'https://data.lpdaac.earthdatacloud.nasa.gov/lp-prod-protected/HLSL30.020/HLS.L30.T15RYN.2024207T163143.v2.0/HLS.L30.T15RYN.2024207T163143.v2.0.B04.tif', 'https://data.lpdaac.earthdatacloud.nasa.gov/lp-prod-protected/HLSL30.020/HLS.L30.T15RYN.2024207T163143.v2.0/HLS.L30.T15RYN.2024207T163143.v2.0.B11.tif', 'https://data.lpdaac.earthdatacloud.nasa.gov/lp-prod-protected/HLSL30.020/HLS.L30.T15RYN.2024207T163143.v2.0/HLS.L30.T15RYN.2024207T163143.v2.0.B02.tif', 'https://data.lpdaac.earthdatacloud.nasa.gov/lp-prod-protected/HLSL30.020/HLS.L30.T15RYN.2024207T163143.v2.0/HLS.L30.T15RYN.2024207T163143.v2.0.Fmask.tif', 'https://data.lpdaac.earthdatacloud.nasa.gov/lp-prod-protected/HLSL30.020/HLS.L30.T15RYN.2024207T163143.v2.0/HLS.L30.T15RYN.2024207T163143.v2.0.SAA.tif', 'https://data.lpdaac.earthdatacloud.nasa.gov/lp-prod-protected/HLSL30.020/HLS.L30.T15RYN.2024207T163143.v2.0/HLS.L30.T15RYN.2024207T163143.v2.0.VAA.tif', 'https://data.lpdaac.earthdatacloud.nasa.gov/lp-prod-protected/HLSL30.020/HLS.L30.T15RYN.2024207T163143.v2.0/HLS.L30.T15RYN.2024207T163143.v2.0.B10.tif', 'https://data.lpdaac.earthdatacloud.nasa.gov/lp-prod-protected/HLSL30.020/HLS.L30.T15RYN.2024207T163143.v2.0/HLS.L30.T15RYN.2024207T163143.v2.0.B03.tif'], Collection: {'EntryTitle': 'HLS Landsat Operational Land Imager Surface Reflectance and TOA Brightness Daily Global 30m v2.0'}\n",
            "Spatial coverage: {'HorizontalSpatialDomain': {'Geometry': {'GPolygons': [{'Boundary': {'Points': [{'Longitude': -90.10082051, 'Latitude': 29.70587294}, {'Longitude': -89.29901363, 'Latitude': 29.72223362}, {'Longitude': -89.02754446, 'Latitude': 30.717232}, {'Longitude': -90.13201749, 'Latitude': 30.69527405}, {'Longitude': -90.10082051, 'Latitude': 29.70587294}]}}]}}}\n",
            "Temporal coverage: {'RangeDateTime': {'BeginningDateTime': '2024-08-02T16:31:36.413Z', 'EndingDateTime': '2024-08-02T16:31:36.413Z'}}\n",
            "Size(MB): 147.36795234680176\n",
            "Data: ['https://data.lpdaac.earthdatacloud.nasa.gov/lp-prod-protected/HLSL30.020/HLS.L30.T16RBU.2024215T163136.v2.0/HLS.L30.T16RBU.2024215T163136.v2.0.B10.tif', 'https://data.lpdaac.earthdatacloud.nasa.gov/lp-prod-protected/HLSL30.020/HLS.L30.T16RBU.2024215T163136.v2.0/HLS.L30.T16RBU.2024215T163136.v2.0.B03.tif', 'https://data.lpdaac.earthdatacloud.nasa.gov/lp-prod-protected/HLSL30.020/HLS.L30.T16RBU.2024215T163136.v2.0/HLS.L30.T16RBU.2024215T163136.v2.0.B04.tif', 'https://data.lpdaac.earthdatacloud.nasa.gov/lp-prod-protected/HLSL30.020/HLS.L30.T16RBU.2024215T163136.v2.0/HLS.L30.T16RBU.2024215T163136.v2.0.B06.tif', 'https://data.lpdaac.earthdatacloud.nasa.gov/lp-prod-protected/HLSL30.020/HLS.L30.T16RBU.2024215T163136.v2.0/HLS.L30.T16RBU.2024215T163136.v2.0.B01.tif', 'https://data.lpdaac.earthdatacloud.nasa.gov/lp-prod-protected/HLSL30.020/HLS.L30.T16RBU.2024215T163136.v2.0/HLS.L30.T16RBU.2024215T163136.v2.0.B07.tif', 'https://data.lpdaac.earthdatacloud.nasa.gov/lp-prod-protected/HLSL30.020/HLS.L30.T16RBU.2024215T163136.v2.0/HLS.L30.T16RBU.2024215T163136.v2.0.VZA.tif', 'https://data.lpdaac.earthdatacloud.nasa.gov/lp-prod-protected/HLSL30.020/HLS.L30.T16RBU.2024215T163136.v2.0/HLS.L30.T16RBU.2024215T163136.v2.0.B11.tif', 'https://data.lpdaac.earthdatacloud.nasa.gov/lp-prod-protected/HLSL30.020/HLS.L30.T16RBU.2024215T163136.v2.0/HLS.L30.T16RBU.2024215T163136.v2.0.B09.tif', 'https://data.lpdaac.earthdatacloud.nasa.gov/lp-prod-protected/HLSL30.020/HLS.L30.T16RBU.2024215T163136.v2.0/HLS.L30.T16RBU.2024215T163136.v2.0.B02.tif', 'https://data.lpdaac.earthdatacloud.nasa.gov/lp-prod-protected/HLSL30.020/HLS.L30.T16RBU.2024215T163136.v2.0/HLS.L30.T16RBU.2024215T163136.v2.0.B05.tif', 'https://data.lpdaac.earthdatacloud.nasa.gov/lp-prod-protected/HLSL30.020/HLS.L30.T16RBU.2024215T163136.v2.0/HLS.L30.T16RBU.2024215T163136.v2.0.VAA.tif', 'https://data.lpdaac.earthdatacloud.nasa.gov/lp-prod-protected/HLSL30.020/HLS.L30.T16RBU.2024215T163136.v2.0/HLS.L30.T16RBU.2024215T163136.v2.0.SZA.tif', 'https://data.lpdaac.earthdatacloud.nasa.gov/lp-prod-protected/HLSL30.020/HLS.L30.T16RBU.2024215T163136.v2.0/HLS.L30.T16RBU.2024215T163136.v2.0.Fmask.tif', 'https://data.lpdaac.earthdatacloud.nasa.gov/lp-prod-protected/HLSL30.020/HLS.L30.T16RBU.2024215T163136.v2.0/HLS.L30.T16RBU.2024215T163136.v2.0.SAA.tif'], Collection: {'EntryTitle': 'HLS Landsat Operational Land Imager Surface Reflectance and TOA Brightness Daily Global 30m v2.0'}\n",
            "Spatial coverage: {'HorizontalSpatialDomain': {'Geometry': {'GPolygons': [{'Boundary': {'Points': [{'Longitude': -90.07372506, 'Latitude': 28.80444525}, {'Longitude': -89.54249575, 'Latitude': 28.81604633}, {'Longitude': -89.27497137, 'Latitude': 29.81087743}, {'Longitude': -90.10353675, 'Latitude': 29.79400715}, {'Longitude': -90.07372506, 'Latitude': 28.80444525}]}}]}}}\n",
            "Temporal coverage: {'RangeDateTime': {'BeginningDateTime': '2024-08-02T16:31:36.413Z', 'EndingDateTime': '2024-08-02T16:32:00.308Z'}}\n",
            "Size(MB): 99.60951709747314\n",
            "Data: ['https://data.lpdaac.earthdatacloud.nasa.gov/lp-prod-protected/HLSL30.020/HLS.L30.T16RBT.2024215T163136.v2.0/HLS.L30.T16RBT.2024215T163136.v2.0.B10.tif', 'https://data.lpdaac.earthdatacloud.nasa.gov/lp-prod-protected/HLSL30.020/HLS.L30.T16RBT.2024215T163136.v2.0/HLS.L30.T16RBT.2024215T163136.v2.0.B06.tif', 'https://data.lpdaac.earthdatacloud.nasa.gov/lp-prod-protected/HLSL30.020/HLS.L30.T16RBT.2024215T163136.v2.0/HLS.L30.T16RBT.2024215T163136.v2.0.Fmask.tif', 'https://data.lpdaac.earthdatacloud.nasa.gov/lp-prod-protected/HLSL30.020/HLS.L30.T16RBT.2024215T163136.v2.0/HLS.L30.T16RBT.2024215T163136.v2.0.B02.tif', 'https://data.lpdaac.earthdatacloud.nasa.gov/lp-prod-protected/HLSL30.020/HLS.L30.T16RBT.2024215T163136.v2.0/HLS.L30.T16RBT.2024215T163136.v2.0.SZA.tif', 'https://data.lpdaac.earthdatacloud.nasa.gov/lp-prod-protected/HLSL30.020/HLS.L30.T16RBT.2024215T163136.v2.0/HLS.L30.T16RBT.2024215T163136.v2.0.B03.tif', 'https://data.lpdaac.earthdatacloud.nasa.gov/lp-prod-protected/HLSL30.020/HLS.L30.T16RBT.2024215T163136.v2.0/HLS.L30.T16RBT.2024215T163136.v2.0.B01.tif', 'https://data.lpdaac.earthdatacloud.nasa.gov/lp-prod-protected/HLSL30.020/HLS.L30.T16RBT.2024215T163136.v2.0/HLS.L30.T16RBT.2024215T163136.v2.0.B11.tif', 'https://data.lpdaac.earthdatacloud.nasa.gov/lp-prod-protected/HLSL30.020/HLS.L30.T16RBT.2024215T163136.v2.0/HLS.L30.T16RBT.2024215T163136.v2.0.B05.tif', 'https://data.lpdaac.earthdatacloud.nasa.gov/lp-prod-protected/HLSL30.020/HLS.L30.T16RBT.2024215T163136.v2.0/HLS.L30.T16RBT.2024215T163136.v2.0.B07.tif', 'https://data.lpdaac.earthdatacloud.nasa.gov/lp-prod-protected/HLSL30.020/HLS.L30.T16RBT.2024215T163136.v2.0/HLS.L30.T16RBT.2024215T163136.v2.0.SAA.tif', 'https://data.lpdaac.earthdatacloud.nasa.gov/lp-prod-protected/HLSL30.020/HLS.L30.T16RBT.2024215T163136.v2.0/HLS.L30.T16RBT.2024215T163136.v2.0.B09.tif', 'https://data.lpdaac.earthdatacloud.nasa.gov/lp-prod-protected/HLSL30.020/HLS.L30.T16RBT.2024215T163136.v2.0/HLS.L30.T16RBT.2024215T163136.v2.0.B04.tif', 'https://data.lpdaac.earthdatacloud.nasa.gov/lp-prod-protected/HLSL30.020/HLS.L30.T16RBT.2024215T163136.v2.0/HLS.L30.T16RBT.2024215T163136.v2.0.VAA.tif', 'https://data.lpdaac.earthdatacloud.nasa.gov/lp-prod-protected/HLSL30.020/HLS.L30.T16RBT.2024215T163136.v2.0/HLS.L30.T16RBT.2024215T163136.v2.0.VZA.tif'], Collection: {'EntryTitle': 'HLS Landsat Operational Land Imager Surface Reflectance and TOA Brightness Daily Global 30m v2.0'}\n",
            "Spatial coverage: {'HorizontalSpatialDomain': {'Geometry': {'GPolygons': [{'Boundary': {'Points': [{'Longitude': -89.82661214, 'Latitude': 28.80213717}, {'Longitude': -89.79583778, 'Latitude': 29.79160422}, {'Longitude': -90.93082361, 'Latitude': 29.81426153}, {'Longitude': -90.95072084, 'Latitude': 28.82389994}, {'Longitude': -89.82661214, 'Latitude': 28.80213717}]}}]}}}\n",
            "Temporal coverage: {'RangeDateTime': {'BeginningDateTime': '2024-08-02T16:31:36.413Z', 'EndingDateTime': '2024-08-02T16:32:00.308Z'}}\n",
            "Size(MB): 171.2643232345581\n",
            "Data: ['https://data.lpdaac.earthdatacloud.nasa.gov/lp-prod-protected/HLSL30.020/HLS.L30.T15RYN.2024215T163136.v2.0/HLS.L30.T15RYN.2024215T163136.v2.0.VZA.tif', 'https://data.lpdaac.earthdatacloud.nasa.gov/lp-prod-protected/HLSL30.020/HLS.L30.T15RYN.2024215T163136.v2.0/HLS.L30.T15RYN.2024215T163136.v2.0.B09.tif', 'https://data.lpdaac.earthdatacloud.nasa.gov/lp-prod-protected/HLSL30.020/HLS.L30.T15RYN.2024215T163136.v2.0/HLS.L30.T15RYN.2024215T163136.v2.0.B03.tif', 'https://data.lpdaac.earthdatacloud.nasa.gov/lp-prod-protected/HLSL30.020/HLS.L30.T15RYN.2024215T163136.v2.0/HLS.L30.T15RYN.2024215T163136.v2.0.B01.tif', 'https://data.lpdaac.earthdatacloud.nasa.gov/lp-prod-protected/HLSL30.020/HLS.L30.T15RYN.2024215T163136.v2.0/HLS.L30.T15RYN.2024215T163136.v2.0.B06.tif', 'https://data.lpdaac.earthdatacloud.nasa.gov/lp-prod-protected/HLSL30.020/HLS.L30.T15RYN.2024215T163136.v2.0/HLS.L30.T15RYN.2024215T163136.v2.0.Fmask.tif', 'https://data.lpdaac.earthdatacloud.nasa.gov/lp-prod-protected/HLSL30.020/HLS.L30.T15RYN.2024215T163136.v2.0/HLS.L30.T15RYN.2024215T163136.v2.0.B02.tif', 'https://data.lpdaac.earthdatacloud.nasa.gov/lp-prod-protected/HLSL30.020/HLS.L30.T15RYN.2024215T163136.v2.0/HLS.L30.T15RYN.2024215T163136.v2.0.B11.tif', 'https://data.lpdaac.earthdatacloud.nasa.gov/lp-prod-protected/HLSL30.020/HLS.L30.T15RYN.2024215T163136.v2.0/HLS.L30.T15RYN.2024215T163136.v2.0.B05.tif', 'https://data.lpdaac.earthdatacloud.nasa.gov/lp-prod-protected/HLSL30.020/HLS.L30.T15RYN.2024215T163136.v2.0/HLS.L30.T15RYN.2024215T163136.v2.0.SZA.tif', 'https://data.lpdaac.earthdatacloud.nasa.gov/lp-prod-protected/HLSL30.020/HLS.L30.T15RYN.2024215T163136.v2.0/HLS.L30.T15RYN.2024215T163136.v2.0.B10.tif', 'https://data.lpdaac.earthdatacloud.nasa.gov/lp-prod-protected/HLSL30.020/HLS.L30.T15RYN.2024215T163136.v2.0/HLS.L30.T15RYN.2024215T163136.v2.0.B07.tif', 'https://data.lpdaac.earthdatacloud.nasa.gov/lp-prod-protected/HLSL30.020/HLS.L30.T15RYN.2024215T163136.v2.0/HLS.L30.T15RYN.2024215T163136.v2.0.SAA.tif', 'https://data.lpdaac.earthdatacloud.nasa.gov/lp-prod-protected/HLSL30.020/HLS.L30.T15RYN.2024215T163136.v2.0/HLS.L30.T15RYN.2024215T163136.v2.0.B04.tif', 'https://data.lpdaac.earthdatacloud.nasa.gov/lp-prod-protected/HLSL30.020/HLS.L30.T15RYN.2024215T163136.v2.0/HLS.L30.T15RYN.2024215T163136.v2.0.VAA.tif'], Collection: {'EntryTitle': 'HLS Landsat Operational Land Imager Surface Reflectance and TOA Brightness Daily Global 30m v2.0'}\n",
            "Spatial coverage: {'HorizontalSpatialDomain': {'Geometry': {'GPolygons': [{'Boundary': {'Points': [{'Longitude': -89.80204784, 'Latitude': 29.7035609}, {'Longitude': -89.76643746, 'Latitude': 30.69278312}, {'Longitude': -90.91181412, 'Latitude': 30.71627038}, {'Longitude': -90.93263654, 'Latitude': 29.72605548}, {'Longitude': -89.80204784, 'Latitude': 29.7035609}]}}]}}}\n",
            "Temporal coverage: {'RangeDateTime': {'BeginningDateTime': '2024-08-02T16:31:36.413Z', 'EndingDateTime': '2024-08-02T16:31:36.413Z'}}\n",
            "Size(MB): 179.62010192871094\n",
            "Data: ['https://data.lpdaac.earthdatacloud.nasa.gov/lp-prod-protected/HLSL30.020/HLS.L30.T15RYP.2024215T163136.v2.0/HLS.L30.T15RYP.2024215T163136.v2.0.B04.tif', 'https://data.lpdaac.earthdatacloud.nasa.gov/lp-prod-protected/HLSL30.020/HLS.L30.T15RYP.2024215T163136.v2.0/HLS.L30.T15RYP.2024215T163136.v2.0.VZA.tif', 'https://data.lpdaac.earthdatacloud.nasa.gov/lp-prod-protected/HLSL30.020/HLS.L30.T15RYP.2024215T163136.v2.0/HLS.L30.T15RYP.2024215T163136.v2.0.VAA.tif', 'https://data.lpdaac.earthdatacloud.nasa.gov/lp-prod-protected/HLSL30.020/HLS.L30.T15RYP.2024215T163136.v2.0/HLS.L30.T15RYP.2024215T163136.v2.0.B02.tif', 'https://data.lpdaac.earthdatacloud.nasa.gov/lp-prod-protected/HLSL30.020/HLS.L30.T15RYP.2024215T163136.v2.0/HLS.L30.T15RYP.2024215T163136.v2.0.B10.tif', 'https://data.lpdaac.earthdatacloud.nasa.gov/lp-prod-protected/HLSL30.020/HLS.L30.T15RYP.2024215T163136.v2.0/HLS.L30.T15RYP.2024215T163136.v2.0.SZA.tif', 'https://data.lpdaac.earthdatacloud.nasa.gov/lp-prod-protected/HLSL30.020/HLS.L30.T15RYP.2024215T163136.v2.0/HLS.L30.T15RYP.2024215T163136.v2.0.B03.tif', 'https://data.lpdaac.earthdatacloud.nasa.gov/lp-prod-protected/HLSL30.020/HLS.L30.T15RYP.2024215T163136.v2.0/HLS.L30.T15RYP.2024215T163136.v2.0.B06.tif', 'https://data.lpdaac.earthdatacloud.nasa.gov/lp-prod-protected/HLSL30.020/HLS.L30.T15RYP.2024215T163136.v2.0/HLS.L30.T15RYP.2024215T163136.v2.0.Fmask.tif', 'https://data.lpdaac.earthdatacloud.nasa.gov/lp-prod-protected/HLSL30.020/HLS.L30.T15RYP.2024215T163136.v2.0/HLS.L30.T15RYP.2024215T163136.v2.0.B01.tif', 'https://data.lpdaac.earthdatacloud.nasa.gov/lp-prod-protected/HLSL30.020/HLS.L30.T15RYP.2024215T163136.v2.0/HLS.L30.T15RYP.2024215T163136.v2.0.B07.tif', 'https://data.lpdaac.earthdatacloud.nasa.gov/lp-prod-protected/HLSL30.020/HLS.L30.T15RYP.2024215T163136.v2.0/HLS.L30.T15RYP.2024215T163136.v2.0.B11.tif', 'https://data.lpdaac.earthdatacloud.nasa.gov/lp-prod-protected/HLSL30.020/HLS.L30.T15RYP.2024215T163136.v2.0/HLS.L30.T15RYP.2024215T163136.v2.0.B05.tif', 'https://data.lpdaac.earthdatacloud.nasa.gov/lp-prod-protected/HLSL30.020/HLS.L30.T15RYP.2024215T163136.v2.0/HLS.L30.T15RYP.2024215T163136.v2.0.SAA.tif', 'https://data.lpdaac.earthdatacloud.nasa.gov/lp-prod-protected/HLSL30.020/HLS.L30.T15RYP.2024215T163136.v2.0/HLS.L30.T15RYP.2024215T163136.v2.0.B09.tif'], Collection: {'EntryTitle': 'HLS Landsat Operational Land Imager Surface Reflectance and TOA Brightness Daily Global 30m v2.0'}\n",
            "Spatial coverage: {'HorizontalSpatialDomain': {'Geometry': {'GPolygons': [{'Boundary': {'Points': [{'Longitude': -89.79864173, 'Latitude': 29.70347853}, {'Longitude': -89.76643746, 'Latitude': 30.69278312}, {'Longitude': -90.91181412, 'Latitude': 30.71627038}, {'Longitude': -90.93263654, 'Latitude': 29.72605548}, {'Longitude': -89.79864173, 'Latitude': 29.70347853}]}}]}}}\n",
            "Temporal coverage: {'RangeDateTime': {'BeginningDateTime': '2024-08-10T16:31:42.335Z', 'EndingDateTime': '2024-08-10T16:31:42.335Z'}}\n",
            "Size(MB): 164.6240997314453\n",
            "Data: ['https://data.lpdaac.earthdatacloud.nasa.gov/lp-prod-protected/HLSL30.020/HLS.L30.T15RYP.2024223T163142.v2.0/HLS.L30.T15RYP.2024223T163142.v2.0.B09.tif', 'https://data.lpdaac.earthdatacloud.nasa.gov/lp-prod-protected/HLSL30.020/HLS.L30.T15RYP.2024223T163142.v2.0/HLS.L30.T15RYP.2024223T163142.v2.0.B01.tif', 'https://data.lpdaac.earthdatacloud.nasa.gov/lp-prod-protected/HLSL30.020/HLS.L30.T15RYP.2024223T163142.v2.0/HLS.L30.T15RYP.2024223T163142.v2.0.B07.tif', 'https://data.lpdaac.earthdatacloud.nasa.gov/lp-prod-protected/HLSL30.020/HLS.L30.T15RYP.2024223T163142.v2.0/HLS.L30.T15RYP.2024223T163142.v2.0.B04.tif', 'https://data.lpdaac.earthdatacloud.nasa.gov/lp-prod-protected/HLSL30.020/HLS.L30.T15RYP.2024223T163142.v2.0/HLS.L30.T15RYP.2024223T163142.v2.0.VZA.tif', 'https://data.lpdaac.earthdatacloud.nasa.gov/lp-prod-protected/HLSL30.020/HLS.L30.T15RYP.2024223T163142.v2.0/HLS.L30.T15RYP.2024223T163142.v2.0.SAA.tif', 'https://data.lpdaac.earthdatacloud.nasa.gov/lp-prod-protected/HLSL30.020/HLS.L30.T15RYP.2024223T163142.v2.0/HLS.L30.T15RYP.2024223T163142.v2.0.B11.tif', 'https://data.lpdaac.earthdatacloud.nasa.gov/lp-prod-protected/HLSL30.020/HLS.L30.T15RYP.2024223T163142.v2.0/HLS.L30.T15RYP.2024223T163142.v2.0.Fmask.tif', 'https://data.lpdaac.earthdatacloud.nasa.gov/lp-prod-protected/HLSL30.020/HLS.L30.T15RYP.2024223T163142.v2.0/HLS.L30.T15RYP.2024223T163142.v2.0.B10.tif', 'https://data.lpdaac.earthdatacloud.nasa.gov/lp-prod-protected/HLSL30.020/HLS.L30.T15RYP.2024223T163142.v2.0/HLS.L30.T15RYP.2024223T163142.v2.0.B02.tif', 'https://data.lpdaac.earthdatacloud.nasa.gov/lp-prod-protected/HLSL30.020/HLS.L30.T15RYP.2024223T163142.v2.0/HLS.L30.T15RYP.2024223T163142.v2.0.SZA.tif', 'https://data.lpdaac.earthdatacloud.nasa.gov/lp-prod-protected/HLSL30.020/HLS.L30.T15RYP.2024223T163142.v2.0/HLS.L30.T15RYP.2024223T163142.v2.0.B06.tif', 'https://data.lpdaac.earthdatacloud.nasa.gov/lp-prod-protected/HLSL30.020/HLS.L30.T15RYP.2024223T163142.v2.0/HLS.L30.T15RYP.2024223T163142.v2.0.B03.tif', 'https://data.lpdaac.earthdatacloud.nasa.gov/lp-prod-protected/HLSL30.020/HLS.L30.T15RYP.2024223T163142.v2.0/HLS.L30.T15RYP.2024223T163142.v2.0.VAA.tif', 'https://data.lpdaac.earthdatacloud.nasa.gov/lp-prod-protected/HLSL30.020/HLS.L30.T15RYP.2024223T163142.v2.0/HLS.L30.T15RYP.2024223T163142.v2.0.B05.tif'], Collection: {'EntryTitle': 'HLS Landsat Operational Land Imager Surface Reflectance and TOA Brightness Daily Global 30m v2.0'}\n",
            "Spatial coverage: {'HorizontalSpatialDomain': {'Geometry': {'GPolygons': [{'Boundary': {'Points': [{'Longitude': -89.82661214, 'Latitude': 28.80213717}, {'Longitude': -89.79583778, 'Latitude': 29.79160422}, {'Longitude': -90.93082361, 'Latitude': 29.81426153}, {'Longitude': -90.95072084, 'Latitude': 28.82389994}, {'Longitude': -89.82661214, 'Latitude': 28.80213717}]}}]}}}\n",
            "Temporal coverage: {'RangeDateTime': {'BeginningDateTime': '2024-08-10T16:31:42.335Z', 'EndingDateTime': '2024-08-10T16:32:06.235Z'}}\n",
            "Size(MB): 149.200834274292\n",
            "Data: ['https://data.lpdaac.earthdatacloud.nasa.gov/lp-prod-protected/HLSL30.020/HLS.L30.T15RYN.2024223T163142.v2.0/HLS.L30.T15RYN.2024223T163142.v2.0.Fmask.tif', 'https://data.lpdaac.earthdatacloud.nasa.gov/lp-prod-protected/HLSL30.020/HLS.L30.T15RYN.2024223T163142.v2.0/HLS.L30.T15RYN.2024223T163142.v2.0.B02.tif', 'https://data.lpdaac.earthdatacloud.nasa.gov/lp-prod-protected/HLSL30.020/HLS.L30.T15RYN.2024223T163142.v2.0/HLS.L30.T15RYN.2024223T163142.v2.0.SAA.tif', 'https://data.lpdaac.earthdatacloud.nasa.gov/lp-prod-protected/HLSL30.020/HLS.L30.T15RYN.2024223T163142.v2.0/HLS.L30.T15RYN.2024223T163142.v2.0.B03.tif', 'https://data.lpdaac.earthdatacloud.nasa.gov/lp-prod-protected/HLSL30.020/HLS.L30.T15RYN.2024223T163142.v2.0/HLS.L30.T15RYN.2024223T163142.v2.0.SZA.tif', 'https://data.lpdaac.earthdatacloud.nasa.gov/lp-prod-protected/HLSL30.020/HLS.L30.T15RYN.2024223T163142.v2.0/HLS.L30.T15RYN.2024223T163142.v2.0.VAA.tif', 'https://data.lpdaac.earthdatacloud.nasa.gov/lp-prod-protected/HLSL30.020/HLS.L30.T15RYN.2024223T163142.v2.0/HLS.L30.T15RYN.2024223T163142.v2.0.B05.tif', 'https://data.lpdaac.earthdatacloud.nasa.gov/lp-prod-protected/HLSL30.020/HLS.L30.T15RYN.2024223T163142.v2.0/HLS.L30.T15RYN.2024223T163142.v2.0.B07.tif', 'https://data.lpdaac.earthdatacloud.nasa.gov/lp-prod-protected/HLSL30.020/HLS.L30.T15RYN.2024223T163142.v2.0/HLS.L30.T15RYN.2024223T163142.v2.0.VZA.tif', 'https://data.lpdaac.earthdatacloud.nasa.gov/lp-prod-protected/HLSL30.020/HLS.L30.T15RYN.2024223T163142.v2.0/HLS.L30.T15RYN.2024223T163142.v2.0.B10.tif', 'https://data.lpdaac.earthdatacloud.nasa.gov/lp-prod-protected/HLSL30.020/HLS.L30.T15RYN.2024223T163142.v2.0/HLS.L30.T15RYN.2024223T163142.v2.0.B09.tif', 'https://data.lpdaac.earthdatacloud.nasa.gov/lp-prod-protected/HLSL30.020/HLS.L30.T15RYN.2024223T163142.v2.0/HLS.L30.T15RYN.2024223T163142.v2.0.B06.tif', 'https://data.lpdaac.earthdatacloud.nasa.gov/lp-prod-protected/HLSL30.020/HLS.L30.T15RYN.2024223T163142.v2.0/HLS.L30.T15RYN.2024223T163142.v2.0.B01.tif', 'https://data.lpdaac.earthdatacloud.nasa.gov/lp-prod-protected/HLSL30.020/HLS.L30.T15RYN.2024223T163142.v2.0/HLS.L30.T15RYN.2024223T163142.v2.0.B04.tif', 'https://data.lpdaac.earthdatacloud.nasa.gov/lp-prod-protected/HLSL30.020/HLS.L30.T15RYN.2024223T163142.v2.0/HLS.L30.T15RYN.2024223T163142.v2.0.B11.tif'], Collection: {'EntryTitle': 'HLS Landsat Operational Land Imager Surface Reflectance and TOA Brightness Daily Global 30m v2.0'}\n",
            "Spatial coverage: {'HorizontalSpatialDomain': {'Geometry': {'GPolygons': [{'Boundary': {'Points': [{'Longitude': -90.07372506, 'Latitude': 28.80444525}, {'Longitude': -89.52529455, 'Latitude': 28.81636947}, {'Longitude': -89.25790932, 'Latitude': 29.81117019}, {'Longitude': -90.10353675, 'Latitude': 29.79400715}, {'Longitude': -90.07372506, 'Latitude': 28.80444525}]}}]}}}\n",
            "Temporal coverage: {'RangeDateTime': {'BeginningDateTime': '2024-08-10T16:31:42.335Z', 'EndingDateTime': '2024-08-10T16:32:06.235Z'}}\n",
            "Size(MB): 94.97221183776855\n",
            "Data: ['https://data.lpdaac.earthdatacloud.nasa.gov/lp-prod-protected/HLSL30.020/HLS.L30.T16RBT.2024223T163142.v2.0/HLS.L30.T16RBT.2024223T163142.v2.0.B09.tif', 'https://data.lpdaac.earthdatacloud.nasa.gov/lp-prod-protected/HLSL30.020/HLS.L30.T16RBT.2024223T163142.v2.0/HLS.L30.T16RBT.2024223T163142.v2.0.B11.tif', 'https://data.lpdaac.earthdatacloud.nasa.gov/lp-prod-protected/HLSL30.020/HLS.L30.T16RBT.2024223T163142.v2.0/HLS.L30.T16RBT.2024223T163142.v2.0.B06.tif', 'https://data.lpdaac.earthdatacloud.nasa.gov/lp-prod-protected/HLSL30.020/HLS.L30.T16RBT.2024223T163142.v2.0/HLS.L30.T16RBT.2024223T163142.v2.0.B04.tif', 'https://data.lpdaac.earthdatacloud.nasa.gov/lp-prod-protected/HLSL30.020/HLS.L30.T16RBT.2024223T163142.v2.0/HLS.L30.T16RBT.2024223T163142.v2.0.B01.tif', 'https://data.lpdaac.earthdatacloud.nasa.gov/lp-prod-protected/HLSL30.020/HLS.L30.T16RBT.2024223T163142.v2.0/HLS.L30.T16RBT.2024223T163142.v2.0.SAA.tif', 'https://data.lpdaac.earthdatacloud.nasa.gov/lp-prod-protected/HLSL30.020/HLS.L30.T16RBT.2024223T163142.v2.0/HLS.L30.T16RBT.2024223T163142.v2.0.VAA.tif', 'https://data.lpdaac.earthdatacloud.nasa.gov/lp-prod-protected/HLSL30.020/HLS.L30.T16RBT.2024223T163142.v2.0/HLS.L30.T16RBT.2024223T163142.v2.0.B03.tif', 'https://data.lpdaac.earthdatacloud.nasa.gov/lp-prod-protected/HLSL30.020/HLS.L30.T16RBT.2024223T163142.v2.0/HLS.L30.T16RBT.2024223T163142.v2.0.SZA.tif', 'https://data.lpdaac.earthdatacloud.nasa.gov/lp-prod-protected/HLSL30.020/HLS.L30.T16RBT.2024223T163142.v2.0/HLS.L30.T16RBT.2024223T163142.v2.0.B02.tif', 'https://data.lpdaac.earthdatacloud.nasa.gov/lp-prod-protected/HLSL30.020/HLS.L30.T16RBT.2024223T163142.v2.0/HLS.L30.T16RBT.2024223T163142.v2.0.B07.tif', 'https://data.lpdaac.earthdatacloud.nasa.gov/lp-prod-protected/HLSL30.020/HLS.L30.T16RBT.2024223T163142.v2.0/HLS.L30.T16RBT.2024223T163142.v2.0.Fmask.tif', 'https://data.lpdaac.earthdatacloud.nasa.gov/lp-prod-protected/HLSL30.020/HLS.L30.T16RBT.2024223T163142.v2.0/HLS.L30.T16RBT.2024223T163142.v2.0.B05.tif', 'https://data.lpdaac.earthdatacloud.nasa.gov/lp-prod-protected/HLSL30.020/HLS.L30.T16RBT.2024223T163142.v2.0/HLS.L30.T16RBT.2024223T163142.v2.0.B10.tif', 'https://data.lpdaac.earthdatacloud.nasa.gov/lp-prod-protected/HLSL30.020/HLS.L30.T16RBT.2024223T163142.v2.0/HLS.L30.T16RBT.2024223T163142.v2.0.VZA.tif'], Collection: {'EntryTitle': 'HLS Landsat Operational Land Imager Surface Reflectance and TOA Brightness Daily Global 30m v2.0'}\n",
            "Spatial coverage: {'HorizontalSpatialDomain': {'Geometry': {'GPolygons': [{'Boundary': {'Points': [{'Longitude': -90.10082051, 'Latitude': 29.70587294}, {'Longitude': -89.28196688, 'Latitude': 29.72252869}, {'Longitude': -89.01063532, 'Latitude': 30.71749509}, {'Longitude': -90.13201749, 'Latitude': 30.69527405}, {'Longitude': -90.10082051, 'Latitude': 29.70587294}]}}]}}}\n",
            "Temporal coverage: {'RangeDateTime': {'BeginningDateTime': '2024-08-10T16:31:42.335Z', 'EndingDateTime': '2024-08-10T16:31:42.335Z'}}\n",
            "Size(MB): 142.04215049743652\n",
            "Data: ['https://data.lpdaac.earthdatacloud.nasa.gov/lp-prod-protected/HLSL30.020/HLS.L30.T16RBU.2024223T163142.v2.0/HLS.L30.T16RBU.2024223T163142.v2.0.B11.tif', 'https://data.lpdaac.earthdatacloud.nasa.gov/lp-prod-protected/HLSL30.020/HLS.L30.T16RBU.2024223T163142.v2.0/HLS.L30.T16RBU.2024223T163142.v2.0.B01.tif', 'https://data.lpdaac.earthdatacloud.nasa.gov/lp-prod-protected/HLSL30.020/HLS.L30.T16RBU.2024223T163142.v2.0/HLS.L30.T16RBU.2024223T163142.v2.0.B04.tif', 'https://data.lpdaac.earthdatacloud.nasa.gov/lp-prod-protected/HLSL30.020/HLS.L30.T16RBU.2024223T163142.v2.0/HLS.L30.T16RBU.2024223T163142.v2.0.VZA.tif', 'https://data.lpdaac.earthdatacloud.nasa.gov/lp-prod-protected/HLSL30.020/HLS.L30.T16RBU.2024223T163142.v2.0/HLS.L30.T16RBU.2024223T163142.v2.0.B02.tif', 'https://data.lpdaac.earthdatacloud.nasa.gov/lp-prod-protected/HLSL30.020/HLS.L30.T16RBU.2024223T163142.v2.0/HLS.L30.T16RBU.2024223T163142.v2.0.SAA.tif', 'https://data.lpdaac.earthdatacloud.nasa.gov/lp-prod-protected/HLSL30.020/HLS.L30.T16RBU.2024223T163142.v2.0/HLS.L30.T16RBU.2024223T163142.v2.0.B09.tif', 'https://data.lpdaac.earthdatacloud.nasa.gov/lp-prod-protected/HLSL30.020/HLS.L30.T16RBU.2024223T163142.v2.0/HLS.L30.T16RBU.2024223T163142.v2.0.Fmask.tif', 'https://data.lpdaac.earthdatacloud.nasa.gov/lp-prod-protected/HLSL30.020/HLS.L30.T16RBU.2024223T163142.v2.0/HLS.L30.T16RBU.2024223T163142.v2.0.SZA.tif', 'https://data.lpdaac.earthdatacloud.nasa.gov/lp-prod-protected/HLSL30.020/HLS.L30.T16RBU.2024223T163142.v2.0/HLS.L30.T16RBU.2024223T163142.v2.0.VAA.tif', 'https://data.lpdaac.earthdatacloud.nasa.gov/lp-prod-protected/HLSL30.020/HLS.L30.T16RBU.2024223T163142.v2.0/HLS.L30.T16RBU.2024223T163142.v2.0.B07.tif', 'https://data.lpdaac.earthdatacloud.nasa.gov/lp-prod-protected/HLSL30.020/HLS.L30.T16RBU.2024223T163142.v2.0/HLS.L30.T16RBU.2024223T163142.v2.0.B10.tif', 'https://data.lpdaac.earthdatacloud.nasa.gov/lp-prod-protected/HLSL30.020/HLS.L30.T16RBU.2024223T163142.v2.0/HLS.L30.T16RBU.2024223T163142.v2.0.B05.tif', 'https://data.lpdaac.earthdatacloud.nasa.gov/lp-prod-protected/HLSL30.020/HLS.L30.T16RBU.2024223T163142.v2.0/HLS.L30.T16RBU.2024223T163142.v2.0.B03.tif', 'https://data.lpdaac.earthdatacloud.nasa.gov/lp-prod-protected/HLSL30.020/HLS.L30.T16RBU.2024223T163142.v2.0/HLS.L30.T16RBU.2024223T163142.v2.0.B06.tif'], Collection: {'EntryTitle': 'HLS Landsat Operational Land Imager Surface Reflectance and TOA Brightness Daily Global 30m v2.0'}\n",
            "Spatial coverage: {'HorizontalSpatialDomain': {'Geometry': {'GPolygons': [{'Boundary': {'Points': [{'Longitude': -89.79864173, 'Latitude': 29.70347853}, {'Longitude': -89.76643746, 'Latitude': 30.69278312}, {'Longitude': -90.91181412, 'Latitude': 30.71627038}, {'Longitude': -90.93263654, 'Latitude': 29.72605548}, {'Longitude': -89.79864173, 'Latitude': 29.70347853}]}}]}}}\n",
            "Temporal coverage: {'RangeDateTime': {'BeginningDateTime': '2024-08-18T16:31:46.256Z', 'EndingDateTime': '2024-08-18T16:31:46.256Z'}}\n",
            "Size(MB): 161.56768798828125\n",
            "Data: ['https://data.lpdaac.earthdatacloud.nasa.gov/lp-prod-protected/HLSL30.020/HLS.L30.T15RYP.2024231T163146.v2.0/HLS.L30.T15RYP.2024231T163146.v2.0.B10.tif', 'https://data.lpdaac.earthdatacloud.nasa.gov/lp-prod-protected/HLSL30.020/HLS.L30.T15RYP.2024231T163146.v2.0/HLS.L30.T15RYP.2024231T163146.v2.0.B09.tif', 'https://data.lpdaac.earthdatacloud.nasa.gov/lp-prod-protected/HLSL30.020/HLS.L30.T15RYP.2024231T163146.v2.0/HLS.L30.T15RYP.2024231T163146.v2.0.B04.tif', 'https://data.lpdaac.earthdatacloud.nasa.gov/lp-prod-protected/HLSL30.020/HLS.L30.T15RYP.2024231T163146.v2.0/HLS.L30.T15RYP.2024231T163146.v2.0.B02.tif', 'https://data.lpdaac.earthdatacloud.nasa.gov/lp-prod-protected/HLSL30.020/HLS.L30.T15RYP.2024231T163146.v2.0/HLS.L30.T15RYP.2024231T163146.v2.0.B06.tif', 'https://data.lpdaac.earthdatacloud.nasa.gov/lp-prod-protected/HLSL30.020/HLS.L30.T15RYP.2024231T163146.v2.0/HLS.L30.T15RYP.2024231T163146.v2.0.VAA.tif', 'https://data.lpdaac.earthdatacloud.nasa.gov/lp-prod-protected/HLSL30.020/HLS.L30.T15RYP.2024231T163146.v2.0/HLS.L30.T15RYP.2024231T163146.v2.0.B03.tif', 'https://data.lpdaac.earthdatacloud.nasa.gov/lp-prod-protected/HLSL30.020/HLS.L30.T15RYP.2024231T163146.v2.0/HLS.L30.T15RYP.2024231T163146.v2.0.Fmask.tif', 'https://data.lpdaac.earthdatacloud.nasa.gov/lp-prod-protected/HLSL30.020/HLS.L30.T15RYP.2024231T163146.v2.0/HLS.L30.T15RYP.2024231T163146.v2.0.B11.tif', 'https://data.lpdaac.earthdatacloud.nasa.gov/lp-prod-protected/HLSL30.020/HLS.L30.T15RYP.2024231T163146.v2.0/HLS.L30.T15RYP.2024231T163146.v2.0.VZA.tif', 'https://data.lpdaac.earthdatacloud.nasa.gov/lp-prod-protected/HLSL30.020/HLS.L30.T15RYP.2024231T163146.v2.0/HLS.L30.T15RYP.2024231T163146.v2.0.SZA.tif', 'https://data.lpdaac.earthdatacloud.nasa.gov/lp-prod-protected/HLSL30.020/HLS.L30.T15RYP.2024231T163146.v2.0/HLS.L30.T15RYP.2024231T163146.v2.0.B01.tif', 'https://data.lpdaac.earthdatacloud.nasa.gov/lp-prod-protected/HLSL30.020/HLS.L30.T15RYP.2024231T163146.v2.0/HLS.L30.T15RYP.2024231T163146.v2.0.B07.tif', 'https://data.lpdaac.earthdatacloud.nasa.gov/lp-prod-protected/HLSL30.020/HLS.L30.T15RYP.2024231T163146.v2.0/HLS.L30.T15RYP.2024231T163146.v2.0.B05.tif', 'https://data.lpdaac.earthdatacloud.nasa.gov/lp-prod-protected/HLSL30.020/HLS.L30.T15RYP.2024231T163146.v2.0/HLS.L30.T15RYP.2024231T163146.v2.0.SAA.tif'], Collection: {'EntryTitle': 'HLS Landsat Operational Land Imager Surface Reflectance and TOA Brightness Daily Global 30m v2.0'}\n",
            "Spatial coverage: {'HorizontalSpatialDomain': {'Geometry': {'GPolygons': [{'Boundary': {'Points': [{'Longitude': -90.07372506, 'Latitude': 28.80444525}, {'Longitude': -89.54805101, 'Latitude': 28.81702407}, {'Longitude': -89.28086548, 'Latitude': 29.81077579}, {'Longitude': -90.10353675, 'Latitude': 29.79400715}, {'Longitude': -90.07372506, 'Latitude': 28.80444525}]}}]}}}\n",
            "Temporal coverage: {'RangeDateTime': {'BeginningDateTime': '2024-08-18T16:31:46.256Z', 'EndingDateTime': '2024-08-18T16:32:10.151Z'}}\n",
            "Size(MB): 96.99237823486328\n",
            "Data: ['https://data.lpdaac.earthdatacloud.nasa.gov/lp-prod-protected/HLSL30.020/HLS.L30.T16RBT.2024231T163146.v2.0/HLS.L30.T16RBT.2024231T163146.v2.0.SAA.tif', 'https://data.lpdaac.earthdatacloud.nasa.gov/lp-prod-protected/HLSL30.020/HLS.L30.T16RBT.2024231T163146.v2.0/HLS.L30.T16RBT.2024231T163146.v2.0.B11.tif', 'https://data.lpdaac.earthdatacloud.nasa.gov/lp-prod-protected/HLSL30.020/HLS.L30.T16RBT.2024231T163146.v2.0/HLS.L30.T16RBT.2024231T163146.v2.0.B02.tif', 'https://data.lpdaac.earthdatacloud.nasa.gov/lp-prod-protected/HLSL30.020/HLS.L30.T16RBT.2024231T163146.v2.0/HLS.L30.T16RBT.2024231T163146.v2.0.B03.tif', 'https://data.lpdaac.earthdatacloud.nasa.gov/lp-prod-protected/HLSL30.020/HLS.L30.T16RBT.2024231T163146.v2.0/HLS.L30.T16RBT.2024231T163146.v2.0.VAA.tif', 'https://data.lpdaac.earthdatacloud.nasa.gov/lp-prod-protected/HLSL30.020/HLS.L30.T16RBT.2024231T163146.v2.0/HLS.L30.T16RBT.2024231T163146.v2.0.SZA.tif', 'https://data.lpdaac.earthdatacloud.nasa.gov/lp-prod-protected/HLSL30.020/HLS.L30.T16RBT.2024231T163146.v2.0/HLS.L30.T16RBT.2024231T163146.v2.0.B06.tif', 'https://data.lpdaac.earthdatacloud.nasa.gov/lp-prod-protected/HLSL30.020/HLS.L30.T16RBT.2024231T163146.v2.0/HLS.L30.T16RBT.2024231T163146.v2.0.B10.tif', 'https://data.lpdaac.earthdatacloud.nasa.gov/lp-prod-protected/HLSL30.020/HLS.L30.T16RBT.2024231T163146.v2.0/HLS.L30.T16RBT.2024231T163146.v2.0.B04.tif', 'https://data.lpdaac.earthdatacloud.nasa.gov/lp-prod-protected/HLSL30.020/HLS.L30.T16RBT.2024231T163146.v2.0/HLS.L30.T16RBT.2024231T163146.v2.0.Fmask.tif', 'https://data.lpdaac.earthdatacloud.nasa.gov/lp-prod-protected/HLSL30.020/HLS.L30.T16RBT.2024231T163146.v2.0/HLS.L30.T16RBT.2024231T163146.v2.0.VZA.tif', 'https://data.lpdaac.earthdatacloud.nasa.gov/lp-prod-protected/HLSL30.020/HLS.L30.T16RBT.2024231T163146.v2.0/HLS.L30.T16RBT.2024231T163146.v2.0.B01.tif', 'https://data.lpdaac.earthdatacloud.nasa.gov/lp-prod-protected/HLSL30.020/HLS.L30.T16RBT.2024231T163146.v2.0/HLS.L30.T16RBT.2024231T163146.v2.0.B09.tif', 'https://data.lpdaac.earthdatacloud.nasa.gov/lp-prod-protected/HLSL30.020/HLS.L30.T16RBT.2024231T163146.v2.0/HLS.L30.T16RBT.2024231T163146.v2.0.B05.tif', 'https://data.lpdaac.earthdatacloud.nasa.gov/lp-prod-protected/HLSL30.020/HLS.L30.T16RBT.2024231T163146.v2.0/HLS.L30.T16RBT.2024231T163146.v2.0.B07.tif'], Collection: {'EntryTitle': 'HLS Landsat Operational Land Imager Surface Reflectance and TOA Brightness Daily Global 30m v2.0'}\n",
            "Spatial coverage: {'HorizontalSpatialDomain': {'Geometry': {'GPolygons': [{'Boundary': {'Points': [{'Longitude': -89.82661214, 'Latitude': 28.80213717}, {'Longitude': -89.79583778, 'Latitude': 29.79160422}, {'Longitude': -90.93082361, 'Latitude': 29.81426153}, {'Longitude': -90.95072084, 'Latitude': 28.82389994}, {'Longitude': -89.82661214, 'Latitude': 28.80213717}]}}]}}}\n",
            "Temporal coverage: {'RangeDateTime': {'BeginningDateTime': '2024-08-18T16:31:46.256Z', 'EndingDateTime': '2024-08-18T16:32:10.151Z'}}\n",
            "Size(MB): 163.9861078262329\n",
            "Data: ['https://data.lpdaac.earthdatacloud.nasa.gov/lp-prod-protected/HLSL30.020/HLS.L30.T15RYN.2024231T163146.v2.0/HLS.L30.T15RYN.2024231T163146.v2.0.B03.tif', 'https://data.lpdaac.earthdatacloud.nasa.gov/lp-prod-protected/HLSL30.020/HLS.L30.T15RYN.2024231T163146.v2.0/HLS.L30.T15RYN.2024231T163146.v2.0.B04.tif', 'https://data.lpdaac.earthdatacloud.nasa.gov/lp-prod-protected/HLSL30.020/HLS.L30.T15RYN.2024231T163146.v2.0/HLS.L30.T15RYN.2024231T163146.v2.0.VZA.tif', 'https://data.lpdaac.earthdatacloud.nasa.gov/lp-prod-protected/HLSL30.020/HLS.L30.T15RYN.2024231T163146.v2.0/HLS.L30.T15RYN.2024231T163146.v2.0.SAA.tif', 'https://data.lpdaac.earthdatacloud.nasa.gov/lp-prod-protected/HLSL30.020/HLS.L30.T15RYN.2024231T163146.v2.0/HLS.L30.T15RYN.2024231T163146.v2.0.B10.tif', 'https://data.lpdaac.earthdatacloud.nasa.gov/lp-prod-protected/HLSL30.020/HLS.L30.T15RYN.2024231T163146.v2.0/HLS.L30.T15RYN.2024231T163146.v2.0.Fmask.tif', 'https://data.lpdaac.earthdatacloud.nasa.gov/lp-prod-protected/HLSL30.020/HLS.L30.T15RYN.2024231T163146.v2.0/HLS.L30.T15RYN.2024231T163146.v2.0.B05.tif', 'https://data.lpdaac.earthdatacloud.nasa.gov/lp-prod-protected/HLSL30.020/HLS.L30.T15RYN.2024231T163146.v2.0/HLS.L30.T15RYN.2024231T163146.v2.0.B09.tif', 'https://data.lpdaac.earthdatacloud.nasa.gov/lp-prod-protected/HLSL30.020/HLS.L30.T15RYN.2024231T163146.v2.0/HLS.L30.T15RYN.2024231T163146.v2.0.B01.tif', 'https://data.lpdaac.earthdatacloud.nasa.gov/lp-prod-protected/HLSL30.020/HLS.L30.T15RYN.2024231T163146.v2.0/HLS.L30.T15RYN.2024231T163146.v2.0.B07.tif', 'https://data.lpdaac.earthdatacloud.nasa.gov/lp-prod-protected/HLSL30.020/HLS.L30.T15RYN.2024231T163146.v2.0/HLS.L30.T15RYN.2024231T163146.v2.0.VAA.tif', 'https://data.lpdaac.earthdatacloud.nasa.gov/lp-prod-protected/HLSL30.020/HLS.L30.T15RYN.2024231T163146.v2.0/HLS.L30.T15RYN.2024231T163146.v2.0.B02.tif', 'https://data.lpdaac.earthdatacloud.nasa.gov/lp-prod-protected/HLSL30.020/HLS.L30.T15RYN.2024231T163146.v2.0/HLS.L30.T15RYN.2024231T163146.v2.0.SZA.tif', 'https://data.lpdaac.earthdatacloud.nasa.gov/lp-prod-protected/HLSL30.020/HLS.L30.T15RYN.2024231T163146.v2.0/HLS.L30.T15RYN.2024231T163146.v2.0.B06.tif', 'https://data.lpdaac.earthdatacloud.nasa.gov/lp-prod-protected/HLSL30.020/HLS.L30.T15RYN.2024231T163146.v2.0/HLS.L30.T15RYN.2024231T163146.v2.0.B11.tif'], Collection: {'EntryTitle': 'HLS Landsat Operational Land Imager Surface Reflectance and TOA Brightness Daily Global 30m v2.0'}\n",
            "Spatial coverage: {'HorizontalSpatialDomain': {'Geometry': {'GPolygons': [{'Boundary': {'Points': [{'Longitude': -90.10082051, 'Latitude': 29.70587294}, {'Longitude': -89.3045987, 'Latitude': 29.7224071}, {'Longitude': -89.03349392, 'Latitude': 30.71713892}, {'Longitude': -90.13201749, 'Latitude': 30.69527405}, {'Longitude': -90.10082051, 'Latitude': 29.70587294}]}}]}}}\n",
            "Temporal coverage: {'RangeDateTime': {'BeginningDateTime': '2024-08-18T16:31:46.256Z', 'EndingDateTime': '2024-08-18T16:31:46.256Z'}}\n",
            "Size(MB): 135.88897609710693\n",
            "Data: ['https://data.lpdaac.earthdatacloud.nasa.gov/lp-prod-protected/HLSL30.020/HLS.L30.T16RBU.2024231T163146.v2.0/HLS.L30.T16RBU.2024231T163146.v2.0.B10.tif', 'https://data.lpdaac.earthdatacloud.nasa.gov/lp-prod-protected/HLSL30.020/HLS.L30.T16RBU.2024231T163146.v2.0/HLS.L30.T16RBU.2024231T163146.v2.0.B04.tif', 'https://data.lpdaac.earthdatacloud.nasa.gov/lp-prod-protected/HLSL30.020/HLS.L30.T16RBU.2024231T163146.v2.0/HLS.L30.T16RBU.2024231T163146.v2.0.B09.tif', 'https://data.lpdaac.earthdatacloud.nasa.gov/lp-prod-protected/HLSL30.020/HLS.L30.T16RBU.2024231T163146.v2.0/HLS.L30.T16RBU.2024231T163146.v2.0.B07.tif', 'https://data.lpdaac.earthdatacloud.nasa.gov/lp-prod-protected/HLSL30.020/HLS.L30.T16RBU.2024231T163146.v2.0/HLS.L30.T16RBU.2024231T163146.v2.0.B01.tif', 'https://data.lpdaac.earthdatacloud.nasa.gov/lp-prod-protected/HLSL30.020/HLS.L30.T16RBU.2024231T163146.v2.0/HLS.L30.T16RBU.2024231T163146.v2.0.B03.tif', 'https://data.lpdaac.earthdatacloud.nasa.gov/lp-prod-protected/HLSL30.020/HLS.L30.T16RBU.2024231T163146.v2.0/HLS.L30.T16RBU.2024231T163146.v2.0.B06.tif', 'https://data.lpdaac.earthdatacloud.nasa.gov/lp-prod-protected/HLSL30.020/HLS.L30.T16RBU.2024231T163146.v2.0/HLS.L30.T16RBU.2024231T163146.v2.0.Fmask.tif', 'https://data.lpdaac.earthdatacloud.nasa.gov/lp-prod-protected/HLSL30.020/HLS.L30.T16RBU.2024231T163146.v2.0/HLS.L30.T16RBU.2024231T163146.v2.0.SZA.tif', 'https://data.lpdaac.earthdatacloud.nasa.gov/lp-prod-protected/HLSL30.020/HLS.L30.T16RBU.2024231T163146.v2.0/HLS.L30.T16RBU.2024231T163146.v2.0.B02.tif', 'https://data.lpdaac.earthdatacloud.nasa.gov/lp-prod-protected/HLSL30.020/HLS.L30.T16RBU.2024231T163146.v2.0/HLS.L30.T16RBU.2024231T163146.v2.0.SAA.tif', 'https://data.lpdaac.earthdatacloud.nasa.gov/lp-prod-protected/HLSL30.020/HLS.L30.T16RBU.2024231T163146.v2.0/HLS.L30.T16RBU.2024231T163146.v2.0.VZA.tif', 'https://data.lpdaac.earthdatacloud.nasa.gov/lp-prod-protected/HLSL30.020/HLS.L30.T16RBU.2024231T163146.v2.0/HLS.L30.T16RBU.2024231T163146.v2.0.B11.tif', 'https://data.lpdaac.earthdatacloud.nasa.gov/lp-prod-protected/HLSL30.020/HLS.L30.T16RBU.2024231T163146.v2.0/HLS.L30.T16RBU.2024231T163146.v2.0.VAA.tif', 'https://data.lpdaac.earthdatacloud.nasa.gov/lp-prod-protected/HLSL30.020/HLS.L30.T16RBU.2024231T163146.v2.0/HLS.L30.T16RBU.2024231T163146.v2.0.B05.tif'], Collection: {'EntryTitle': 'HLS Landsat Operational Land Imager Surface Reflectance and TOA Brightness Daily Global 30m v2.0'}\n",
            "Spatial coverage: {'HorizontalSpatialDomain': {'Geometry': {'GPolygons': [{'Boundary': {'Points': [{'Longitude': -90.07372506, 'Latitude': 28.80444525}, {'Longitude': -89.53880981, 'Latitude': 28.81611576}, {'Longitude': -89.27155898, 'Latitude': 29.81093616}, {'Longitude': -90.10353675, 'Latitude': 29.79400715}, {'Longitude': -90.07372506, 'Latitude': 28.80444525}]}}]}}}\n",
            "Temporal coverage: {'RangeDateTime': {'BeginningDateTime': '2024-08-26T16:31:51.172Z', 'EndingDateTime': '2024-08-26T16:32:15.067Z'}}\n",
            "Size(MB): 113.34068584442139\n",
            "Data: ['https://data.lpdaac.earthdatacloud.nasa.gov/lp-prod-protected/HLSL30.020/HLS.L30.T16RBT.2024239T163151.v2.0/HLS.L30.T16RBT.2024239T163151.v2.0.B11.tif', 'https://data.lpdaac.earthdatacloud.nasa.gov/lp-prod-protected/HLSL30.020/HLS.L30.T16RBT.2024239T163151.v2.0/HLS.L30.T16RBT.2024239T163151.v2.0.B05.tif', 'https://data.lpdaac.earthdatacloud.nasa.gov/lp-prod-protected/HLSL30.020/HLS.L30.T16RBT.2024239T163151.v2.0/HLS.L30.T16RBT.2024239T163151.v2.0.B10.tif', 'https://data.lpdaac.earthdatacloud.nasa.gov/lp-prod-protected/HLSL30.020/HLS.L30.T16RBT.2024239T163151.v2.0/HLS.L30.T16RBT.2024239T163151.v2.0.B04.tif', 'https://data.lpdaac.earthdatacloud.nasa.gov/lp-prod-protected/HLSL30.020/HLS.L30.T16RBT.2024239T163151.v2.0/HLS.L30.T16RBT.2024239T163151.v2.0.B06.tif', 'https://data.lpdaac.earthdatacloud.nasa.gov/lp-prod-protected/HLSL30.020/HLS.L30.T16RBT.2024239T163151.v2.0/HLS.L30.T16RBT.2024239T163151.v2.0.B07.tif', 'https://data.lpdaac.earthdatacloud.nasa.gov/lp-prod-protected/HLSL30.020/HLS.L30.T16RBT.2024239T163151.v2.0/HLS.L30.T16RBT.2024239T163151.v2.0.VAA.tif', 'https://data.lpdaac.earthdatacloud.nasa.gov/lp-prod-protected/HLSL30.020/HLS.L30.T16RBT.2024239T163151.v2.0/HLS.L30.T16RBT.2024239T163151.v2.0.VZA.tif', 'https://data.lpdaac.earthdatacloud.nasa.gov/lp-prod-protected/HLSL30.020/HLS.L30.T16RBT.2024239T163151.v2.0/HLS.L30.T16RBT.2024239T163151.v2.0.B01.tif', 'https://data.lpdaac.earthdatacloud.nasa.gov/lp-prod-protected/HLSL30.020/HLS.L30.T16RBT.2024239T163151.v2.0/HLS.L30.T16RBT.2024239T163151.v2.0.SAA.tif', 'https://data.lpdaac.earthdatacloud.nasa.gov/lp-prod-protected/HLSL30.020/HLS.L30.T16RBT.2024239T163151.v2.0/HLS.L30.T16RBT.2024239T163151.v2.0.B02.tif', 'https://data.lpdaac.earthdatacloud.nasa.gov/lp-prod-protected/HLSL30.020/HLS.L30.T16RBT.2024239T163151.v2.0/HLS.L30.T16RBT.2024239T163151.v2.0.B03.tif', 'https://data.lpdaac.earthdatacloud.nasa.gov/lp-prod-protected/HLSL30.020/HLS.L30.T16RBT.2024239T163151.v2.0/HLS.L30.T16RBT.2024239T163151.v2.0.B09.tif', 'https://data.lpdaac.earthdatacloud.nasa.gov/lp-prod-protected/HLSL30.020/HLS.L30.T16RBT.2024239T163151.v2.0/HLS.L30.T16RBT.2024239T163151.v2.0.SZA.tif', 'https://data.lpdaac.earthdatacloud.nasa.gov/lp-prod-protected/HLSL30.020/HLS.L30.T16RBT.2024239T163151.v2.0/HLS.L30.T16RBT.2024239T163151.v2.0.Fmask.tif'], Collection: {'EntryTitle': 'HLS Landsat Operational Land Imager Surface Reflectance and TOA Brightness Daily Global 30m v2.0'}\n",
            "Spatial coverage: {'HorizontalSpatialDomain': {'Geometry': {'GPolygons': [{'Boundary': {'Points': [{'Longitude': -89.79864173, 'Latitude': 29.70347853}, {'Longitude': -89.76643746, 'Latitude': 30.69278312}, {'Longitude': -90.91181412, 'Latitude': 30.71627038}, {'Longitude': -90.93263654, 'Latitude': 29.72605548}, {'Longitude': -89.79864173, 'Latitude': 29.70347853}]}}]}}}\n",
            "Temporal coverage: {'RangeDateTime': {'BeginningDateTime': '2024-08-26T16:31:51.172Z', 'EndingDateTime': '2024-08-26T16:31:51.172Z'}}\n",
            "Size(MB): 187.23286628723145\n",
            "Data: ['https://data.lpdaac.earthdatacloud.nasa.gov/lp-prod-protected/HLSL30.020/HLS.L30.T15RYP.2024239T163151.v2.0/HLS.L30.T15RYP.2024239T163151.v2.0.B03.tif', 'https://data.lpdaac.earthdatacloud.nasa.gov/lp-prod-protected/HLSL30.020/HLS.L30.T15RYP.2024239T163151.v2.0/HLS.L30.T15RYP.2024239T163151.v2.0.SAA.tif', 'https://data.lpdaac.earthdatacloud.nasa.gov/lp-prod-protected/HLSL30.020/HLS.L30.T15RYP.2024239T163151.v2.0/HLS.L30.T15RYP.2024239T163151.v2.0.VZA.tif', 'https://data.lpdaac.earthdatacloud.nasa.gov/lp-prod-protected/HLSL30.020/HLS.L30.T15RYP.2024239T163151.v2.0/HLS.L30.T15RYP.2024239T163151.v2.0.B07.tif', 'https://data.lpdaac.earthdatacloud.nasa.gov/lp-prod-protected/HLSL30.020/HLS.L30.T15RYP.2024239T163151.v2.0/HLS.L30.T15RYP.2024239T163151.v2.0.Fmask.tif', 'https://data.lpdaac.earthdatacloud.nasa.gov/lp-prod-protected/HLSL30.020/HLS.L30.T15RYP.2024239T163151.v2.0/HLS.L30.T15RYP.2024239T163151.v2.0.B09.tif', 'https://data.lpdaac.earthdatacloud.nasa.gov/lp-prod-protected/HLSL30.020/HLS.L30.T15RYP.2024239T163151.v2.0/HLS.L30.T15RYP.2024239T163151.v2.0.B04.tif', 'https://data.lpdaac.earthdatacloud.nasa.gov/lp-prod-protected/HLSL30.020/HLS.L30.T15RYP.2024239T163151.v2.0/HLS.L30.T15RYP.2024239T163151.v2.0.B06.tif', 'https://data.lpdaac.earthdatacloud.nasa.gov/lp-prod-protected/HLSL30.020/HLS.L30.T15RYP.2024239T163151.v2.0/HLS.L30.T15RYP.2024239T163151.v2.0.VAA.tif', 'https://data.lpdaac.earthdatacloud.nasa.gov/lp-prod-protected/HLSL30.020/HLS.L30.T15RYP.2024239T163151.v2.0/HLS.L30.T15RYP.2024239T163151.v2.0.SZA.tif', 'https://data.lpdaac.earthdatacloud.nasa.gov/lp-prod-protected/HLSL30.020/HLS.L30.T15RYP.2024239T163151.v2.0/HLS.L30.T15RYP.2024239T163151.v2.0.B02.tif', 'https://data.lpdaac.earthdatacloud.nasa.gov/lp-prod-protected/HLSL30.020/HLS.L30.T15RYP.2024239T163151.v2.0/HLS.L30.T15RYP.2024239T163151.v2.0.B05.tif', 'https://data.lpdaac.earthdatacloud.nasa.gov/lp-prod-protected/HLSL30.020/HLS.L30.T15RYP.2024239T163151.v2.0/HLS.L30.T15RYP.2024239T163151.v2.0.B10.tif', 'https://data.lpdaac.earthdatacloud.nasa.gov/lp-prod-protected/HLSL30.020/HLS.L30.T15RYP.2024239T163151.v2.0/HLS.L30.T15RYP.2024239T163151.v2.0.B11.tif', 'https://data.lpdaac.earthdatacloud.nasa.gov/lp-prod-protected/HLSL30.020/HLS.L30.T15RYP.2024239T163151.v2.0/HLS.L30.T15RYP.2024239T163151.v2.0.B01.tif'], Collection: {'EntryTitle': 'HLS Landsat Operational Land Imager Surface Reflectance and TOA Brightness Daily Global 30m v2.0'}\n",
            "Spatial coverage: {'HorizontalSpatialDomain': {'Geometry': {'GPolygons': [{'Boundary': {'Points': [{'Longitude': -90.10082051, 'Latitude': 29.70587294}, {'Longitude': -89.29530052, 'Latitude': 29.72256871}, {'Longitude': -89.02410002, 'Latitude': 30.71728577}, {'Longitude': -90.13201749, 'Latitude': 30.69527405}, {'Longitude': -90.10082051, 'Latitude': 29.70587294}]}}]}}}\n",
            "Temporal coverage: {'RangeDateTime': {'BeginningDateTime': '2024-08-26T16:31:51.172Z', 'EndingDateTime': '2024-08-26T16:31:51.172Z'}}\n",
            "Size(MB): 152.68197536468506\n",
            "Data: ['https://data.lpdaac.earthdatacloud.nasa.gov/lp-prod-protected/HLSL30.020/HLS.L30.T16RBU.2024239T163151.v2.0/HLS.L30.T16RBU.2024239T163151.v2.0.B03.tif', 'https://data.lpdaac.earthdatacloud.nasa.gov/lp-prod-protected/HLSL30.020/HLS.L30.T16RBU.2024239T163151.v2.0/HLS.L30.T16RBU.2024239T163151.v2.0.B09.tif', 'https://data.lpdaac.earthdatacloud.nasa.gov/lp-prod-protected/HLSL30.020/HLS.L30.T16RBU.2024239T163151.v2.0/HLS.L30.T16RBU.2024239T163151.v2.0.B06.tif', 'https://data.lpdaac.earthdatacloud.nasa.gov/lp-prod-protected/HLSL30.020/HLS.L30.T16RBU.2024239T163151.v2.0/HLS.L30.T16RBU.2024239T163151.v2.0.B11.tif', 'https://data.lpdaac.earthdatacloud.nasa.gov/lp-prod-protected/HLSL30.020/HLS.L30.T16RBU.2024239T163151.v2.0/HLS.L30.T16RBU.2024239T163151.v2.0.B02.tif', 'https://data.lpdaac.earthdatacloud.nasa.gov/lp-prod-protected/HLSL30.020/HLS.L30.T16RBU.2024239T163151.v2.0/HLS.L30.T16RBU.2024239T163151.v2.0.VZA.tif', 'https://data.lpdaac.earthdatacloud.nasa.gov/lp-prod-protected/HLSL30.020/HLS.L30.T16RBU.2024239T163151.v2.0/HLS.L30.T16RBU.2024239T163151.v2.0.SAA.tif', 'https://data.lpdaac.earthdatacloud.nasa.gov/lp-prod-protected/HLSL30.020/HLS.L30.T16RBU.2024239T163151.v2.0/HLS.L30.T16RBU.2024239T163151.v2.0.VAA.tif', 'https://data.lpdaac.earthdatacloud.nasa.gov/lp-prod-protected/HLSL30.020/HLS.L30.T16RBU.2024239T163151.v2.0/HLS.L30.T16RBU.2024239T163151.v2.0.Fmask.tif', 'https://data.lpdaac.earthdatacloud.nasa.gov/lp-prod-protected/HLSL30.020/HLS.L30.T16RBU.2024239T163151.v2.0/HLS.L30.T16RBU.2024239T163151.v2.0.SZA.tif', 'https://data.lpdaac.earthdatacloud.nasa.gov/lp-prod-protected/HLSL30.020/HLS.L30.T16RBU.2024239T163151.v2.0/HLS.L30.T16RBU.2024239T163151.v2.0.B10.tif', 'https://data.lpdaac.earthdatacloud.nasa.gov/lp-prod-protected/HLSL30.020/HLS.L30.T16RBU.2024239T163151.v2.0/HLS.L30.T16RBU.2024239T163151.v2.0.B07.tif', 'https://data.lpdaac.earthdatacloud.nasa.gov/lp-prod-protected/HLSL30.020/HLS.L30.T16RBU.2024239T163151.v2.0/HLS.L30.T16RBU.2024239T163151.v2.0.B04.tif', 'https://data.lpdaac.earthdatacloud.nasa.gov/lp-prod-protected/HLSL30.020/HLS.L30.T16RBU.2024239T163151.v2.0/HLS.L30.T16RBU.2024239T163151.v2.0.B01.tif', 'https://data.lpdaac.earthdatacloud.nasa.gov/lp-prod-protected/HLSL30.020/HLS.L30.T16RBU.2024239T163151.v2.0/HLS.L30.T16RBU.2024239T163151.v2.0.B05.tif'], Collection: {'EntryTitle': 'HLS Landsat Operational Land Imager Surface Reflectance and TOA Brightness Daily Global 30m v2.0'}\n",
            "Spatial coverage: {'HorizontalSpatialDomain': {'Geometry': {'GPolygons': [{'Boundary': {'Points': [{'Longitude': -89.82661214, 'Latitude': 28.80213717}, {'Longitude': -89.79583778, 'Latitude': 29.79160422}, {'Longitude': -90.93082361, 'Latitude': 29.81426153}, {'Longitude': -90.95072084, 'Latitude': 28.82389994}, {'Longitude': -89.82661214, 'Latitude': 28.80213717}]}}]}}}\n",
            "Temporal coverage: {'RangeDateTime': {'BeginningDateTime': '2024-08-26T16:31:51.172Z', 'EndingDateTime': '2024-08-26T16:32:15.067Z'}}\n",
            "Size(MB): 189.9092149734497\n",
            "Data: ['https://data.lpdaac.earthdatacloud.nasa.gov/lp-prod-protected/HLSL30.020/HLS.L30.T15RYN.2024239T163151.v2.0/HLS.L30.T15RYN.2024239T163151.v2.0.B10.tif', 'https://data.lpdaac.earthdatacloud.nasa.gov/lp-prod-protected/HLSL30.020/HLS.L30.T15RYN.2024239T163151.v2.0/HLS.L30.T15RYN.2024239T163151.v2.0.B07.tif', 'https://data.lpdaac.earthdatacloud.nasa.gov/lp-prod-protected/HLSL30.020/HLS.L30.T15RYN.2024239T163151.v2.0/HLS.L30.T15RYN.2024239T163151.v2.0.B04.tif', 'https://data.lpdaac.earthdatacloud.nasa.gov/lp-prod-protected/HLSL30.020/HLS.L30.T15RYN.2024239T163151.v2.0/HLS.L30.T15RYN.2024239T163151.v2.0.B02.tif', 'https://data.lpdaac.earthdatacloud.nasa.gov/lp-prod-protected/HLSL30.020/HLS.L30.T15RYN.2024239T163151.v2.0/HLS.L30.T15RYN.2024239T163151.v2.0.B09.tif', 'https://data.lpdaac.earthdatacloud.nasa.gov/lp-prod-protected/HLSL30.020/HLS.L30.T15RYN.2024239T163151.v2.0/HLS.L30.T15RYN.2024239T163151.v2.0.VZA.tif', 'https://data.lpdaac.earthdatacloud.nasa.gov/lp-prod-protected/HLSL30.020/HLS.L30.T15RYN.2024239T163151.v2.0/HLS.L30.T15RYN.2024239T163151.v2.0.B01.tif', 'https://data.lpdaac.earthdatacloud.nasa.gov/lp-prod-protected/HLSL30.020/HLS.L30.T15RYN.2024239T163151.v2.0/HLS.L30.T15RYN.2024239T163151.v2.0.B03.tif', 'https://data.lpdaac.earthdatacloud.nasa.gov/lp-prod-protected/HLSL30.020/HLS.L30.T15RYN.2024239T163151.v2.0/HLS.L30.T15RYN.2024239T163151.v2.0.VAA.tif', 'https://data.lpdaac.earthdatacloud.nasa.gov/lp-prod-protected/HLSL30.020/HLS.L30.T15RYN.2024239T163151.v2.0/HLS.L30.T15RYN.2024239T163151.v2.0.B05.tif', 'https://data.lpdaac.earthdatacloud.nasa.gov/lp-prod-protected/HLSL30.020/HLS.L30.T15RYN.2024239T163151.v2.0/HLS.L30.T15RYN.2024239T163151.v2.0.SAA.tif', 'https://data.lpdaac.earthdatacloud.nasa.gov/lp-prod-protected/HLSL30.020/HLS.L30.T15RYN.2024239T163151.v2.0/HLS.L30.T15RYN.2024239T163151.v2.0.B11.tif', 'https://data.lpdaac.earthdatacloud.nasa.gov/lp-prod-protected/HLSL30.020/HLS.L30.T15RYN.2024239T163151.v2.0/HLS.L30.T15RYN.2024239T163151.v2.0.SZA.tif', 'https://data.lpdaac.earthdatacloud.nasa.gov/lp-prod-protected/HLSL30.020/HLS.L30.T15RYN.2024239T163151.v2.0/HLS.L30.T15RYN.2024239T163151.v2.0.Fmask.tif', 'https://data.lpdaac.earthdatacloud.nasa.gov/lp-prod-protected/HLSL30.020/HLS.L30.T15RYN.2024239T163151.v2.0/HLS.L30.T15RYN.2024239T163151.v2.0.B06.tif']]\n"
          ]
        }
      ],
      "source": [
        "print(results)"
      ]
    },
    {
      "cell_type": "markdown",
      "id": "c2e7859c-156a-4357-a1cd-b38192090811",
      "metadata": {},
      "source": [
        "### Compile information about each granule\n",
        "\n",
        "Each granule is a dictionary containing metadata such as:\n",
        "\n",
        "    GranuleUR → A unique identifier for the granule\n",
        "    TemporalExtent → The time when the data was captured\n",
        "    SpatialExtent → The geographic area covered\n",
        "    umm (Unified Metadata Model) → Stores all related metadata\n",
        "\n",
        "I recommend building a GeoDataFrame, as this will allow you to plot the\n",
        "granules you are downloading and make sure they line up with your\n",
        "shapefile. You could also use a DataFrame, dictionary, or a custom\n",
        "object to store this information.\n",
        "\n",
        "<link rel=\"stylesheet\" type=\"text/css\" href=\"./assets/styles.css\"><div class=\"callout callout-style-default callout-titled callout-task\"><div class=\"callout-header\"><div class=\"callout-icon-container\"><i class=\"callout-icon\"></i></div><div class=\"callout-title-container flex-fill\">Try It</div></div><div class=\"callout-body-container callout-body\"><ol type=\"1\">\n",
        "<li>For each search result:\n",
        "<ol type=\"1\">\n",
        "<li>Get the following information (HINT: look at the [‘umm’] values for\n",
        "each search result):\n",
        "<ul>\n",
        "<li>granule id (UR)</li>\n",
        "<li>datetime</li>\n",
        "<li>geometry (HINT: check out the shapely.geometry.Polygon class to\n",
        "convert points to a Polygon)</li>\n",
        "</ul></li>\n",
        "<li>Open the granule files. I recommend opening one granule at a time,\n",
        "e.g. with (<code>earthaccess.open([result]</code>).</li>\n",
        "<li>For each file (band), get the following information:\n",
        "<ul>\n",
        "<li>file handler returned from <code>earthaccess.open()</code></li>\n",
        "<li>tile id</li>\n",
        "<li>band number</li>\n",
        "</ul></li>\n",
        "</ol></li>\n",
        "<li>Compile all the information you collected into a GeoDataFrame</li>\n",
        "</ol></div></div>"
      ]
    },
    {
      "cell_type": "code",
      "execution_count": 21,
      "id": "ca4f03f4",
      "metadata": {},
      "outputs": [],
      "source": [
        "def get_earthaccess_links(results):\n",
        "    # Define the regex pattern\n",
        "    url_re = re.compile(\n",
        "        r'\\.(?P<tile_id>\\w+)\\.\\d+T\\d+\\.v\\d\\.\\d\\.(?P<band>[A-Za-z0-9]+)\\.tif')\n",
        "\n",
        "    # Loop through each granule\n",
        "    link_rows = [] # Create a list for metadata\n",
        "    url_dfs = []   # do we actually use this anywhere??\n",
        "    for granule in tqdm(results): # Note tqdm is progress bars for loops and long-running processes\n",
        "        # Get granule information by extracting metadata\n",
        "        info_dict = granule['umm'] # Retrieve metadata stored in the 'umm' field\n",
        "        granule_id = info_dict['GranuleUR']\n",
        "        datetime = pd.to_datetime( # Convert starting timestamp to a datetime object\n",
        "            info_dict\n",
        "            ['TemporalExtent']['RangeDateTime']['BeginningDateTime'])\n",
        "        # Extract geospatial information\n",
        "        points = (\n",
        "            info_dict\n",
        "            ['SpatialExtent']['HorizontalSpatialDomain']['Geometry']['GPolygons'][0]\n",
        "            ['Boundary']['Points'])\n",
        "        geometry = Polygon(\n",
        "            [(point['Longitude'], point['Latitude']) for point in points])\n",
        "        \n",
        "        # Get URL\n",
        "        files = earthaccess.open([granule])\n",
        "\n",
        "        # Build metadata DataFrame\n",
        "        for file in files:\n",
        "            match = url_re.search(file.full_name)\n",
        "            if match is not None:\n",
        "                 # Create a geodata frame for each file\n",
        "                link_rows.append(\n",
        "                    gpd.GeoDataFrame(\n",
        "                        dict(\n",
        "                            datetime=[datetime],\n",
        "                            tile_id=[match.group('tile_id')],\n",
        "                            band=[match.group('band')],\n",
        "                            url=[file],\n",
        "                            geometry=[geometry]\n",
        "                        ),\n",
        "                        crs=\"EPSG:4326\"\n",
        "                    )\n",
        "                )\n",
        "\n",
        "    # Concatenate metadata DataFrame (combine all extracted data)\n",
        "    file_df = pd.concat(link_rows).reset_index(drop=True)\n",
        "    return file_df"
      ]
    },
    {
      "cell_type": "markdown",
      "id": "394fc552-7fac-4228-a60b-beb4776718e8",
      "metadata": {},
      "source": [
        "### Open, crop, and mask data\n",
        "\n",
        "This will be the most resource-intensive step. I recommend caching your\n",
        "results using the `cached` decorator or by writing your own caching\n",
        "code. I also recommend testing this step with one or two dates before\n",
        "running the full computation.\n",
        "\n",
        "This code should include at least one **function** including a\n",
        "numpy-style docstring. A good place to start would be a function for\n",
        "opening a single masked raster, applying the appropriate scale\n",
        "parameter, and cropping.\n",
        "\n",
        "<link rel=\"stylesheet\" type=\"text/css\" href=\"./assets/styles.css\"><div class=\"callout callout-style-default callout-titled callout-task\"><div class=\"callout-header\"><div class=\"callout-icon-container\"><i class=\"callout-icon\"></i></div><div class=\"callout-title-container flex-fill\">Try It</div></div><div class=\"callout-body-container callout-body\"><ol type=\"1\">\n",
        "<li>For each granule:\n",
        "<ol type=\"1\">\n",
        "<li><p>Open the Fmask band, crop, and compute a quality mask for the\n",
        "granule. You can use the following code as a starting point, making sure\n",
        "that <code>mask_bits</code> contains the quality bits you want to\n",
        "consider: ```python # Expand into a new dimension of binary bits bits =\n",
        "( np.unpackbits(da.astype(np.uint8), bitorder=‘little’)\n",
        ".reshape(da.shape + (-1,)) )</p>\n",
        "<p># Select the required bits and check if any are flagged mask =\n",
        "np.prod(bits[…, mask_bits]==0, axis=-1) ```</p></li>\n",
        "<li><p>For each band that starts with ‘B’:</p>\n",
        "<ol type=\"1\">\n",
        "<li>Open the band, crop, and apply the scale factor</li>\n",
        "<li>Name the DataArray after the band using the <code>.name</code>\n",
        "attribute</li>\n",
        "<li>Apply the cloud mask using the <code>.where()</code> method</li>\n",
        "<li>Store the DataArray in your data structure (e.g. adding a\n",
        "GeoDataFrame column with the DataArray in it. Note that you will need to\n",
        "remove the rows for unused bands)</li>\n",
        "</ol></li>\n",
        "</ol></li>\n",
        "</ol></div></div>"
      ]
    },
    {
      "cell_type": "code",
      "execution_count": 34,
      "id": "c954f7c2",
      "metadata": {},
      "outputs": [
        {
          "data": {
            "application/vnd.jupyter.widget-view+json": {
              "model_id": "d757603de75244209727fde2d0168263",
              "version_major": 2,
              "version_minor": 0
            },
            "text/plain": [
              "  0%|          | 0/44 [00:00<?, ?it/s]"
            ]
          },
          "metadata": {},
          "output_type": "display_data"
        },
        {
          "data": {
            "application/vnd.jupyter.widget-view+json": {
              "model_id": "e7fa27d8047a4a89ae3cf726bcfb865c",
              "version_major": 2,
              "version_minor": 0
            },
            "text/plain": [
              "QUEUEING TASKS | :   0%|          | 0/15 [00:00<?, ?it/s]"
            ]
          },
          "metadata": {},
          "output_type": "display_data"
        },
        {
          "data": {
            "application/vnd.jupyter.widget-view+json": {
              "model_id": "d6d4dd3f305d4902bea81487a1e3343c",
              "version_major": 2,
              "version_minor": 0
            },
            "text/plain": [
              "PROCESSING TASKS | :   0%|          | 0/15 [00:00<?, ?it/s]"
            ]
          },
          "metadata": {},
          "output_type": "display_data"
        },
        {
          "data": {
            "application/vnd.jupyter.widget-view+json": {
              "model_id": "009e3ca71e4249d699f5ea95d2bf7ebd",
              "version_major": 2,
              "version_minor": 0
            },
            "text/plain": [
              "COLLECTING RESULTS | :   0%|          | 0/15 [00:00<?, ?it/s]"
            ]
          },
          "metadata": {},
          "output_type": "display_data"
        },
        {
          "data": {
            "application/vnd.jupyter.widget-view+json": {
              "model_id": "61d37ea3a88543ae9d379ac0265e22c8",
              "version_major": 2,
              "version_minor": 0
            },
            "text/plain": [
              "QUEUEING TASKS | :   0%|          | 0/15 [00:00<?, ?it/s]"
            ]
          },
          "metadata": {},
          "output_type": "display_data"
        },
        {
          "data": {
            "application/vnd.jupyter.widget-view+json": {
              "model_id": "b62ad08dca5140eda4b198eafd74df17",
              "version_major": 2,
              "version_minor": 0
            },
            "text/plain": [
              "PROCESSING TASKS | :   0%|          | 0/15 [00:00<?, ?it/s]"
            ]
          },
          "metadata": {},
          "output_type": "display_data"
        },
        {
          "data": {
            "application/vnd.jupyter.widget-view+json": {
              "model_id": "1383bdc39ba34f0a924626e86e388916",
              "version_major": 2,
              "version_minor": 0
            },
            "text/plain": [
              "COLLECTING RESULTS | :   0%|          | 0/15 [00:00<?, ?it/s]"
            ]
          },
          "metadata": {},
          "output_type": "display_data"
        },
        {
          "data": {
            "application/vnd.jupyter.widget-view+json": {
              "model_id": "457d3fad33544d11af5a6d4f36284171",
              "version_major": 2,
              "version_minor": 0
            },
            "text/plain": [
              "QUEUEING TASKS | :   0%|          | 0/15 [00:00<?, ?it/s]"
            ]
          },
          "metadata": {},
          "output_type": "display_data"
        },
        {
          "data": {
            "application/vnd.jupyter.widget-view+json": {
              "model_id": "ef4d94c80701415689d5e9f412d8eb2c",
              "version_major": 2,
              "version_minor": 0
            },
            "text/plain": [
              "PROCESSING TASKS | :   0%|          | 0/15 [00:00<?, ?it/s]"
            ]
          },
          "metadata": {},
          "output_type": "display_data"
        },
        {
          "data": {
            "application/vnd.jupyter.widget-view+json": {
              "model_id": "f26cb2bc3ced469db55635f6e30efb03",
              "version_major": 2,
              "version_minor": 0
            },
            "text/plain": [
              "COLLECTING RESULTS | :   0%|          | 0/15 [00:00<?, ?it/s]"
            ]
          },
          "metadata": {},
          "output_type": "display_data"
        },
        {
          "data": {
            "application/vnd.jupyter.widget-view+json": {
              "model_id": "29ae052768404738ac046d3a0edfd726",
              "version_major": 2,
              "version_minor": 0
            },
            "text/plain": [
              "QUEUEING TASKS | :   0%|          | 0/15 [00:00<?, ?it/s]"
            ]
          },
          "metadata": {},
          "output_type": "display_data"
        },
        {
          "data": {
            "application/vnd.jupyter.widget-view+json": {
              "model_id": "ef58571b51754b5cafd75a1aa188fefa",
              "version_major": 2,
              "version_minor": 0
            },
            "text/plain": [
              "PROCESSING TASKS | :   0%|          | 0/15 [00:00<?, ?it/s]"
            ]
          },
          "metadata": {},
          "output_type": "display_data"
        },
        {
          "data": {
            "application/vnd.jupyter.widget-view+json": {
              "model_id": "d69c2eb228d84314bf5da96b49a93977",
              "version_major": 2,
              "version_minor": 0
            },
            "text/plain": [
              "COLLECTING RESULTS | :   0%|          | 0/15 [00:00<?, ?it/s]"
            ]
          },
          "metadata": {},
          "output_type": "display_data"
        },
        {
          "data": {
            "application/vnd.jupyter.widget-view+json": {
              "model_id": "370e00ad4e744e6dbd7d0c7c2bb35c79",
              "version_major": 2,
              "version_minor": 0
            },
            "text/plain": [
              "QUEUEING TASKS | :   0%|          | 0/15 [00:00<?, ?it/s]"
            ]
          },
          "metadata": {},
          "output_type": "display_data"
        },
        {
          "data": {
            "application/vnd.jupyter.widget-view+json": {
              "model_id": "6e2c6d14f0df44beace2921b93a92983",
              "version_major": 2,
              "version_minor": 0
            },
            "text/plain": [
              "PROCESSING TASKS | :   0%|          | 0/15 [00:00<?, ?it/s]"
            ]
          },
          "metadata": {},
          "output_type": "display_data"
        },
        {
          "data": {
            "application/vnd.jupyter.widget-view+json": {
              "model_id": "40c3a44057e947bdabdb6ef9ca984111",
              "version_major": 2,
              "version_minor": 0
            },
            "text/plain": [
              "COLLECTING RESULTS | :   0%|          | 0/15 [00:00<?, ?it/s]"
            ]
          },
          "metadata": {},
          "output_type": "display_data"
        },
        {
          "data": {
            "application/vnd.jupyter.widget-view+json": {
              "model_id": "82c98e478caf44bfa61eaff733d19c49",
              "version_major": 2,
              "version_minor": 0
            },
            "text/plain": [
              "QUEUEING TASKS | :   0%|          | 0/15 [00:00<?, ?it/s]"
            ]
          },
          "metadata": {},
          "output_type": "display_data"
        },
        {
          "data": {
            "application/vnd.jupyter.widget-view+json": {
              "model_id": "436ffa014f964abb8af655a6528c1d4c",
              "version_major": 2,
              "version_minor": 0
            },
            "text/plain": [
              "PROCESSING TASKS | :   0%|          | 0/15 [00:00<?, ?it/s]"
            ]
          },
          "metadata": {},
          "output_type": "display_data"
        },
        {
          "data": {
            "application/vnd.jupyter.widget-view+json": {
              "model_id": "f4fc5bed4acf4e4687730c2a7ac85ffa",
              "version_major": 2,
              "version_minor": 0
            },
            "text/plain": [
              "COLLECTING RESULTS | :   0%|          | 0/15 [00:00<?, ?it/s]"
            ]
          },
          "metadata": {},
          "output_type": "display_data"
        },
        {
          "data": {
            "application/vnd.jupyter.widget-view+json": {
              "model_id": "383a3dceec564cf7bcf029cde749051e",
              "version_major": 2,
              "version_minor": 0
            },
            "text/plain": [
              "QUEUEING TASKS | :   0%|          | 0/15 [00:00<?, ?it/s]"
            ]
          },
          "metadata": {},
          "output_type": "display_data"
        },
        {
          "data": {
            "application/vnd.jupyter.widget-view+json": {
              "model_id": "890601210dcf4e6ca88d973f2347400f",
              "version_major": 2,
              "version_minor": 0
            },
            "text/plain": [
              "PROCESSING TASKS | :   0%|          | 0/15 [00:00<?, ?it/s]"
            ]
          },
          "metadata": {},
          "output_type": "display_data"
        },
        {
          "data": {
            "application/vnd.jupyter.widget-view+json": {
              "model_id": "35526410d1c8426b861105c23a08160e",
              "version_major": 2,
              "version_minor": 0
            },
            "text/plain": [
              "COLLECTING RESULTS | :   0%|          | 0/15 [00:00<?, ?it/s]"
            ]
          },
          "metadata": {},
          "output_type": "display_data"
        },
        {
          "data": {
            "application/vnd.jupyter.widget-view+json": {
              "model_id": "c403619dd671475b94e11a5112c9496d",
              "version_major": 2,
              "version_minor": 0
            },
            "text/plain": [
              "QUEUEING TASKS | :   0%|          | 0/15 [00:00<?, ?it/s]"
            ]
          },
          "metadata": {},
          "output_type": "display_data"
        },
        {
          "data": {
            "application/vnd.jupyter.widget-view+json": {
              "model_id": "bf20ba732bc04730b84e8f7eaa465844",
              "version_major": 2,
              "version_minor": 0
            },
            "text/plain": [
              "PROCESSING TASKS | :   0%|          | 0/15 [00:00<?, ?it/s]"
            ]
          },
          "metadata": {},
          "output_type": "display_data"
        },
        {
          "data": {
            "application/vnd.jupyter.widget-view+json": {
              "model_id": "53d441fb9ff0410cb36b04ddf3c83452",
              "version_major": 2,
              "version_minor": 0
            },
            "text/plain": [
              "COLLECTING RESULTS | :   0%|          | 0/15 [00:00<?, ?it/s]"
            ]
          },
          "metadata": {},
          "output_type": "display_data"
        },
        {
          "data": {
            "application/vnd.jupyter.widget-view+json": {
              "model_id": "f5d7272db90d46a39c223c4c31f4a4e1",
              "version_major": 2,
              "version_minor": 0
            },
            "text/plain": [
              "QUEUEING TASKS | :   0%|          | 0/15 [00:00<?, ?it/s]"
            ]
          },
          "metadata": {},
          "output_type": "display_data"
        },
        {
          "data": {
            "application/vnd.jupyter.widget-view+json": {
              "model_id": "7a660a5e1acc4f2fa686f45800228cc4",
              "version_major": 2,
              "version_minor": 0
            },
            "text/plain": [
              "PROCESSING TASKS | :   0%|          | 0/15 [00:00<?, ?it/s]"
            ]
          },
          "metadata": {},
          "output_type": "display_data"
        },
        {
          "data": {
            "application/vnd.jupyter.widget-view+json": {
              "model_id": "95c0a49b90ed472d89ced90b3d4af5a2",
              "version_major": 2,
              "version_minor": 0
            },
            "text/plain": [
              "COLLECTING RESULTS | :   0%|          | 0/15 [00:00<?, ?it/s]"
            ]
          },
          "metadata": {},
          "output_type": "display_data"
        },
        {
          "data": {
            "application/vnd.jupyter.widget-view+json": {
              "model_id": "17879fd3939f4edcb489ecbdf9694c0c",
              "version_major": 2,
              "version_minor": 0
            },
            "text/plain": [
              "QUEUEING TASKS | :   0%|          | 0/15 [00:00<?, ?it/s]"
            ]
          },
          "metadata": {},
          "output_type": "display_data"
        },
        {
          "data": {
            "application/vnd.jupyter.widget-view+json": {
              "model_id": "bfa719b4f234402bb38502ca81063686",
              "version_major": 2,
              "version_minor": 0
            },
            "text/plain": [
              "PROCESSING TASKS | :   0%|          | 0/15 [00:00<?, ?it/s]"
            ]
          },
          "metadata": {},
          "output_type": "display_data"
        },
        {
          "data": {
            "application/vnd.jupyter.widget-view+json": {
              "model_id": "6ea24b234a524e5394a319cd36c12131",
              "version_major": 2,
              "version_minor": 0
            },
            "text/plain": [
              "COLLECTING RESULTS | :   0%|          | 0/15 [00:00<?, ?it/s]"
            ]
          },
          "metadata": {},
          "output_type": "display_data"
        },
        {
          "data": {
            "application/vnd.jupyter.widget-view+json": {
              "model_id": "b115379eb1a84c9c8f90ab63260aa1da",
              "version_major": 2,
              "version_minor": 0
            },
            "text/plain": [
              "QUEUEING TASKS | :   0%|          | 0/15 [00:00<?, ?it/s]"
            ]
          },
          "metadata": {},
          "output_type": "display_data"
        },
        {
          "data": {
            "application/vnd.jupyter.widget-view+json": {
              "model_id": "d68199022d4c44c6bbd960687fc453d7",
              "version_major": 2,
              "version_minor": 0
            },
            "text/plain": [
              "PROCESSING TASKS | :   0%|          | 0/15 [00:00<?, ?it/s]"
            ]
          },
          "metadata": {},
          "output_type": "display_data"
        },
        {
          "data": {
            "application/vnd.jupyter.widget-view+json": {
              "model_id": "0d94cd96237b4f2eb78daf7360edba32",
              "version_major": 2,
              "version_minor": 0
            },
            "text/plain": [
              "COLLECTING RESULTS | :   0%|          | 0/15 [00:00<?, ?it/s]"
            ]
          },
          "metadata": {},
          "output_type": "display_data"
        },
        {
          "data": {
            "application/vnd.jupyter.widget-view+json": {
              "model_id": "638ec276edf642ba8b66b908dffde130",
              "version_major": 2,
              "version_minor": 0
            },
            "text/plain": [
              "QUEUEING TASKS | :   0%|          | 0/15 [00:00<?, ?it/s]"
            ]
          },
          "metadata": {},
          "output_type": "display_data"
        },
        {
          "data": {
            "application/vnd.jupyter.widget-view+json": {
              "model_id": "99ebb8ce0bc541e9a56615dc39ec2b33",
              "version_major": 2,
              "version_minor": 0
            },
            "text/plain": [
              "PROCESSING TASKS | :   0%|          | 0/15 [00:00<?, ?it/s]"
            ]
          },
          "metadata": {},
          "output_type": "display_data"
        },
        {
          "data": {
            "application/vnd.jupyter.widget-view+json": {
              "model_id": "23144adb8cf9419fb500b95842c44e0c",
              "version_major": 2,
              "version_minor": 0
            },
            "text/plain": [
              "COLLECTING RESULTS | :   0%|          | 0/15 [00:00<?, ?it/s]"
            ]
          },
          "metadata": {},
          "output_type": "display_data"
        },
        {
          "data": {
            "application/vnd.jupyter.widget-view+json": {
              "model_id": "f8a15694f9c74758982260849b183900",
              "version_major": 2,
              "version_minor": 0
            },
            "text/plain": [
              "QUEUEING TASKS | :   0%|          | 0/15 [00:00<?, ?it/s]"
            ]
          },
          "metadata": {},
          "output_type": "display_data"
        },
        {
          "data": {
            "application/vnd.jupyter.widget-view+json": {
              "model_id": "8936d75d682f43079c443ea42df2880d",
              "version_major": 2,
              "version_minor": 0
            },
            "text/plain": [
              "PROCESSING TASKS | :   0%|          | 0/15 [00:00<?, ?it/s]"
            ]
          },
          "metadata": {},
          "output_type": "display_data"
        },
        {
          "data": {
            "application/vnd.jupyter.widget-view+json": {
              "model_id": "929699679cba4fd38338cfd47af08f32",
              "version_major": 2,
              "version_minor": 0
            },
            "text/plain": [
              "COLLECTING RESULTS | :   0%|          | 0/15 [00:00<?, ?it/s]"
            ]
          },
          "metadata": {},
          "output_type": "display_data"
        },
        {
          "data": {
            "application/vnd.jupyter.widget-view+json": {
              "model_id": "8ce7a7b7fe2c498c93013e416d45b853",
              "version_major": 2,
              "version_minor": 0
            },
            "text/plain": [
              "QUEUEING TASKS | :   0%|          | 0/15 [00:00<?, ?it/s]"
            ]
          },
          "metadata": {},
          "output_type": "display_data"
        },
        {
          "data": {
            "application/vnd.jupyter.widget-view+json": {
              "model_id": "bac3cd3a4eac4b1a9b23d041b65828a0",
              "version_major": 2,
              "version_minor": 0
            },
            "text/plain": [
              "PROCESSING TASKS | :   0%|          | 0/15 [00:00<?, ?it/s]"
            ]
          },
          "metadata": {},
          "output_type": "display_data"
        },
        {
          "data": {
            "application/vnd.jupyter.widget-view+json": {
              "model_id": "4915f5d2ee124b0f9c7ae7a7a291cc01",
              "version_major": 2,
              "version_minor": 0
            },
            "text/plain": [
              "COLLECTING RESULTS | :   0%|          | 0/15 [00:00<?, ?it/s]"
            ]
          },
          "metadata": {},
          "output_type": "display_data"
        },
        {
          "data": {
            "application/vnd.jupyter.widget-view+json": {
              "model_id": "ffba3688f1b2491b8a48812c0cdf4ba4",
              "version_major": 2,
              "version_minor": 0
            },
            "text/plain": [
              "QUEUEING TASKS | :   0%|          | 0/15 [00:00<?, ?it/s]"
            ]
          },
          "metadata": {},
          "output_type": "display_data"
        },
        {
          "data": {
            "application/vnd.jupyter.widget-view+json": {
              "model_id": "9b5f24b15e85479897a12ad030a5aeb7",
              "version_major": 2,
              "version_minor": 0
            },
            "text/plain": [
              "PROCESSING TASKS | :   0%|          | 0/15 [00:00<?, ?it/s]"
            ]
          },
          "metadata": {},
          "output_type": "display_data"
        },
        {
          "data": {
            "application/vnd.jupyter.widget-view+json": {
              "model_id": "edeef33d09f34eaaaf899aa868c71481",
              "version_major": 2,
              "version_minor": 0
            },
            "text/plain": [
              "COLLECTING RESULTS | :   0%|          | 0/15 [00:00<?, ?it/s]"
            ]
          },
          "metadata": {},
          "output_type": "display_data"
        },
        {
          "data": {
            "application/vnd.jupyter.widget-view+json": {
              "model_id": "8dc9be27cf7d4e609860fdef0951f7b6",
              "version_major": 2,
              "version_minor": 0
            },
            "text/plain": [
              "QUEUEING TASKS | :   0%|          | 0/15 [00:00<?, ?it/s]"
            ]
          },
          "metadata": {},
          "output_type": "display_data"
        },
        {
          "data": {
            "application/vnd.jupyter.widget-view+json": {
              "model_id": "b49d82f8b24f4ed087d7bafc4890ea1a",
              "version_major": 2,
              "version_minor": 0
            },
            "text/plain": [
              "PROCESSING TASKS | :   0%|          | 0/15 [00:00<?, ?it/s]"
            ]
          },
          "metadata": {},
          "output_type": "display_data"
        },
        {
          "data": {
            "application/vnd.jupyter.widget-view+json": {
              "model_id": "5910053966bb4d24b094bc65d808bfa4",
              "version_major": 2,
              "version_minor": 0
            },
            "text/plain": [
              "COLLECTING RESULTS | :   0%|          | 0/15 [00:00<?, ?it/s]"
            ]
          },
          "metadata": {},
          "output_type": "display_data"
        },
        {
          "data": {
            "application/vnd.jupyter.widget-view+json": {
              "model_id": "0732a12e80c94947b40f6468b76de0f6",
              "version_major": 2,
              "version_minor": 0
            },
            "text/plain": [
              "QUEUEING TASKS | :   0%|          | 0/15 [00:00<?, ?it/s]"
            ]
          },
          "metadata": {},
          "output_type": "display_data"
        },
        {
          "data": {
            "application/vnd.jupyter.widget-view+json": {
              "model_id": "625850162b6c400ab6da996695fa196a",
              "version_major": 2,
              "version_minor": 0
            },
            "text/plain": [
              "PROCESSING TASKS | :   0%|          | 0/15 [00:00<?, ?it/s]"
            ]
          },
          "metadata": {},
          "output_type": "display_data"
        },
        {
          "data": {
            "application/vnd.jupyter.widget-view+json": {
              "model_id": "913d9fac2f7449af8b1b557beab7b4e7",
              "version_major": 2,
              "version_minor": 0
            },
            "text/plain": [
              "COLLECTING RESULTS | :   0%|          | 0/15 [00:00<?, ?it/s]"
            ]
          },
          "metadata": {},
          "output_type": "display_data"
        },
        {
          "data": {
            "application/vnd.jupyter.widget-view+json": {
              "model_id": "aa401afc86934a118181fbc6562f78ab",
              "version_major": 2,
              "version_minor": 0
            },
            "text/plain": [
              "QUEUEING TASKS | :   0%|          | 0/15 [00:00<?, ?it/s]"
            ]
          },
          "metadata": {},
          "output_type": "display_data"
        },
        {
          "data": {
            "application/vnd.jupyter.widget-view+json": {
              "model_id": "b18961b7132c4c63a30cbaf800fb2ab4",
              "version_major": 2,
              "version_minor": 0
            },
            "text/plain": [
              "PROCESSING TASKS | :   0%|          | 0/15 [00:00<?, ?it/s]"
            ]
          },
          "metadata": {},
          "output_type": "display_data"
        },
        {
          "data": {
            "application/vnd.jupyter.widget-view+json": {
              "model_id": "975c9d31dbcc4271aac167192fc7754a",
              "version_major": 2,
              "version_minor": 0
            },
            "text/plain": [
              "COLLECTING RESULTS | :   0%|          | 0/15 [00:00<?, ?it/s]"
            ]
          },
          "metadata": {},
          "output_type": "display_data"
        },
        {
          "data": {
            "application/vnd.jupyter.widget-view+json": {
              "model_id": "c7af4fcb33294fa49eff29a5de419fad",
              "version_major": 2,
              "version_minor": 0
            },
            "text/plain": [
              "QUEUEING TASKS | :   0%|          | 0/15 [00:00<?, ?it/s]"
            ]
          },
          "metadata": {},
          "output_type": "display_data"
        },
        {
          "data": {
            "application/vnd.jupyter.widget-view+json": {
              "model_id": "1294e80af4f5427dad074a5d49762e63",
              "version_major": 2,
              "version_minor": 0
            },
            "text/plain": [
              "PROCESSING TASKS | :   0%|          | 0/15 [00:00<?, ?it/s]"
            ]
          },
          "metadata": {},
          "output_type": "display_data"
        },
        {
          "data": {
            "application/vnd.jupyter.widget-view+json": {
              "model_id": "1123ee02fdc04d25a05522a3c73303df",
              "version_major": 2,
              "version_minor": 0
            },
            "text/plain": [
              "COLLECTING RESULTS | :   0%|          | 0/15 [00:00<?, ?it/s]"
            ]
          },
          "metadata": {},
          "output_type": "display_data"
        },
        {
          "data": {
            "application/vnd.jupyter.widget-view+json": {
              "model_id": "2fe8069959ca481490db0cc0fe2d93ec",
              "version_major": 2,
              "version_minor": 0
            },
            "text/plain": [
              "QUEUEING TASKS | :   0%|          | 0/15 [00:00<?, ?it/s]"
            ]
          },
          "metadata": {},
          "output_type": "display_data"
        },
        {
          "data": {
            "application/vnd.jupyter.widget-view+json": {
              "model_id": "6a3bb1ff42fe478394d6c37154a11e28",
              "version_major": 2,
              "version_minor": 0
            },
            "text/plain": [
              "PROCESSING TASKS | :   0%|          | 0/15 [00:00<?, ?it/s]"
            ]
          },
          "metadata": {},
          "output_type": "display_data"
        },
        {
          "data": {
            "application/vnd.jupyter.widget-view+json": {
              "model_id": "1402ebeb5697404880f1418263ef572f",
              "version_major": 2,
              "version_minor": 0
            },
            "text/plain": [
              "COLLECTING RESULTS | :   0%|          | 0/15 [00:00<?, ?it/s]"
            ]
          },
          "metadata": {},
          "output_type": "display_data"
        },
        {
          "data": {
            "application/vnd.jupyter.widget-view+json": {
              "model_id": "29cf9c0b923341f099f8d695ab2f378a",
              "version_major": 2,
              "version_minor": 0
            },
            "text/plain": [
              "QUEUEING TASKS | :   0%|          | 0/15 [00:00<?, ?it/s]"
            ]
          },
          "metadata": {},
          "output_type": "display_data"
        },
        {
          "data": {
            "application/vnd.jupyter.widget-view+json": {
              "model_id": "e409acba07ab4295a841e0fa7ccbda45",
              "version_major": 2,
              "version_minor": 0
            },
            "text/plain": [
              "PROCESSING TASKS | :   0%|          | 0/15 [00:00<?, ?it/s]"
            ]
          },
          "metadata": {},
          "output_type": "display_data"
        },
        {
          "data": {
            "application/vnd.jupyter.widget-view+json": {
              "model_id": "6cc51c8c4200436c880442e5669e8287",
              "version_major": 2,
              "version_minor": 0
            },
            "text/plain": [
              "COLLECTING RESULTS | :   0%|          | 0/15 [00:00<?, ?it/s]"
            ]
          },
          "metadata": {},
          "output_type": "display_data"
        },
        {
          "data": {
            "application/vnd.jupyter.widget-view+json": {
              "model_id": "7accd73ca1934ca184781458b3ab7120",
              "version_major": 2,
              "version_minor": 0
            },
            "text/plain": [
              "QUEUEING TASKS | :   0%|          | 0/15 [00:00<?, ?it/s]"
            ]
          },
          "metadata": {},
          "output_type": "display_data"
        },
        {
          "data": {
            "application/vnd.jupyter.widget-view+json": {
              "model_id": "65efe06a02c24c03bf41e13c9f519a90",
              "version_major": 2,
              "version_minor": 0
            },
            "text/plain": [
              "PROCESSING TASKS | :   0%|          | 0/15 [00:00<?, ?it/s]"
            ]
          },
          "metadata": {},
          "output_type": "display_data"
        },
        {
          "data": {
            "application/vnd.jupyter.widget-view+json": {
              "model_id": "25473418311540968b4c415678f91d2f",
              "version_major": 2,
              "version_minor": 0
            },
            "text/plain": [
              "COLLECTING RESULTS | :   0%|          | 0/15 [00:00<?, ?it/s]"
            ]
          },
          "metadata": {},
          "output_type": "display_data"
        },
        {
          "data": {
            "application/vnd.jupyter.widget-view+json": {
              "model_id": "56678354be484f9ab561f5d66a2f8bde",
              "version_major": 2,
              "version_minor": 0
            },
            "text/plain": [
              "QUEUEING TASKS | :   0%|          | 0/15 [00:00<?, ?it/s]"
            ]
          },
          "metadata": {},
          "output_type": "display_data"
        },
        {
          "data": {
            "application/vnd.jupyter.widget-view+json": {
              "model_id": "c2e1ad733bf74eba9cf3c47d067ecb48",
              "version_major": 2,
              "version_minor": 0
            },
            "text/plain": [
              "PROCESSING TASKS | :   0%|          | 0/15 [00:00<?, ?it/s]"
            ]
          },
          "metadata": {},
          "output_type": "display_data"
        },
        {
          "data": {
            "application/vnd.jupyter.widget-view+json": {
              "model_id": "f636f486744049e187882207fd0dc2c1",
              "version_major": 2,
              "version_minor": 0
            },
            "text/plain": [
              "COLLECTING RESULTS | :   0%|          | 0/15 [00:00<?, ?it/s]"
            ]
          },
          "metadata": {},
          "output_type": "display_data"
        },
        {
          "data": {
            "application/vnd.jupyter.widget-view+json": {
              "model_id": "dac0c975c9804ca5b3711bbac3480ab3",
              "version_major": 2,
              "version_minor": 0
            },
            "text/plain": [
              "QUEUEING TASKS | :   0%|          | 0/15 [00:00<?, ?it/s]"
            ]
          },
          "metadata": {},
          "output_type": "display_data"
        },
        {
          "data": {
            "application/vnd.jupyter.widget-view+json": {
              "model_id": "52090008499c45528dcb1acabbb9ab2e",
              "version_major": 2,
              "version_minor": 0
            },
            "text/plain": [
              "PROCESSING TASKS | :   0%|          | 0/15 [00:00<?, ?it/s]"
            ]
          },
          "metadata": {},
          "output_type": "display_data"
        },
        {
          "data": {
            "application/vnd.jupyter.widget-view+json": {
              "model_id": "d379e373376c4f91867fa015cfe27ab2",
              "version_major": 2,
              "version_minor": 0
            },
            "text/plain": [
              "COLLECTING RESULTS | :   0%|          | 0/15 [00:00<?, ?it/s]"
            ]
          },
          "metadata": {},
          "output_type": "display_data"
        },
        {
          "data": {
            "application/vnd.jupyter.widget-view+json": {
              "model_id": "bca96c8c26ec4bc4aaf75d6d3c37d3fd",
              "version_major": 2,
              "version_minor": 0
            },
            "text/plain": [
              "QUEUEING TASKS | :   0%|          | 0/15 [00:00<?, ?it/s]"
            ]
          },
          "metadata": {},
          "output_type": "display_data"
        },
        {
          "data": {
            "application/vnd.jupyter.widget-view+json": {
              "model_id": "dbca4cd3033442d19cd1c459fbe2f05b",
              "version_major": 2,
              "version_minor": 0
            },
            "text/plain": [
              "PROCESSING TASKS | :   0%|          | 0/15 [00:00<?, ?it/s]"
            ]
          },
          "metadata": {},
          "output_type": "display_data"
        },
        {
          "data": {
            "application/vnd.jupyter.widget-view+json": {
              "model_id": "7cd5719868954a86ac8fc4cfaf8979d1",
              "version_major": 2,
              "version_minor": 0
            },
            "text/plain": [
              "COLLECTING RESULTS | :   0%|          | 0/15 [00:00<?, ?it/s]"
            ]
          },
          "metadata": {},
          "output_type": "display_data"
        },
        {
          "data": {
            "application/vnd.jupyter.widget-view+json": {
              "model_id": "101d804297724237995b6353587c8f1e",
              "version_major": 2,
              "version_minor": 0
            },
            "text/plain": [
              "QUEUEING TASKS | :   0%|          | 0/15 [00:00<?, ?it/s]"
            ]
          },
          "metadata": {},
          "output_type": "display_data"
        },
        {
          "data": {
            "application/vnd.jupyter.widget-view+json": {
              "model_id": "02e2e28f9d854fb8a427248e053e0a58",
              "version_major": 2,
              "version_minor": 0
            },
            "text/plain": [
              "PROCESSING TASKS | :   0%|          | 0/15 [00:00<?, ?it/s]"
            ]
          },
          "metadata": {},
          "output_type": "display_data"
        },
        {
          "data": {
            "application/vnd.jupyter.widget-view+json": {
              "model_id": "ea3bedbc52354fdb81c96f8cf1deb6cf",
              "version_major": 2,
              "version_minor": 0
            },
            "text/plain": [
              "COLLECTING RESULTS | :   0%|          | 0/15 [00:00<?, ?it/s]"
            ]
          },
          "metadata": {},
          "output_type": "display_data"
        },
        {
          "data": {
            "application/vnd.jupyter.widget-view+json": {
              "model_id": "9a9a95b2a21448e6bb281fcfb4aa7b4c",
              "version_major": 2,
              "version_minor": 0
            },
            "text/plain": [
              "QUEUEING TASKS | :   0%|          | 0/15 [00:00<?, ?it/s]"
            ]
          },
          "metadata": {},
          "output_type": "display_data"
        },
        {
          "data": {
            "application/vnd.jupyter.widget-view+json": {
              "model_id": "978b06f39a7e426489d6aacc1c15e42e",
              "version_major": 2,
              "version_minor": 0
            },
            "text/plain": [
              "PROCESSING TASKS | :   0%|          | 0/15 [00:00<?, ?it/s]"
            ]
          },
          "metadata": {},
          "output_type": "display_data"
        },
        {
          "data": {
            "application/vnd.jupyter.widget-view+json": {
              "model_id": "ef1daec98998497ca65a57e9ce1d3cc2",
              "version_major": 2,
              "version_minor": 0
            },
            "text/plain": [
              "COLLECTING RESULTS | :   0%|          | 0/15 [00:00<?, ?it/s]"
            ]
          },
          "metadata": {},
          "output_type": "display_data"
        },
        {
          "data": {
            "application/vnd.jupyter.widget-view+json": {
              "model_id": "a4349985a3b548be8715727619d01238",
              "version_major": 2,
              "version_minor": 0
            },
            "text/plain": [
              "QUEUEING TASKS | :   0%|          | 0/15 [00:00<?, ?it/s]"
            ]
          },
          "metadata": {},
          "output_type": "display_data"
        },
        {
          "data": {
            "application/vnd.jupyter.widget-view+json": {
              "model_id": "34b9a3ac3dcc44fda26bcece5aac97d0",
              "version_major": 2,
              "version_minor": 0
            },
            "text/plain": [
              "PROCESSING TASKS | :   0%|          | 0/15 [00:00<?, ?it/s]"
            ]
          },
          "metadata": {},
          "output_type": "display_data"
        },
        {
          "data": {
            "application/vnd.jupyter.widget-view+json": {
              "model_id": "89c300e7360a4f84b582f92469d55c4f",
              "version_major": 2,
              "version_minor": 0
            },
            "text/plain": [
              "COLLECTING RESULTS | :   0%|          | 0/15 [00:00<?, ?it/s]"
            ]
          },
          "metadata": {},
          "output_type": "display_data"
        },
        {
          "data": {
            "application/vnd.jupyter.widget-view+json": {
              "model_id": "770873df35ff4fe8814ec94d3b0d2f84",
              "version_major": 2,
              "version_minor": 0
            },
            "text/plain": [
              "QUEUEING TASKS | :   0%|          | 0/15 [00:00<?, ?it/s]"
            ]
          },
          "metadata": {},
          "output_type": "display_data"
        },
        {
          "data": {
            "application/vnd.jupyter.widget-view+json": {
              "model_id": "7bbd6aba18604c4aacddce00111c50d0",
              "version_major": 2,
              "version_minor": 0
            },
            "text/plain": [
              "PROCESSING TASKS | :   0%|          | 0/15 [00:00<?, ?it/s]"
            ]
          },
          "metadata": {},
          "output_type": "display_data"
        },
        {
          "data": {
            "application/vnd.jupyter.widget-view+json": {
              "model_id": "0d953b7782bb4869bc75166f0bf760c1",
              "version_major": 2,
              "version_minor": 0
            },
            "text/plain": [
              "COLLECTING RESULTS | :   0%|          | 0/15 [00:00<?, ?it/s]"
            ]
          },
          "metadata": {},
          "output_type": "display_data"
        },
        {
          "data": {
            "application/vnd.jupyter.widget-view+json": {
              "model_id": "e010fef844714fb3900551fb6989418c",
              "version_major": 2,
              "version_minor": 0
            },
            "text/plain": [
              "QUEUEING TASKS | :   0%|          | 0/15 [00:00<?, ?it/s]"
            ]
          },
          "metadata": {},
          "output_type": "display_data"
        },
        {
          "data": {
            "application/vnd.jupyter.widget-view+json": {
              "model_id": "a9c215868ce445bc9a50e85b8eec0822",
              "version_major": 2,
              "version_minor": 0
            },
            "text/plain": [
              "PROCESSING TASKS | :   0%|          | 0/15 [00:00<?, ?it/s]"
            ]
          },
          "metadata": {},
          "output_type": "display_data"
        },
        {
          "data": {
            "application/vnd.jupyter.widget-view+json": {
              "model_id": "ccc99beac257414fb75c804911eb5c10",
              "version_major": 2,
              "version_minor": 0
            },
            "text/plain": [
              "COLLECTING RESULTS | :   0%|          | 0/15 [00:00<?, ?it/s]"
            ]
          },
          "metadata": {},
          "output_type": "display_data"
        },
        {
          "data": {
            "application/vnd.jupyter.widget-view+json": {
              "model_id": "15e6d5222ed34310929cbe3f39b17c07",
              "version_major": 2,
              "version_minor": 0
            },
            "text/plain": [
              "QUEUEING TASKS | :   0%|          | 0/15 [00:00<?, ?it/s]"
            ]
          },
          "metadata": {},
          "output_type": "display_data"
        },
        {
          "data": {
            "application/vnd.jupyter.widget-view+json": {
              "model_id": "9274ae6439ee4a469bd143056573c60d",
              "version_major": 2,
              "version_minor": 0
            },
            "text/plain": [
              "PROCESSING TASKS | :   0%|          | 0/15 [00:00<?, ?it/s]"
            ]
          },
          "metadata": {},
          "output_type": "display_data"
        },
        {
          "data": {
            "application/vnd.jupyter.widget-view+json": {
              "model_id": "4251a2e1134847dbbae1af705219e41b",
              "version_major": 2,
              "version_minor": 0
            },
            "text/plain": [
              "COLLECTING RESULTS | :   0%|          | 0/15 [00:00<?, ?it/s]"
            ]
          },
          "metadata": {},
          "output_type": "display_data"
        },
        {
          "data": {
            "application/vnd.jupyter.widget-view+json": {
              "model_id": "4ec795e762ed4f78870178f37e032471",
              "version_major": 2,
              "version_minor": 0
            },
            "text/plain": [
              "QUEUEING TASKS | :   0%|          | 0/15 [00:00<?, ?it/s]"
            ]
          },
          "metadata": {},
          "output_type": "display_data"
        },
        {
          "data": {
            "application/vnd.jupyter.widget-view+json": {
              "model_id": "223407f8a88348a289100c6e7ed88a0d",
              "version_major": 2,
              "version_minor": 0
            },
            "text/plain": [
              "PROCESSING TASKS | :   0%|          | 0/15 [00:00<?, ?it/s]"
            ]
          },
          "metadata": {},
          "output_type": "display_data"
        },
        {
          "data": {
            "application/vnd.jupyter.widget-view+json": {
              "model_id": "9812e05bcfbf4dc194e26be18f2fd4b0",
              "version_major": 2,
              "version_minor": 0
            },
            "text/plain": [
              "COLLECTING RESULTS | :   0%|          | 0/15 [00:00<?, ?it/s]"
            ]
          },
          "metadata": {},
          "output_type": "display_data"
        },
        {
          "data": {
            "application/vnd.jupyter.widget-view+json": {
              "model_id": "038fc5e926f14c3ba0f07d85f652ad93",
              "version_major": 2,
              "version_minor": 0
            },
            "text/plain": [
              "QUEUEING TASKS | :   0%|          | 0/15 [00:00<?, ?it/s]"
            ]
          },
          "metadata": {},
          "output_type": "display_data"
        },
        {
          "data": {
            "application/vnd.jupyter.widget-view+json": {
              "model_id": "672fbf080e7146c4824784dc70c8d65f",
              "version_major": 2,
              "version_minor": 0
            },
            "text/plain": [
              "PROCESSING TASKS | :   0%|          | 0/15 [00:00<?, ?it/s]"
            ]
          },
          "metadata": {},
          "output_type": "display_data"
        },
        {
          "data": {
            "application/vnd.jupyter.widget-view+json": {
              "model_id": "3acf8e2eb40e4a6ab184c5c8a99eb6e0",
              "version_major": 2,
              "version_minor": 0
            },
            "text/plain": [
              "COLLECTING RESULTS | :   0%|          | 0/15 [00:00<?, ?it/s]"
            ]
          },
          "metadata": {},
          "output_type": "display_data"
        },
        {
          "data": {
            "application/vnd.jupyter.widget-view+json": {
              "model_id": "df355d5ad0854b4bb4e2181c74e05e51",
              "version_major": 2,
              "version_minor": 0
            },
            "text/plain": [
              "QUEUEING TASKS | :   0%|          | 0/15 [00:00<?, ?it/s]"
            ]
          },
          "metadata": {},
          "output_type": "display_data"
        },
        {
          "data": {
            "application/vnd.jupyter.widget-view+json": {
              "model_id": "27c427b4ccb340dfbd98efc83ad706bd",
              "version_major": 2,
              "version_minor": 0
            },
            "text/plain": [
              "PROCESSING TASKS | :   0%|          | 0/15 [00:00<?, ?it/s]"
            ]
          },
          "metadata": {},
          "output_type": "display_data"
        },
        {
          "data": {
            "application/vnd.jupyter.widget-view+json": {
              "model_id": "980a24d62f5a4e3fbecdf12f61952ee4",
              "version_major": 2,
              "version_minor": 0
            },
            "text/plain": [
              "COLLECTING RESULTS | :   0%|          | 0/15 [00:00<?, ?it/s]"
            ]
          },
          "metadata": {},
          "output_type": "display_data"
        },
        {
          "data": {
            "application/vnd.jupyter.widget-view+json": {
              "model_id": "956c63da37c3455caca9362cfb07ae37",
              "version_major": 2,
              "version_minor": 0
            },
            "text/plain": [
              "QUEUEING TASKS | :   0%|          | 0/15 [00:00<?, ?it/s]"
            ]
          },
          "metadata": {},
          "output_type": "display_data"
        },
        {
          "data": {
            "application/vnd.jupyter.widget-view+json": {
              "model_id": "afcebf26bd2a4e769896ea95dc4db906",
              "version_major": 2,
              "version_minor": 0
            },
            "text/plain": [
              "PROCESSING TASKS | :   0%|          | 0/15 [00:00<?, ?it/s]"
            ]
          },
          "metadata": {},
          "output_type": "display_data"
        },
        {
          "data": {
            "application/vnd.jupyter.widget-view+json": {
              "model_id": "1fba5ebf7f334955a8d449cbcd73a97c",
              "version_major": 2,
              "version_minor": 0
            },
            "text/plain": [
              "COLLECTING RESULTS | :   0%|          | 0/15 [00:00<?, ?it/s]"
            ]
          },
          "metadata": {},
          "output_type": "display_data"
        },
        {
          "data": {
            "application/vnd.jupyter.widget-view+json": {
              "model_id": "b861caa25133420b8b40398d5c2ecde4",
              "version_major": 2,
              "version_minor": 0
            },
            "text/plain": [
              "QUEUEING TASKS | :   0%|          | 0/15 [00:00<?, ?it/s]"
            ]
          },
          "metadata": {},
          "output_type": "display_data"
        },
        {
          "data": {
            "application/vnd.jupyter.widget-view+json": {
              "model_id": "57754c5e4489406fbd7e57bb140e8914",
              "version_major": 2,
              "version_minor": 0
            },
            "text/plain": [
              "PROCESSING TASKS | :   0%|          | 0/15 [00:00<?, ?it/s]"
            ]
          },
          "metadata": {},
          "output_type": "display_data"
        },
        {
          "data": {
            "application/vnd.jupyter.widget-view+json": {
              "model_id": "6f55223902cc4ff4b0c66522f0e831e9",
              "version_major": 2,
              "version_minor": 0
            },
            "text/plain": [
              "COLLECTING RESULTS | :   0%|          | 0/15 [00:00<?, ?it/s]"
            ]
          },
          "metadata": {},
          "output_type": "display_data"
        },
        {
          "data": {
            "application/vnd.jupyter.widget-view+json": {
              "model_id": "f78fd21d6436489c9f55d47791b65ab0",
              "version_major": 2,
              "version_minor": 0
            },
            "text/plain": [
              "QUEUEING TASKS | :   0%|          | 0/15 [00:00<?, ?it/s]"
            ]
          },
          "metadata": {},
          "output_type": "display_data"
        },
        {
          "data": {
            "application/vnd.jupyter.widget-view+json": {
              "model_id": "1625d6b575b74ed7b991f89ae7a9aed1",
              "version_major": 2,
              "version_minor": 0
            },
            "text/plain": [
              "PROCESSING TASKS | :   0%|          | 0/15 [00:00<?, ?it/s]"
            ]
          },
          "metadata": {},
          "output_type": "display_data"
        },
        {
          "data": {
            "application/vnd.jupyter.widget-view+json": {
              "model_id": "c0bd51c7000f4111ad19b133379b4b99",
              "version_major": 2,
              "version_minor": 0
            },
            "text/plain": [
              "COLLECTING RESULTS | :   0%|          | 0/15 [00:00<?, ?it/s]"
            ]
          },
          "metadata": {},
          "output_type": "display_data"
        },
        {
          "data": {
            "application/vnd.jupyter.widget-view+json": {
              "model_id": "304808cb51fd4e329010eab66e87e8dd",
              "version_major": 2,
              "version_minor": 0
            },
            "text/plain": [
              "QUEUEING TASKS | :   0%|          | 0/15 [00:00<?, ?it/s]"
            ]
          },
          "metadata": {},
          "output_type": "display_data"
        },
        {
          "data": {
            "application/vnd.jupyter.widget-view+json": {
              "model_id": "e8781dd249f94c6d85b921c13e053e30",
              "version_major": 2,
              "version_minor": 0
            },
            "text/plain": [
              "PROCESSING TASKS | :   0%|          | 0/15 [00:00<?, ?it/s]"
            ]
          },
          "metadata": {},
          "output_type": "display_data"
        },
        {
          "data": {
            "application/vnd.jupyter.widget-view+json": {
              "model_id": "f63234419c2e4334a7f049a409963a53",
              "version_major": 2,
              "version_minor": 0
            },
            "text/plain": [
              "COLLECTING RESULTS | :   0%|          | 0/15 [00:00<?, ?it/s]"
            ]
          },
          "metadata": {},
          "output_type": "display_data"
        },
        {
          "data": {
            "application/vnd.jupyter.widget-view+json": {
              "model_id": "afea4a38b3194c37b1bcf7d1bad32fda",
              "version_major": 2,
              "version_minor": 0
            },
            "text/plain": [
              "QUEUEING TASKS | :   0%|          | 0/15 [00:00<?, ?it/s]"
            ]
          },
          "metadata": {},
          "output_type": "display_data"
        },
        {
          "data": {
            "application/vnd.jupyter.widget-view+json": {
              "model_id": "d24abe63d2854149a0018d44d3c71b66",
              "version_major": 2,
              "version_minor": 0
            },
            "text/plain": [
              "PROCESSING TASKS | :   0%|          | 0/15 [00:00<?, ?it/s]"
            ]
          },
          "metadata": {},
          "output_type": "display_data"
        },
        {
          "data": {
            "application/vnd.jupyter.widget-view+json": {
              "model_id": "9392c3cb15114120873310abe9cbcc25",
              "version_major": 2,
              "version_minor": 0
            },
            "text/plain": [
              "COLLECTING RESULTS | :   0%|          | 0/15 [00:00<?, ?it/s]"
            ]
          },
          "metadata": {},
          "output_type": "display_data"
        },
        {
          "data": {
            "application/vnd.jupyter.widget-view+json": {
              "model_id": "8d322460a6414d0baf9b2d317f98284b",
              "version_major": 2,
              "version_minor": 0
            },
            "text/plain": [
              "QUEUEING TASKS | :   0%|          | 0/15 [00:00<?, ?it/s]"
            ]
          },
          "metadata": {},
          "output_type": "display_data"
        },
        {
          "data": {
            "application/vnd.jupyter.widget-view+json": {
              "model_id": "dd53dc3e93c1483a9b7d6d0c4cc2cc18",
              "version_major": 2,
              "version_minor": 0
            },
            "text/plain": [
              "PROCESSING TASKS | :   0%|          | 0/15 [00:00<?, ?it/s]"
            ]
          },
          "metadata": {},
          "output_type": "display_data"
        },
        {
          "data": {
            "application/vnd.jupyter.widget-view+json": {
              "model_id": "5e3a742b07f64b07b4f727afa760f6ad",
              "version_major": 2,
              "version_minor": 0
            },
            "text/plain": [
              "COLLECTING RESULTS | :   0%|          | 0/15 [00:00<?, ?it/s]"
            ]
          },
          "metadata": {},
          "output_type": "display_data"
        },
        {
          "data": {
            "application/vnd.jupyter.widget-view+json": {
              "model_id": "1b3b016e471544438ac93aa047c3eccf",
              "version_major": 2,
              "version_minor": 0
            },
            "text/plain": [
              "QUEUEING TASKS | :   0%|          | 0/15 [00:00<?, ?it/s]"
            ]
          },
          "metadata": {},
          "output_type": "display_data"
        },
        {
          "data": {
            "application/vnd.jupyter.widget-view+json": {
              "model_id": "b4547b8ec3db4276a319712f530d8dd2",
              "version_major": 2,
              "version_minor": 0
            },
            "text/plain": [
              "PROCESSING TASKS | :   0%|          | 0/15 [00:00<?, ?it/s]"
            ]
          },
          "metadata": {},
          "output_type": "display_data"
        },
        {
          "data": {
            "application/vnd.jupyter.widget-view+json": {
              "model_id": "eb5490d66b9a4edfbd2801efedc95ef2",
              "version_major": 2,
              "version_minor": 0
            },
            "text/plain": [
              "COLLECTING RESULTS | :   0%|          | 0/15 [00:00<?, ?it/s]"
            ]
          },
          "metadata": {},
          "output_type": "display_data"
        },
        {
          "data": {
            "application/vnd.jupyter.widget-view+json": {
              "model_id": "8049c9294df44fcf98dfca2f73afa256",
              "version_major": 2,
              "version_minor": 0
            },
            "text/plain": [
              "QUEUEING TASKS | :   0%|          | 0/15 [00:00<?, ?it/s]"
            ]
          },
          "metadata": {},
          "output_type": "display_data"
        },
        {
          "data": {
            "application/vnd.jupyter.widget-view+json": {
              "model_id": "50eb442c68294ba9bc950df0bd204a25",
              "version_major": 2,
              "version_minor": 0
            },
            "text/plain": [
              "PROCESSING TASKS | :   0%|          | 0/15 [00:00<?, ?it/s]"
            ]
          },
          "metadata": {},
          "output_type": "display_data"
        },
        {
          "data": {
            "application/vnd.jupyter.widget-view+json": {
              "model_id": "4d19e2e96dd74f74b0e8c10b64f75419",
              "version_major": 2,
              "version_minor": 0
            },
            "text/plain": [
              "COLLECTING RESULTS | :   0%|          | 0/15 [00:00<?, ?it/s]"
            ]
          },
          "metadata": {},
          "output_type": "display_data"
        },
        {
          "data": {
            "application/vnd.jupyter.widget-view+json": {
              "model_id": "9341270f7d1c4b5c8b11e567603f9e85",
              "version_major": 2,
              "version_minor": 0
            },
            "text/plain": [
              "QUEUEING TASKS | :   0%|          | 0/15 [00:00<?, ?it/s]"
            ]
          },
          "metadata": {},
          "output_type": "display_data"
        },
        {
          "data": {
            "application/vnd.jupyter.widget-view+json": {
              "model_id": "d4891090eda245baa7b34f5cc0d227b9",
              "version_major": 2,
              "version_minor": 0
            },
            "text/plain": [
              "PROCESSING TASKS | :   0%|          | 0/15 [00:00<?, ?it/s]"
            ]
          },
          "metadata": {},
          "output_type": "display_data"
        },
        {
          "data": {
            "application/vnd.jupyter.widget-view+json": {
              "model_id": "05b8c01e05ac4b44a629169c457e229e",
              "version_major": 2,
              "version_minor": 0
            },
            "text/plain": [
              "COLLECTING RESULTS | :   0%|          | 0/15 [00:00<?, ?it/s]"
            ]
          },
          "metadata": {},
          "output_type": "display_data"
        },
        {
          "data": {
            "application/vnd.jupyter.widget-view+json": {
              "model_id": "1c9790aae4a34170847be03c8f56b8fa",
              "version_major": 2,
              "version_minor": 0
            },
            "text/plain": [
              "QUEUEING TASKS | :   0%|          | 0/15 [00:00<?, ?it/s]"
            ]
          },
          "metadata": {},
          "output_type": "display_data"
        },
        {
          "data": {
            "application/vnd.jupyter.widget-view+json": {
              "model_id": "f6f8da9a937649e0a369a4fdcb1d4500",
              "version_major": 2,
              "version_minor": 0
            },
            "text/plain": [
              "PROCESSING TASKS | :   0%|          | 0/15 [00:00<?, ?it/s]"
            ]
          },
          "metadata": {},
          "output_type": "display_data"
        },
        {
          "data": {
            "application/vnd.jupyter.widget-view+json": {
              "model_id": "fa8b038a316f45ab8d217baacae9853c",
              "version_major": 2,
              "version_minor": 0
            },
            "text/plain": [
              "COLLECTING RESULTS | :   0%|          | 0/15 [00:00<?, ?it/s]"
            ]
          },
          "metadata": {},
          "output_type": "display_data"
        },
        {
          "data": {
            "application/vnd.jupyter.widget-view+json": {
              "model_id": "7c9111eabb7744f6803a2da2b4e9e0cf",
              "version_major": 2,
              "version_minor": 0
            },
            "text/plain": [
              "  0%|          | 0/44 [00:00<?, ?it/s]"
            ]
          },
          "metadata": {},
          "output_type": "display_data"
        },
        {
          "name": "stdout",
          "output_type": "stream",
          "text": [
            "Processing granule T15RYN 2024-06-07 16:31:11.509000+00:00\n",
            "Processing granule T15RYP 2024-06-07 16:31:11.509000+00:00\n",
            "Processing granule T16RBT 2024-06-07 16:31:11.509000+00:00\n",
            "Processing granule T16RBU 2024-06-07 16:31:11.509000+00:00\n",
            "Processing granule T15RYN 2024-06-15 16:31:19.154000+00:00\n",
            "Processing granule T15RYP 2024-06-15 16:31:19.154000+00:00\n",
            "Processing granule T16RBT 2024-06-15 16:31:19.154000+00:00\n",
            "Processing granule T16RBU 2024-06-15 16:31:19.154000+00:00\n",
            "Processing granule T15RYN 2024-06-23 16:31:21.277000+00:00\n",
            "Processing granule T15RYP 2024-06-23 16:31:21.277000+00:00\n",
            "Processing granule T16RBT 2024-06-23 16:31:21.277000+00:00\n",
            "Processing granule T16RBU 2024-06-23 16:31:21.277000+00:00\n",
            "Processing granule T15RYN 2024-07-01 16:31:17.338000+00:00\n",
            "Processing granule T15RYP 2024-07-01 16:31:17.338000+00:00\n",
            "Processing granule T16RBT 2024-07-01 16:31:17.338000+00:00\n",
            "Processing granule T16RBU 2024-07-01 16:31:17.338000+00:00\n",
            "Processing granule T15RYN 2024-07-09 16:31:29.187000+00:00\n",
            "Processing granule T15RYP 2024-07-09 16:31:29.187000+00:00\n",
            "Processing granule T16RBT 2024-07-09 16:31:29.187000+00:00\n",
            "Processing granule T16RBU 2024-07-09 16:31:29.187000+00:00\n",
            "Processing granule T15RYN 2024-07-17 16:31:33.271000+00:00\n",
            "Processing granule T15RYP 2024-07-17 16:31:33.271000+00:00\n",
            "Processing granule T16RBT 2024-07-17 16:31:33.271000+00:00\n",
            "Processing granule T16RBU 2024-07-17 16:31:33.271000+00:00\n",
            "Processing granule T15RYN 2024-07-25 16:31:43.265000+00:00\n",
            "Processing granule T15RYP 2024-07-25 16:31:43.265000+00:00\n",
            "Processing granule T16RBT 2024-07-25 16:31:43.265000+00:00\n",
            "Processing granule T16RBU 2024-07-25 16:31:43.265000+00:00\n",
            "Processing granule T15RYN 2024-08-02 16:31:36.413000+00:00\n",
            "Processing granule T15RYP 2024-08-02 16:31:36.413000+00:00\n",
            "Processing granule T16RBT 2024-08-02 16:31:36.413000+00:00\n",
            "Processing granule T16RBU 2024-08-02 16:31:36.413000+00:00\n",
            "Processing granule T15RYN 2024-08-10 16:31:42.335000+00:00\n",
            "Processing granule T15RYP 2024-08-10 16:31:42.335000+00:00\n",
            "Processing granule T16RBT 2024-08-10 16:31:42.335000+00:00\n",
            "Processing granule T16RBU 2024-08-10 16:31:42.335000+00:00\n",
            "Processing granule T15RYN 2024-08-18 16:31:46.256000+00:00\n",
            "Processing granule T15RYP 2024-08-18 16:31:46.256000+00:00\n",
            "Processing granule T16RBT 2024-08-18 16:31:46.256000+00:00\n",
            "Processing granule T16RBU 2024-08-18 16:31:46.256000+00:00\n",
            "Processing granule T15RYN 2024-08-26 16:31:51.172000+00:00\n",
            "Processing granule T15RYP 2024-08-26 16:31:51.172000+00:00\n",
            "Processing granule T16RBT 2024-08-26 16:31:51.172000+00:00\n",
            "Processing granule T16RBU 2024-08-26 16:31:51.172000+00:00\n"
          ]
        }
      ],
      "source": [
        "from tqdm import tqdm  # Progress bar for loops\n",
        "import pandas as pd\n",
        "import geopandas as gpd\n",
        "import rioxarray as rxr\n",
        "import numpy as np\n",
        "\n",
        "def get_earthaccess_links(results):\n",
        "    \"\"\"\n",
        "    Extracts metadata and URLs from Earthdata search results.\n",
        "    \"\"\"\n",
        "    url_re = re.compile(r'\\.(?P<tile_id>\\w+)\\.\\d+T\\d+\\.v\\d\\.\\d\\.(?P<band>[A-Za-z0-9]+)\\.tif')\n",
        "    \n",
        "    link_rows = []\n",
        "    \n",
        "    for granule in tqdm(results):\n",
        "        info_dict = granule['umm']\n",
        "        granule_id = info_dict['GranuleUR']\n",
        "        datetime = pd.to_datetime(info_dict['TemporalExtent']['RangeDateTime']['BeginningDateTime'])\n",
        "        points = info_dict['SpatialExtent']['HorizontalSpatialDomain']['Geometry']['GPolygons'][0]['Boundary']['Points']\n",
        "        geometry = Polygon([(point['Longitude'], point['Latitude']) for point in points])\n",
        "        \n",
        "        # Open files from Earthdata\n",
        "        files = earthaccess.open([granule])\n",
        "        \n",
        "        for file in files:\n",
        "            match = url_re.search(file.full_name)\n",
        "            if match is not None:\n",
        "                link_rows.append(\n",
        "                    gpd.GeoDataFrame(\n",
        "                        dict(\n",
        "                            datetime=[datetime],\n",
        "                            tile_id=[match.group('tile_id')],\n",
        "                            band=[match.group('band')],\n",
        "                            url=[file],\n",
        "                            geometry=[geometry]\n",
        "                        ),\n",
        "                        crs=\"EPSG:4326\"\n",
        "                    )\n",
        "                )\n",
        "    \n",
        "    # Combine all extracted metadata into a single DataFrame\n",
        "    file_df = pd.concat(link_rows).reset_index(drop=True)\n",
        "    return file_df\n",
        "\n",
        "@cached('delta_reflectance_da_df')\n",
        "def compute_reflectance_da(search_results, boundary_gdf):\n",
        "    \"\"\"\n",
        "    Processes remote sensing imagery by applying cloud masks, cropping, and assembling data into a DataFrame.\n",
        "    \"\"\"\n",
        "    def open_dataarray(url, boundary_proj_gdf, scale=1, masked=True):\n",
        "        \"\"\"\n",
        "        Opens a raster file, optionally masks and scales it, and clips it to the study boundary.\n",
        "        \"\"\"\n",
        "        da = rxr.open_rasterio(url, masked=masked).squeeze() * scale  # Open and apply scale factor\n",
        "        \n",
        "        # Reproject the boundary if needed\n",
        "        if boundary_proj_gdf is None:\n",
        "            boundary_proj_gdf = boundary_gdf.to_crs(da.rio.crs)\n",
        "        \n",
        "        # Clip the raster to the bounding box of the boundary\n",
        "        cropped = da.rio.clip_box(*boundary_proj_gdf.total_bounds)\n",
        "        return cropped\n",
        "    \n",
        "    def compute_quality_mask(da, mask_bits=[1, 2, 3]):\n",
        "        \"\"\"\n",
        "        Applies a cloud mask by filtering out low-quality data based on specific bit flags.\n",
        "        \"\"\"\n",
        "        bits = (\n",
        "            np.unpackbits(\n",
        "                da.astype(np.uint8), bitorder='little'\n",
        "            ).reshape(da.shape + (-1,))\n",
        "        )\n",
        "        \n",
        "        # Keep pixels where none of the selected mask bits are flagged\n",
        "        mask = np.prod(bits[..., mask_bits] == 0, axis=-1)\n",
        "        return mask\n",
        "    \n",
        "    # Extract file metadata and URLs\n",
        "    file_df = get_earthaccess_links(search_results)\n",
        "    \n",
        "    granule_da_rows = []  # List to store processed data arrays\n",
        "    boundary_proj_gdf = None  # Initialize reprojected boundary\n",
        "\n",
        "    # Group images by timestamp and tile ID\n",
        "    group_iter = file_df.groupby(['datetime', 'tile_id'])\n",
        "    for (datetime, tile_id), granule_df in tqdm(group_iter):\n",
        "        print(f'Processing granule {tile_id} {datetime}')\n",
        "        \n",
        "        # Extract cloud mask from Fmask band\n",
        "        cloud_mask_url = (\n",
        "            granule_df.loc[granule_df.band == 'Fmask', 'url']\n",
        "            .values[0]\n",
        "        )\n",
        "        cloud_mask_cropped_da = open_dataarray(cloud_mask_url, boundary_proj_gdf, masked=False)\n",
        "        \n",
        "        # Compute cloud mask\n",
        "        cloud_mask = compute_quality_mask(cloud_mask_cropped_da)\n",
        "        \n",
        "        # Process each spectral band\n",
        "        for i, row in granule_df.iterrows():\n",
        "            if row.band.startswith('B'):  # Filter only spectral bands\n",
        "                band_cropped = open_dataarray(row.url, boundary_proj_gdf, scale=0.0001)\n",
        "                band_cropped.name = row.band  # Name the raster\n",
        "                \n",
        "                # Apply cloud mask\n",
        "                row['da'] = band_cropped.where(cloud_mask)\n",
        "                granule_da_rows.append(row.to_frame().T)\n",
        "    \n",
        "    # Compile processed data into a single DataFrame\n",
        "    return pd.concat(granule_da_rows)\n",
        "\n",
        "# Execute the function and store the result\n",
        "reflectance_da_df = compute_reflectance_da(results, delta_gdf)\n"
      ]
    },
    {
      "cell_type": "markdown",
      "id": "b3f54939-7fcf-44a6-91af-57aa50b1895c",
      "metadata": {},
      "source": [
        "### Merge and Composite Data\n",
        "\n",
        "You will notice for this watershed that: 1. The raster data for each\n",
        "date are spread across 4 granules 2. Any given image is incomplete\n",
        "because of clouds\n",
        "\n",
        "<link rel=\"stylesheet\" type=\"text/css\" href=\"./assets/styles.css\"><div class=\"callout callout-style-default callout-titled callout-task\"><div class=\"callout-header\"><div class=\"callout-icon-container\"><i class=\"callout-icon\"></i></div><div class=\"callout-title-container flex-fill\">Try It</div></div><div class=\"callout-body-container callout-body\"><ol type=\"1\">\n",
        "<li><p>For each band:</p>\n",
        "<ol type=\"1\">\n",
        "<li><p>For each date:</p>\n",
        "<ol type=\"1\">\n",
        "<li>Merge all 4 granules</li>\n",
        "<li>Mask any negative values created by interpolating from the nodata\n",
        "value of -9999 (<code>rioxarray</code> should account for this, but\n",
        "doesn’t appear to when merging. If you leave these values in they will\n",
        "create problems down the line)</li>\n",
        "</ol></li>\n",
        "<li><p>Concatenate the merged DataArrays along a new date\n",
        "dimension</p></li>\n",
        "<li><p>Take the mean in the date dimension to create a composite image\n",
        "that fills cloud gaps</p></li>\n",
        "<li><p>Add the band as a dimension, and give the DataArray a\n",
        "name</p></li>\n",
        "</ol></li>\n",
        "<li><p>Concatenate along the band dimension</p></li>\n",
        "</ol></div></div>"
      ]
    },
    {
      "cell_type": "code",
      "execution_count": 40,
      "id": "65661ec2",
      "metadata": {},
      "outputs": [
        {
          "data": {
            "application/vnd.jupyter.widget-view+json": {
              "model_id": "27df3bd972e4422b94e4e2c9bd1223b7",
              "version_major": 2,
              "version_minor": 0
            },
            "text/plain": [
              "  0%|          | 0/10 [00:00<?, ?it/s]"
            ]
          },
          "metadata": {},
          "output_type": "display_data"
        },
        {
          "data": {
            "application/vnd.jupyter.widget-view+json": {
              "model_id": "e2e6a399f7ef4bf7ab3973e671b2d616",
              "version_major": 2,
              "version_minor": 0
            },
            "text/plain": [
              "  0%|          | 0/11 [00:00<?, ?it/s]"
            ]
          },
          "metadata": {},
          "output_type": "display_data"
        },
        {
          "data": {
            "application/vnd.jupyter.widget-view+json": {
              "model_id": "81e7c1f2ae6e4ea6b320a7136b4a2b9b",
              "version_major": 2,
              "version_minor": 0
            },
            "text/plain": [
              "  0%|          | 0/11 [00:00<?, ?it/s]"
            ]
          },
          "metadata": {},
          "output_type": "display_data"
        },
        {
          "data": {
            "application/vnd.jupyter.widget-view+json": {
              "model_id": "c82770c356794db6bf01c3bd6eff1d55",
              "version_major": 2,
              "version_minor": 0
            },
            "text/plain": [
              "  0%|          | 0/11 [00:00<?, ?it/s]"
            ]
          },
          "metadata": {},
          "output_type": "display_data"
        },
        {
          "data": {
            "application/vnd.jupyter.widget-view+json": {
              "model_id": "e168d3e1ceeb4de4b3c739bdd384888f",
              "version_major": 2,
              "version_minor": 0
            },
            "text/plain": [
              "  0%|          | 0/11 [00:00<?, ?it/s]"
            ]
          },
          "metadata": {},
          "output_type": "display_data"
        },
        {
          "data": {
            "application/vnd.jupyter.widget-view+json": {
              "model_id": "1d118fa07ce54c1db3185cf94fe42c6d",
              "version_major": 2,
              "version_minor": 0
            },
            "text/plain": [
              "  0%|          | 0/11 [00:00<?, ?it/s]"
            ]
          },
          "metadata": {},
          "output_type": "display_data"
        },
        {
          "data": {
            "application/vnd.jupyter.widget-view+json": {
              "model_id": "28d2db436fa3490ab7f74f0b2c65c404",
              "version_major": 2,
              "version_minor": 0
            },
            "text/plain": [
              "  0%|          | 0/11 [00:00<?, ?it/s]"
            ]
          },
          "metadata": {},
          "output_type": "display_data"
        },
        {
          "data": {
            "application/vnd.jupyter.widget-view+json": {
              "model_id": "2dd5895910a9485ca81db66f03aa5cb5",
              "version_major": 2,
              "version_minor": 0
            },
            "text/plain": [
              "  0%|          | 0/11 [00:00<?, ?it/s]"
            ]
          },
          "metadata": {},
          "output_type": "display_data"
        },
        {
          "data": {
            "application/vnd.jupyter.widget-view+json": {
              "model_id": "4b6d7ca8dc6a4e88a91076ae3a2f214d",
              "version_major": 2,
              "version_minor": 0
            },
            "text/plain": [
              "  0%|          | 0/11 [00:00<?, ?it/s]"
            ]
          },
          "metadata": {},
          "output_type": "display_data"
        },
        {
          "data": {
            "application/vnd.jupyter.widget-view+json": {
              "model_id": "ea88222f4ffa49fda0e9737be132d58f",
              "version_major": 2,
              "version_minor": 0
            },
            "text/plain": [
              "  0%|          | 0/11 [00:00<?, ?it/s]"
            ]
          },
          "metadata": {},
          "output_type": "display_data"
        },
        {
          "data": {
            "application/vnd.jupyter.widget-view+json": {
              "model_id": "a4245cc8a2e242b5a73cca334e8c99da",
              "version_major": 2,
              "version_minor": 0
            },
            "text/plain": [
              "  0%|          | 0/11 [00:00<?, ?it/s]"
            ]
          },
          "metadata": {},
          "output_type": "display_data"
        },
        {
          "data": {
            "text/html": [
              "<div><svg style=\"position: absolute; width: 0; height: 0; overflow: hidden\">\n",
              "<defs>\n",
              "<symbol id=\"icon-database\" viewBox=\"0 0 32 32\">\n",
              "<path d=\"M16 0c-8.837 0-16 2.239-16 5v4c0 2.761 7.163 5 16 5s16-2.239 16-5v-4c0-2.761-7.163-5-16-5z\"></path>\n",
              "<path d=\"M16 17c-8.837 0-16-2.239-16-5v6c0 2.761 7.163 5 16 5s16-2.239 16-5v-6c0 2.761-7.163 5-16 5z\"></path>\n",
              "<path d=\"M16 26c-8.837 0-16-2.239-16-5v6c0 2.761 7.163 5 16 5s16-2.239 16-5v-6c0 2.761-7.163 5-16 5z\"></path>\n",
              "</symbol>\n",
              "<symbol id=\"icon-file-text2\" viewBox=\"0 0 32 32\">\n",
              "<path d=\"M28.681 7.159c-0.694-0.947-1.662-2.053-2.724-3.116s-2.169-2.030-3.116-2.724c-1.612-1.182-2.393-1.319-2.841-1.319h-15.5c-1.378 0-2.5 1.121-2.5 2.5v27c0 1.378 1.122 2.5 2.5 2.5h23c1.378 0 2.5-1.122 2.5-2.5v-19.5c0-0.448-0.137-1.23-1.319-2.841zM24.543 5.457c0.959 0.959 1.712 1.825 2.268 2.543h-4.811v-4.811c0.718 0.556 1.584 1.309 2.543 2.268zM28 29.5c0 0.271-0.229 0.5-0.5 0.5h-23c-0.271 0-0.5-0.229-0.5-0.5v-27c0-0.271 0.229-0.5 0.5-0.5 0 0 15.499-0 15.5 0v7c0 0.552 0.448 1 1 1h7v19.5z\"></path>\n",
              "<path d=\"M23 26h-14c-0.552 0-1-0.448-1-1s0.448-1 1-1h14c0.552 0 1 0.448 1 1s-0.448 1-1 1z\"></path>\n",
              "<path d=\"M23 22h-14c-0.552 0-1-0.448-1-1s0.448-1 1-1h14c0.552 0 1 0.448 1 1s-0.448 1-1 1z\"></path>\n",
              "<path d=\"M23 18h-14c-0.552 0-1-0.448-1-1s0.448-1 1-1h14c0.552 0 1 0.448 1 1s-0.448 1-1 1z\"></path>\n",
              "</symbol>\n",
              "</defs>\n",
              "</svg>\n",
              "<style>/* CSS stylesheet for displaying xarray objects in jupyterlab.\n",
              " *\n",
              " */\n",
              "\n",
              ":root {\n",
              "  --xr-font-color0: var(--jp-content-font-color0, rgba(0, 0, 0, 1));\n",
              "  --xr-font-color2: var(--jp-content-font-color2, rgba(0, 0, 0, 0.54));\n",
              "  --xr-font-color3: var(--jp-content-font-color3, rgba(0, 0, 0, 0.38));\n",
              "  --xr-border-color: var(--jp-border-color2, #e0e0e0);\n",
              "  --xr-disabled-color: var(--jp-layout-color3, #bdbdbd);\n",
              "  --xr-background-color: var(--jp-layout-color0, white);\n",
              "  --xr-background-color-row-even: var(--jp-layout-color1, white);\n",
              "  --xr-background-color-row-odd: var(--jp-layout-color2, #eeeeee);\n",
              "}\n",
              "\n",
              "html[theme=dark],\n",
              "html[data-theme=dark],\n",
              "body[data-theme=dark],\n",
              "body.vscode-dark {\n",
              "  --xr-font-color0: rgba(255, 255, 255, 1);\n",
              "  --xr-font-color2: rgba(255, 255, 255, 0.54);\n",
              "  --xr-font-color3: rgba(255, 255, 255, 0.38);\n",
              "  --xr-border-color: #1F1F1F;\n",
              "  --xr-disabled-color: #515151;\n",
              "  --xr-background-color: #111111;\n",
              "  --xr-background-color-row-even: #111111;\n",
              "  --xr-background-color-row-odd: #313131;\n",
              "}\n",
              "\n",
              ".xr-wrap {\n",
              "  display: block !important;\n",
              "  min-width: 300px;\n",
              "  max-width: 700px;\n",
              "}\n",
              "\n",
              ".xr-text-repr-fallback {\n",
              "  /* fallback to plain text repr when CSS is not injected (untrusted notebook) */\n",
              "  display: none;\n",
              "}\n",
              "\n",
              ".xr-header {\n",
              "  padding-top: 6px;\n",
              "  padding-bottom: 6px;\n",
              "  margin-bottom: 4px;\n",
              "  border-bottom: solid 1px var(--xr-border-color);\n",
              "}\n",
              "\n",
              ".xr-header > div,\n",
              ".xr-header > ul {\n",
              "  display: inline;\n",
              "  margin-top: 0;\n",
              "  margin-bottom: 0;\n",
              "}\n",
              "\n",
              ".xr-obj-type,\n",
              ".xr-array-name {\n",
              "  margin-left: 2px;\n",
              "  margin-right: 10px;\n",
              "}\n",
              "\n",
              ".xr-obj-type {\n",
              "  color: var(--xr-font-color2);\n",
              "}\n",
              "\n",
              ".xr-sections {\n",
              "  padding-left: 0 !important;\n",
              "  display: grid;\n",
              "  grid-template-columns: 150px auto auto 1fr 0 20px 0 20px;\n",
              "}\n",
              "\n",
              ".xr-section-item {\n",
              "  display: contents;\n",
              "}\n",
              "\n",
              ".xr-section-item input {\n",
              "  display: inline-block;\n",
              "  opacity: 0;\n",
              "}\n",
              "\n",
              ".xr-section-item input + label {\n",
              "  color: var(--xr-disabled-color);\n",
              "}\n",
              "\n",
              ".xr-section-item input:enabled + label {\n",
              "  cursor: pointer;\n",
              "  color: var(--xr-font-color2);\n",
              "}\n",
              "\n",
              ".xr-section-item input:focus + label {\n",
              "  border: 2px solid var(--xr-font-color0);\n",
              "}\n",
              "\n",
              ".xr-section-item input:enabled + label:hover {\n",
              "  color: var(--xr-font-color0);\n",
              "}\n",
              "\n",
              ".xr-section-summary {\n",
              "  grid-column: 1;\n",
              "  color: var(--xr-font-color2);\n",
              "  font-weight: 500;\n",
              "}\n",
              "\n",
              ".xr-section-summary > span {\n",
              "  display: inline-block;\n",
              "  padding-left: 0.5em;\n",
              "}\n",
              "\n",
              ".xr-section-summary-in:disabled + label {\n",
              "  color: var(--xr-font-color2);\n",
              "}\n",
              "\n",
              ".xr-section-summary-in + label:before {\n",
              "  display: inline-block;\n",
              "  content: '►';\n",
              "  font-size: 11px;\n",
              "  width: 15px;\n",
              "  text-align: center;\n",
              "}\n",
              "\n",
              ".xr-section-summary-in:disabled + label:before {\n",
              "  color: var(--xr-disabled-color);\n",
              "}\n",
              "\n",
              ".xr-section-summary-in:checked + label:before {\n",
              "  content: '▼';\n",
              "}\n",
              "\n",
              ".xr-section-summary-in:checked + label > span {\n",
              "  display: none;\n",
              "}\n",
              "\n",
              ".xr-section-summary,\n",
              ".xr-section-inline-details {\n",
              "  padding-top: 4px;\n",
              "  padding-bottom: 4px;\n",
              "}\n",
              "\n",
              ".xr-section-inline-details {\n",
              "  grid-column: 2 / -1;\n",
              "}\n",
              "\n",
              ".xr-section-details {\n",
              "  display: none;\n",
              "  grid-column: 1 / -1;\n",
              "  margin-bottom: 5px;\n",
              "}\n",
              "\n",
              ".xr-section-summary-in:checked ~ .xr-section-details {\n",
              "  display: contents;\n",
              "}\n",
              "\n",
              ".xr-array-wrap {\n",
              "  grid-column: 1 / -1;\n",
              "  display: grid;\n",
              "  grid-template-columns: 20px auto;\n",
              "}\n",
              "\n",
              ".xr-array-wrap > label {\n",
              "  grid-column: 1;\n",
              "  vertical-align: top;\n",
              "}\n",
              "\n",
              ".xr-preview {\n",
              "  color: var(--xr-font-color3);\n",
              "}\n",
              "\n",
              ".xr-array-preview,\n",
              ".xr-array-data {\n",
              "  padding: 0 5px !important;\n",
              "  grid-column: 2;\n",
              "}\n",
              "\n",
              ".xr-array-data,\n",
              ".xr-array-in:checked ~ .xr-array-preview {\n",
              "  display: none;\n",
              "}\n",
              "\n",
              ".xr-array-in:checked ~ .xr-array-data,\n",
              ".xr-array-preview {\n",
              "  display: inline-block;\n",
              "}\n",
              "\n",
              ".xr-dim-list {\n",
              "  display: inline-block !important;\n",
              "  list-style: none;\n",
              "  padding: 0 !important;\n",
              "  margin: 0;\n",
              "}\n",
              "\n",
              ".xr-dim-list li {\n",
              "  display: inline-block;\n",
              "  padding: 0;\n",
              "  margin: 0;\n",
              "}\n",
              "\n",
              ".xr-dim-list:before {\n",
              "  content: '(';\n",
              "}\n",
              "\n",
              ".xr-dim-list:after {\n",
              "  content: ')';\n",
              "}\n",
              "\n",
              ".xr-dim-list li:not(:last-child):after {\n",
              "  content: ',';\n",
              "  padding-right: 5px;\n",
              "}\n",
              "\n",
              ".xr-has-index {\n",
              "  font-weight: bold;\n",
              "}\n",
              "\n",
              ".xr-var-list,\n",
              ".xr-var-item {\n",
              "  display: contents;\n",
              "}\n",
              "\n",
              ".xr-var-item > div,\n",
              ".xr-var-item label,\n",
              ".xr-var-item > .xr-var-name span {\n",
              "  background-color: var(--xr-background-color-row-even);\n",
              "  margin-bottom: 0;\n",
              "}\n",
              "\n",
              ".xr-var-item > .xr-var-name:hover span {\n",
              "  padding-right: 5px;\n",
              "}\n",
              "\n",
              ".xr-var-list > li:nth-child(odd) > div,\n",
              ".xr-var-list > li:nth-child(odd) > label,\n",
              ".xr-var-list > li:nth-child(odd) > .xr-var-name span {\n",
              "  background-color: var(--xr-background-color-row-odd);\n",
              "}\n",
              "\n",
              ".xr-var-name {\n",
              "  grid-column: 1;\n",
              "}\n",
              "\n",
              ".xr-var-dims {\n",
              "  grid-column: 2;\n",
              "}\n",
              "\n",
              ".xr-var-dtype {\n",
              "  grid-column: 3;\n",
              "  text-align: right;\n",
              "  color: var(--xr-font-color2);\n",
              "}\n",
              "\n",
              ".xr-var-preview {\n",
              "  grid-column: 4;\n",
              "}\n",
              "\n",
              ".xr-index-preview {\n",
              "  grid-column: 2 / 5;\n",
              "  color: var(--xr-font-color2);\n",
              "}\n",
              "\n",
              ".xr-var-name,\n",
              ".xr-var-dims,\n",
              ".xr-var-dtype,\n",
              ".xr-preview,\n",
              ".xr-attrs dt {\n",
              "  white-space: nowrap;\n",
              "  overflow: hidden;\n",
              "  text-overflow: ellipsis;\n",
              "  padding-right: 10px;\n",
              "}\n",
              "\n",
              ".xr-var-name:hover,\n",
              ".xr-var-dims:hover,\n",
              ".xr-var-dtype:hover,\n",
              ".xr-attrs dt:hover {\n",
              "  overflow: visible;\n",
              "  width: auto;\n",
              "  z-index: 1;\n",
              "}\n",
              "\n",
              ".xr-var-attrs,\n",
              ".xr-var-data,\n",
              ".xr-index-data {\n",
              "  display: none;\n",
              "  background-color: var(--xr-background-color) !important;\n",
              "  padding-bottom: 5px !important;\n",
              "}\n",
              "\n",
              ".xr-var-attrs-in:checked ~ .xr-var-attrs,\n",
              ".xr-var-data-in:checked ~ .xr-var-data,\n",
              ".xr-index-data-in:checked ~ .xr-index-data {\n",
              "  display: block;\n",
              "}\n",
              "\n",
              ".xr-var-data > table {\n",
              "  float: right;\n",
              "}\n",
              "\n",
              ".xr-var-name span,\n",
              ".xr-var-data,\n",
              ".xr-index-name div,\n",
              ".xr-index-data,\n",
              ".xr-attrs {\n",
              "  padding-left: 25px !important;\n",
              "}\n",
              "\n",
              ".xr-attrs,\n",
              ".xr-var-attrs,\n",
              ".xr-var-data,\n",
              ".xr-index-data {\n",
              "  grid-column: 1 / -1;\n",
              "}\n",
              "\n",
              "dl.xr-attrs {\n",
              "  padding: 0;\n",
              "  margin: 0;\n",
              "  display: grid;\n",
              "  grid-template-columns: 125px auto;\n",
              "}\n",
              "\n",
              ".xr-attrs dt,\n",
              ".xr-attrs dd {\n",
              "  padding: 0;\n",
              "  margin: 0;\n",
              "  float: left;\n",
              "  padding-right: 10px;\n",
              "  width: auto;\n",
              "}\n",
              "\n",
              ".xr-attrs dt {\n",
              "  font-weight: normal;\n",
              "  grid-column: 1;\n",
              "}\n",
              "\n",
              ".xr-attrs dt:hover span {\n",
              "  display: inline-block;\n",
              "  background: var(--xr-background-color);\n",
              "  padding-right: 10px;\n",
              "}\n",
              "\n",
              ".xr-attrs dd {\n",
              "  grid-column: 2;\n",
              "  white-space: pre-wrap;\n",
              "  word-break: break-all;\n",
              "}\n",
              "\n",
              ".xr-icon-database,\n",
              ".xr-icon-file-text2,\n",
              ".xr-no-icon {\n",
              "  display: inline-block;\n",
              "  vertical-align: middle;\n",
              "  width: 1em;\n",
              "  height: 1.5em !important;\n",
              "  stroke-width: 0;\n",
              "  stroke: currentColor;\n",
              "  fill: currentColor;\n",
              "}\n",
              "</style><pre class='xr-text-repr-fallback'>&lt;xarray.DataArray &#x27;reflectance&#x27; (band: 10, y: 556, x: 624)&gt; Size: 14MB\n",
              "array([[[nan, nan, nan, ..., nan, nan, nan],\n",
              "        [nan, nan, nan, ..., nan, nan, nan],\n",
              "        [nan, nan, nan, ..., nan, nan, nan],\n",
              "        ...,\n",
              "        [nan, nan, nan, ..., nan, nan, nan],\n",
              "        [nan, nan, nan, ..., nan, nan, nan],\n",
              "        [nan, nan, nan, ..., nan, nan, nan]],\n",
              "\n",
              "       [[nan, nan, nan, ..., nan, nan, nan],\n",
              "        [nan, nan, nan, ..., nan, nan, nan],\n",
              "        [nan, nan, nan, ..., nan, nan, nan],\n",
              "        ...,\n",
              "        [nan, nan, nan, ..., nan, nan, nan],\n",
              "        [nan, nan, nan, ..., nan, nan, nan],\n",
              "        [nan, nan, nan, ..., nan, nan, nan]],\n",
              "\n",
              "       [[nan, nan, nan, ..., nan, nan, nan],\n",
              "        [nan, nan, nan, ..., nan, nan, nan],\n",
              "        [nan, nan, nan, ..., nan, nan, nan],\n",
              "        ...,\n",
              "...\n",
              "        ...,\n",
              "        [nan, nan, nan, ..., nan, nan, nan],\n",
              "        [nan, nan, nan, ..., nan, nan, nan],\n",
              "        [nan, nan, nan, ..., nan, nan, nan]],\n",
              "\n",
              "       [[nan, nan, nan, ..., nan, nan, nan],\n",
              "        [nan, nan, nan, ..., nan, nan, nan],\n",
              "        [nan, nan, nan, ..., nan, nan, nan],\n",
              "        ...,\n",
              "        [nan, nan, nan, ..., nan, nan, nan],\n",
              "        [nan, nan, nan, ..., nan, nan, nan],\n",
              "        [nan, nan, nan, ..., nan, nan, nan]],\n",
              "\n",
              "       [[nan, nan, nan, ..., nan, nan, nan],\n",
              "        [nan, nan, nan, ..., nan, nan, nan],\n",
              "        [nan, nan, nan, ..., nan, nan, nan],\n",
              "        ...,\n",
              "        [nan, nan, nan, ..., nan, nan, nan],\n",
              "        [nan, nan, nan, ..., nan, nan, nan],\n",
              "        [nan, nan, nan, ..., nan, nan, nan]]], dtype=float32)\n",
              "Coordinates:\n",
              "  * x            (x) float64 5kB 7.926e+05 7.926e+05 ... 8.112e+05 8.113e+05\n",
              "  * y            (y) float64 4kB 3.304e+06 3.304e+06 ... 3.287e+06 3.287e+06\n",
              "  * band         (band) int64 80B 1 2 3 4 5 6 7 9 10 11\n",
              "    spatial_ref  int64 8B 0</pre><div class='xr-wrap' style='display:none'><div class='xr-header'><div class='xr-obj-type'>xarray.DataArray</div><div class='xr-array-name'>'reflectance'</div><ul class='xr-dim-list'><li><span class='xr-has-index'>band</span>: 10</li><li><span class='xr-has-index'>y</span>: 556</li><li><span class='xr-has-index'>x</span>: 624</li></ul></div><ul class='xr-sections'><li class='xr-section-item'><div class='xr-array-wrap'><input id='section-362231ab-c856-4c47-9fb2-c8c11f2fadec' class='xr-array-in' type='checkbox' checked><label for='section-362231ab-c856-4c47-9fb2-c8c11f2fadec' title='Show/hide data repr'><svg class='icon xr-icon-database'><use xlink:href='#icon-database'></use></svg></label><div class='xr-array-preview xr-preview'><span>nan nan nan nan nan nan nan nan ... nan nan nan nan nan nan nan nan</span></div><div class='xr-array-data'><pre>array([[[nan, nan, nan, ..., nan, nan, nan],\n",
              "        [nan, nan, nan, ..., nan, nan, nan],\n",
              "        [nan, nan, nan, ..., nan, nan, nan],\n",
              "        ...,\n",
              "        [nan, nan, nan, ..., nan, nan, nan],\n",
              "        [nan, nan, nan, ..., nan, nan, nan],\n",
              "        [nan, nan, nan, ..., nan, nan, nan]],\n",
              "\n",
              "       [[nan, nan, nan, ..., nan, nan, nan],\n",
              "        [nan, nan, nan, ..., nan, nan, nan],\n",
              "        [nan, nan, nan, ..., nan, nan, nan],\n",
              "        ...,\n",
              "        [nan, nan, nan, ..., nan, nan, nan],\n",
              "        [nan, nan, nan, ..., nan, nan, nan],\n",
              "        [nan, nan, nan, ..., nan, nan, nan]],\n",
              "\n",
              "       [[nan, nan, nan, ..., nan, nan, nan],\n",
              "        [nan, nan, nan, ..., nan, nan, nan],\n",
              "        [nan, nan, nan, ..., nan, nan, nan],\n",
              "        ...,\n",
              "...\n",
              "        ...,\n",
              "        [nan, nan, nan, ..., nan, nan, nan],\n",
              "        [nan, nan, nan, ..., nan, nan, nan],\n",
              "        [nan, nan, nan, ..., nan, nan, nan]],\n",
              "\n",
              "       [[nan, nan, nan, ..., nan, nan, nan],\n",
              "        [nan, nan, nan, ..., nan, nan, nan],\n",
              "        [nan, nan, nan, ..., nan, nan, nan],\n",
              "        ...,\n",
              "        [nan, nan, nan, ..., nan, nan, nan],\n",
              "        [nan, nan, nan, ..., nan, nan, nan],\n",
              "        [nan, nan, nan, ..., nan, nan, nan]],\n",
              "\n",
              "       [[nan, nan, nan, ..., nan, nan, nan],\n",
              "        [nan, nan, nan, ..., nan, nan, nan],\n",
              "        [nan, nan, nan, ..., nan, nan, nan],\n",
              "        ...,\n",
              "        [nan, nan, nan, ..., nan, nan, nan],\n",
              "        [nan, nan, nan, ..., nan, nan, nan],\n",
              "        [nan, nan, nan, ..., nan, nan, nan]]], dtype=float32)</pre></div></div></li><li class='xr-section-item'><input id='section-250b133e-fefc-4473-9010-c594895a8b51' class='xr-section-summary-in' type='checkbox'  checked><label for='section-250b133e-fefc-4473-9010-c594895a8b51' class='xr-section-summary' >Coordinates: <span>(4)</span></label><div class='xr-section-inline-details'></div><div class='xr-section-details'><ul class='xr-var-list'><li class='xr-var-item'><div class='xr-var-name'><span class='xr-has-index'>x</span></div><div class='xr-var-dims'>(x)</div><div class='xr-var-dtype'>float64</div><div class='xr-var-preview xr-preview'>7.926e+05 7.926e+05 ... 8.113e+05</div><input id='attrs-cdebd663-5181-4b73-90c2-b1e434c8ad6c' class='xr-var-attrs-in' type='checkbox' disabled><label for='attrs-cdebd663-5181-4b73-90c2-b1e434c8ad6c' title='Show/Hide attributes'><svg class='icon xr-icon-file-text2'><use xlink:href='#icon-file-text2'></use></svg></label><input id='data-43516fde-bbdb-47b3-9f61-dbfcfdd41e96' class='xr-var-data-in' type='checkbox'><label for='data-43516fde-bbdb-47b3-9f61-dbfcfdd41e96' title='Show/Hide data repr'><svg class='icon xr-icon-database'><use xlink:href='#icon-database'></use></svg></label><div class='xr-var-attrs'><dl class='xr-attrs'></dl></div><div class='xr-var-data'><pre>array([792568.062907, 792598.062907, 792628.062907, ..., 811198.062907,\n",
              "       811228.062907, 811258.062907])</pre></div></li><li class='xr-var-item'><div class='xr-var-name'><span class='xr-has-index'>y</span></div><div class='xr-var-dims'>(y)</div><div class='xr-var-dtype'>float64</div><div class='xr-var-preview xr-preview'>3.304e+06 3.304e+06 ... 3.287e+06</div><input id='attrs-34128e35-2a97-494e-9a49-830ceded9fd7' class='xr-var-attrs-in' type='checkbox' disabled><label for='attrs-34128e35-2a97-494e-9a49-830ceded9fd7' title='Show/Hide attributes'><svg class='icon xr-icon-file-text2'><use xlink:href='#icon-file-text2'></use></svg></label><input id='data-44bd0c3f-b73c-40af-9035-f727e713cc17' class='xr-var-data-in' type='checkbox'><label for='data-44bd0c3f-b73c-40af-9035-f727e713cc17' title='Show/Hide data repr'><svg class='icon xr-icon-database'><use xlink:href='#icon-database'></use></svg></label><div class='xr-var-attrs'><dl class='xr-attrs'></dl></div><div class='xr-var-data'><pre>array([3303783.495888, 3303753.495888, 3303723.495888, ..., 3287193.495888,\n",
              "       3287163.495888, 3287133.495888])</pre></div></li><li class='xr-var-item'><div class='xr-var-name'><span class='xr-has-index'>band</span></div><div class='xr-var-dims'>(band)</div><div class='xr-var-dtype'>int64</div><div class='xr-var-preview xr-preview'>1 2 3 4 5 6 7 9 10 11</div><input id='attrs-f7ce98d0-08d2-43b5-bed1-998fe8cdb0ea' class='xr-var-attrs-in' type='checkbox' disabled><label for='attrs-f7ce98d0-08d2-43b5-bed1-998fe8cdb0ea' title='Show/Hide attributes'><svg class='icon xr-icon-file-text2'><use xlink:href='#icon-file-text2'></use></svg></label><input id='data-9eddc628-3fac-4a81-a979-3b59f8c3da23' class='xr-var-data-in' type='checkbox'><label for='data-9eddc628-3fac-4a81-a979-3b59f8c3da23' title='Show/Hide data repr'><svg class='icon xr-icon-database'><use xlink:href='#icon-database'></use></svg></label><div class='xr-var-attrs'><dl class='xr-attrs'></dl></div><div class='xr-var-data'><pre>array([ 1,  2,  3,  4,  5,  6,  7,  9, 10, 11])</pre></div></li><li class='xr-var-item'><div class='xr-var-name'><span>spatial_ref</span></div><div class='xr-var-dims'>()</div><div class='xr-var-dtype'>int64</div><div class='xr-var-preview xr-preview'>0</div><input id='attrs-7ad56920-866d-4f01-92f0-83e286cb058d' class='xr-var-attrs-in' type='checkbox' ><label for='attrs-7ad56920-866d-4f01-92f0-83e286cb058d' title='Show/Hide attributes'><svg class='icon xr-icon-file-text2'><use xlink:href='#icon-file-text2'></use></svg></label><input id='data-5e761429-9999-4197-a891-2dc1bc6d03a8' class='xr-var-data-in' type='checkbox'><label for='data-5e761429-9999-4197-a891-2dc1bc6d03a8' title='Show/Hide data repr'><svg class='icon xr-icon-database'><use xlink:href='#icon-database'></use></svg></label><div class='xr-var-attrs'><dl class='xr-attrs'><dt><span>crs_wkt :</span></dt><dd>PROJCS[&quot;WGS 84 / UTM zone 15N&quot;,GEOGCS[&quot;WGS 84&quot;,DATUM[&quot;WGS_1984&quot;,SPHEROID[&quot;WGS 84&quot;,6378137,298.257223563,AUTHORITY[&quot;EPSG&quot;,&quot;7030&quot;]],AUTHORITY[&quot;EPSG&quot;,&quot;6326&quot;]],PRIMEM[&quot;Greenwich&quot;,0,AUTHORITY[&quot;EPSG&quot;,&quot;8901&quot;]],UNIT[&quot;degree&quot;,0.0174532925199433,AUTHORITY[&quot;EPSG&quot;,&quot;9122&quot;]],AUTHORITY[&quot;EPSG&quot;,&quot;4326&quot;]],PROJECTION[&quot;Transverse_Mercator&quot;],PARAMETER[&quot;latitude_of_origin&quot;,0],PARAMETER[&quot;central_meridian&quot;,-93],PARAMETER[&quot;scale_factor&quot;,0.9996],PARAMETER[&quot;false_easting&quot;,500000],PARAMETER[&quot;false_northing&quot;,0],UNIT[&quot;metre&quot;,1,AUTHORITY[&quot;EPSG&quot;,&quot;9001&quot;]],AXIS[&quot;Easting&quot;,EAST],AXIS[&quot;Northing&quot;,NORTH],AUTHORITY[&quot;EPSG&quot;,&quot;32615&quot;]]</dd><dt><span>semi_major_axis :</span></dt><dd>6378137.0</dd><dt><span>semi_minor_axis :</span></dt><dd>6356752.314245179</dd><dt><span>inverse_flattening :</span></dt><dd>298.257223563</dd><dt><span>reference_ellipsoid_name :</span></dt><dd>WGS 84</dd><dt><span>longitude_of_prime_meridian :</span></dt><dd>0.0</dd><dt><span>prime_meridian_name :</span></dt><dd>Greenwich</dd><dt><span>geographic_crs_name :</span></dt><dd>WGS 84</dd><dt><span>horizontal_datum_name :</span></dt><dd>World Geodetic System 1984</dd><dt><span>projected_crs_name :</span></dt><dd>WGS 84 / UTM zone 15N</dd><dt><span>grid_mapping_name :</span></dt><dd>transverse_mercator</dd><dt><span>latitude_of_projection_origin :</span></dt><dd>0.0</dd><dt><span>longitude_of_central_meridian :</span></dt><dd>-93.0</dd><dt><span>false_easting :</span></dt><dd>500000.0</dd><dt><span>false_northing :</span></dt><dd>0.0</dd><dt><span>scale_factor_at_central_meridian :</span></dt><dd>0.9996</dd><dt><span>spatial_ref :</span></dt><dd>PROJCS[&quot;WGS 84 / UTM zone 15N&quot;,GEOGCS[&quot;WGS 84&quot;,DATUM[&quot;WGS_1984&quot;,SPHEROID[&quot;WGS 84&quot;,6378137,298.257223563,AUTHORITY[&quot;EPSG&quot;,&quot;7030&quot;]],AUTHORITY[&quot;EPSG&quot;,&quot;6326&quot;]],PRIMEM[&quot;Greenwich&quot;,0,AUTHORITY[&quot;EPSG&quot;,&quot;8901&quot;]],UNIT[&quot;degree&quot;,0.0174532925199433,AUTHORITY[&quot;EPSG&quot;,&quot;9122&quot;]],AUTHORITY[&quot;EPSG&quot;,&quot;4326&quot;]],PROJECTION[&quot;Transverse_Mercator&quot;],PARAMETER[&quot;latitude_of_origin&quot;,0],PARAMETER[&quot;central_meridian&quot;,-93],PARAMETER[&quot;scale_factor&quot;,0.9996],PARAMETER[&quot;false_easting&quot;,500000],PARAMETER[&quot;false_northing&quot;,0],UNIT[&quot;metre&quot;,1,AUTHORITY[&quot;EPSG&quot;,&quot;9001&quot;]],AXIS[&quot;Easting&quot;,EAST],AXIS[&quot;Northing&quot;,NORTH],AUTHORITY[&quot;EPSG&quot;,&quot;32615&quot;]]</dd><dt><span>GeoTransform :</span></dt><dd>792553.0629070471 30.0 0.0 3303798.495888292 0.0 -30.0</dd></dl></div><div class='xr-var-data'><pre>array(0)</pre></div></li></ul></div></li><li class='xr-section-item'><input id='section-cb7d88d8-1c48-4624-8e44-ddbe2f51fd2b' class='xr-section-summary-in' type='checkbox'  ><label for='section-cb7d88d8-1c48-4624-8e44-ddbe2f51fd2b' class='xr-section-summary' >Indexes: <span>(3)</span></label><div class='xr-section-inline-details'></div><div class='xr-section-details'><ul class='xr-var-list'><li class='xr-var-item'><div class='xr-index-name'><div>x</div></div><div class='xr-index-preview'>PandasIndex</div><div></div><input id='index-11e0333a-4056-45f2-afd0-0282d1ec7bcf' class='xr-index-data-in' type='checkbox'/><label for='index-11e0333a-4056-45f2-afd0-0282d1ec7bcf' title='Show/Hide index repr'><svg class='icon xr-icon-database'><use xlink:href='#icon-database'></use></svg></label><div class='xr-index-data'><pre>PandasIndex(Index([792568.0629070471, 792598.0629070471, 792628.0629070471,\n",
              "       792658.0629070471, 792688.0629070471, 792718.0629070471,\n",
              "       792748.0629070471, 792778.0629070471, 792808.0629070471,\n",
              "       792838.0629070471,\n",
              "       ...\n",
              "       810988.0629070471, 811018.0629070471, 811048.0629070471,\n",
              "       811078.0629070471, 811108.0629070471, 811138.0629070471,\n",
              "       811168.0629070471, 811198.0629070471, 811228.0629070471,\n",
              "       811258.0629070471],\n",
              "      dtype=&#x27;float64&#x27;, name=&#x27;x&#x27;, length=624))</pre></div></li><li class='xr-var-item'><div class='xr-index-name'><div>y</div></div><div class='xr-index-preview'>PandasIndex</div><div></div><input id='index-7ed8af59-3931-4723-905f-e72335f4e74c' class='xr-index-data-in' type='checkbox'/><label for='index-7ed8af59-3931-4723-905f-e72335f4e74c' title='Show/Hide index repr'><svg class='icon xr-icon-database'><use xlink:href='#icon-database'></use></svg></label><div class='xr-index-data'><pre>PandasIndex(Index([3303783.495888292, 3303753.495888292, 3303723.495888292,\n",
              "       3303693.495888292, 3303663.495888292, 3303633.495888292,\n",
              "       3303603.495888292, 3303573.495888292, 3303543.495888292,\n",
              "       3303513.495888292,\n",
              "       ...\n",
              "       3287403.495888292, 3287373.495888292, 3287343.495888292,\n",
              "       3287313.495888292, 3287283.495888292, 3287253.495888292,\n",
              "       3287223.495888292, 3287193.495888292, 3287163.495888292,\n",
              "       3287133.495888292],\n",
              "      dtype=&#x27;float64&#x27;, name=&#x27;y&#x27;, length=556))</pre></div></li><li class='xr-var-item'><div class='xr-index-name'><div>band</div></div><div class='xr-index-preview'>PandasIndex</div><div></div><input id='index-1b38b520-f939-4086-8aca-eafc11d8aae5' class='xr-index-data-in' type='checkbox'/><label for='index-1b38b520-f939-4086-8aca-eafc11d8aae5' title='Show/Hide index repr'><svg class='icon xr-icon-database'><use xlink:href='#icon-database'></use></svg></label><div class='xr-index-data'><pre>PandasIndex(Index([1, 2, 3, 4, 5, 6, 7, 9, 10, 11], dtype=&#x27;int64&#x27;, name=&#x27;band&#x27;))</pre></div></li></ul></div></li><li class='xr-section-item'><input id='section-5480a834-40c9-4215-94a4-ae364361120a' class='xr-section-summary-in' type='checkbox' disabled ><label for='section-5480a834-40c9-4215-94a4-ae364361120a' class='xr-section-summary'  title='Expand/collapse section'>Attributes: <span>(0)</span></label><div class='xr-section-inline-details'></div><div class='xr-section-details'><dl class='xr-attrs'></dl></div></li></ul></div></div>"
            ],
            "text/plain": [
              "<xarray.DataArray 'reflectance' (band: 10, y: 556, x: 624)> Size: 14MB\n",
              "array([[[nan, nan, nan, ..., nan, nan, nan],\n",
              "        [nan, nan, nan, ..., nan, nan, nan],\n",
              "        [nan, nan, nan, ..., nan, nan, nan],\n",
              "        ...,\n",
              "        [nan, nan, nan, ..., nan, nan, nan],\n",
              "        [nan, nan, nan, ..., nan, nan, nan],\n",
              "        [nan, nan, nan, ..., nan, nan, nan]],\n",
              "\n",
              "       [[nan, nan, nan, ..., nan, nan, nan],\n",
              "        [nan, nan, nan, ..., nan, nan, nan],\n",
              "        [nan, nan, nan, ..., nan, nan, nan],\n",
              "        ...,\n",
              "        [nan, nan, nan, ..., nan, nan, nan],\n",
              "        [nan, nan, nan, ..., nan, nan, nan],\n",
              "        [nan, nan, nan, ..., nan, nan, nan]],\n",
              "\n",
              "       [[nan, nan, nan, ..., nan, nan, nan],\n",
              "        [nan, nan, nan, ..., nan, nan, nan],\n",
              "        [nan, nan, nan, ..., nan, nan, nan],\n",
              "        ...,\n",
              "...\n",
              "        ...,\n",
              "        [nan, nan, nan, ..., nan, nan, nan],\n",
              "        [nan, nan, nan, ..., nan, nan, nan],\n",
              "        [nan, nan, nan, ..., nan, nan, nan]],\n",
              "\n",
              "       [[nan, nan, nan, ..., nan, nan, nan],\n",
              "        [nan, nan, nan, ..., nan, nan, nan],\n",
              "        [nan, nan, nan, ..., nan, nan, nan],\n",
              "        ...,\n",
              "        [nan, nan, nan, ..., nan, nan, nan],\n",
              "        [nan, nan, nan, ..., nan, nan, nan],\n",
              "        [nan, nan, nan, ..., nan, nan, nan]],\n",
              "\n",
              "       [[nan, nan, nan, ..., nan, nan, nan],\n",
              "        [nan, nan, nan, ..., nan, nan, nan],\n",
              "        [nan, nan, nan, ..., nan, nan, nan],\n",
              "        ...,\n",
              "        [nan, nan, nan, ..., nan, nan, nan],\n",
              "        [nan, nan, nan, ..., nan, nan, nan],\n",
              "        [nan, nan, nan, ..., nan, nan, nan]]], dtype=float32)\n",
              "Coordinates:\n",
              "  * x            (x) float64 5kB 7.926e+05 7.926e+05 ... 8.112e+05 8.113e+05\n",
              "  * y            (y) float64 4kB 3.304e+06 3.304e+06 ... 3.287e+06 3.287e+06\n",
              "  * band         (band) int64 80B 1 2 3 4 5 6 7 9 10 11\n",
              "    spatial_ref  int64 8B 0"
            ]
          },
          "execution_count": 40,
          "metadata": {},
          "output_type": "execute_result"
        }
      ],
      "source": [
        "@cached('delta_reflectance_da')\n",
        "def merge_and_composite_arrays(granule_da_df):\n",
        "    # Merge and composite and image for each band\n",
        "    da_list = []\n",
        "    for band, band_df in tqdm(granule_da_df.groupby('band')):\n",
        "        merged_das = []\n",
        "        for datetime, date_df in tqdm(band_df.groupby('datetime')):\n",
        "            # Merge granules for each date\n",
        "            merged_da = rxrmerge.merge_arrays(list(date_df.da))\n",
        "            # Mask negative values\n",
        "            merged_da = merged_da.where(merged_da>0)\n",
        "            merged_das.append(merged_da)\n",
        "            \n",
        "        # Composite images across dates\n",
        "        composite_da = xr.concat(merged_das, dim='datetime').median('datetime')\n",
        "        composite_da['band'] = int(band[1:])\n",
        "        composite_da.name = 'reflectance'\n",
        "        da_list.append(composite_da)\n",
        "        \n",
        "    return xr.concat(da_list, dim='band')\n",
        "\n",
        "reflectance_da = merge_and_composite_arrays(reflectance_da_df)\n",
        "reflectance_da"
      ]
    },
    {
      "cell_type": "markdown",
      "id": "3d4088b9-6768-4742-90c6-f6d16254db94",
      "metadata": {},
      "source": [
        "## STEP 4: K-MEANS\n",
        "\n",
        "Cluster your data by spectral signature using the k-means algorithm.\n",
        "\n",
        "<link rel=\"stylesheet\" type=\"text/css\" href=\"./assets/styles.css\"><div class=\"callout callout-style-default callout-titled callout-task\"><div class=\"callout-header\"><div class=\"callout-icon-container\"><i class=\"callout-icon\"></i></div><div class=\"callout-title-container flex-fill\">Try It</div></div><div class=\"callout-body-container callout-body\"><ol type=\"1\">\n",
        "<li>Convert your DataArray into a <strong>tidy</strong> DataFrame of\n",
        "reflectance values (hint: check out the <code>.to_dataframe()</code> and\n",
        "<code>.unstack()</code> methods)</li>\n",
        "<li>Filter out all rows with no data (all 0s or any N/A values)</li>\n",
        "<li>Fit a k-means model. You can experiment with the number of groups to\n",
        "find what works best.</li>\n",
        "</ol></div></div>"
      ]
    },
    {
      "cell_type": "code",
      "execution_count": 41,
      "id": "7d028644",
      "metadata": {},
      "outputs": [
        {
          "name": "stdout",
          "output_type": "stream",
          "text": [
            "band               y              x   1   2   3   4   5   6   7   9  10  11\n",
            "0       3.287133e+06  792568.062907 NaN NaN NaN NaN NaN NaN NaN NaN NaN NaN\n",
            "1       3.287133e+06  792598.062907 NaN NaN NaN NaN NaN NaN NaN NaN NaN NaN\n",
            "2       3.287133e+06  792628.062907 NaN NaN NaN NaN NaN NaN NaN NaN NaN NaN\n",
            "3       3.287133e+06  792658.062907 NaN NaN NaN NaN NaN NaN NaN NaN NaN NaN\n",
            "4       3.287133e+06  792688.062907 NaN NaN NaN NaN NaN NaN NaN NaN NaN NaN\n",
            "...              ...            ...  ..  ..  ..  ..  ..  ..  ..  ..  ..  ..\n",
            "346939  3.303783e+06  811138.062907 NaN NaN NaN NaN NaN NaN NaN NaN NaN NaN\n",
            "346940  3.303783e+06  811168.062907 NaN NaN NaN NaN NaN NaN NaN NaN NaN NaN\n",
            "346941  3.303783e+06  811198.062907 NaN NaN NaN NaN NaN NaN NaN NaN NaN NaN\n",
            "346942  3.303783e+06  811228.062907 NaN NaN NaN NaN NaN NaN NaN NaN NaN NaN\n",
            "346943  3.303783e+06  811258.062907 NaN NaN NaN NaN NaN NaN NaN NaN NaN NaN\n",
            "\n",
            "[346944 rows x 12 columns]\n"
          ]
        }
      ],
      "source": [
        "# Convert spectral DataArray to a tidy DataFrame\n",
        "    # Steps:\n",
        "\n",
        "    # Flatten the DataArray so that each pixel's value is a row.\n",
        "    # Extract coordinates (e.g., longitude, latitude, time).\n",
        "    # Reshape the data so each band becomes a column.\n",
        "    # Convert to a pandas DataFrame.\n",
        "reflectance_df = (\n",
        "    reflectance_da.to_dataframe()  # Convert to long format\n",
        "    .reset_index()  # Convert index (band, x, y) into columns\n",
        "    .pivot(index=[\"y\", \"x\"], columns=\"band\", values=\"reflectance\")  # Make bands columns\n",
        "    .reset_index()  # Flatten DataFrame\n",
        ")\n",
        "\n",
        "# Display the final tidy DataFrame\n",
        "print(reflectance_df)\n"
      ]
    },
    {
      "cell_type": "code",
      "execution_count": 47,
      "id": "1380d9b6",
      "metadata": {
        "highlight": true
      },
      "outputs": [],
      "source": [
        "# Drop columns 10-11 and drop Nan\n",
        "reflectance_df = reflectance_df.drop(columns=[10, 11], axis=1)\n",
        "\n",
        "# Drop rows with NaN values\n",
        "reflectance_df = reflectance_df.dropna()\n",
        "\n",
        "# Step 3: Select reflectance bands as features (assuming all are numeric)\n",
        "# Running the fit and predict functions at the same time for a k means model.\n",
        "\n",
        "\n",
        "# We can do this since we don't have target data.\n",
        "\n",
        "# Add the predicted values back to the model DataFrame"
      ]
    },
    {
      "cell_type": "code",
      "execution_count": 49,
      "id": "618b0096",
      "metadata": {},
      "outputs": [
        {
          "data": {
            "text/html": [
              "<div>\n",
              "<style scoped>\n",
              "    .dataframe tbody tr th:only-of-type {\n",
              "        vertical-align: middle;\n",
              "    }\n",
              "\n",
              "    .dataframe tbody tr th {\n",
              "        vertical-align: top;\n",
              "    }\n",
              "\n",
              "    .dataframe thead th {\n",
              "        text-align: right;\n",
              "    }\n",
              "</style>\n",
              "<table border=\"1\" class=\"dataframe\">\n",
              "  <thead>\n",
              "    <tr style=\"text-align: right;\">\n",
              "      <th>band</th>\n",
              "      <th>y</th>\n",
              "      <th>x</th>\n",
              "      <th>1</th>\n",
              "      <th>2</th>\n",
              "      <th>3</th>\n",
              "      <th>4</th>\n",
              "      <th>5</th>\n",
              "      <th>6</th>\n",
              "      <th>7</th>\n",
              "      <th>9</th>\n",
              "    </tr>\n",
              "  </thead>\n",
              "  <tbody>\n",
              "    <tr>\n",
              "      <th>652</th>\n",
              "      <td>3.287163e+06</td>\n",
              "      <td>793408.062907</td>\n",
              "      <td>0.10925</td>\n",
              "      <td>0.12385</td>\n",
              "      <td>0.15725</td>\n",
              "      <td>0.1732</td>\n",
              "      <td>0.2619</td>\n",
              "      <td>0.3032</td>\n",
              "      <td>0.23455</td>\n",
              "      <td>0.0008</td>\n",
              "    </tr>\n",
              "    <tr>\n",
              "      <th>653</th>\n",
              "      <td>3.287163e+06</td>\n",
              "      <td>793438.062907</td>\n",
              "      <td>0.06450</td>\n",
              "      <td>0.07770</td>\n",
              "      <td>0.11550</td>\n",
              "      <td>0.1197</td>\n",
              "      <td>0.3143</td>\n",
              "      <td>0.2520</td>\n",
              "      <td>0.16320</td>\n",
              "      <td>0.0007</td>\n",
              "    </tr>\n",
              "    <tr>\n",
              "      <th>654</th>\n",
              "      <td>3.287163e+06</td>\n",
              "      <td>793468.062907</td>\n",
              "      <td>0.04490</td>\n",
              "      <td>0.05270</td>\n",
              "      <td>0.08980</td>\n",
              "      <td>0.0755</td>\n",
              "      <td>0.3683</td>\n",
              "      <td>0.2465</td>\n",
              "      <td>0.13120</td>\n",
              "      <td>0.0008</td>\n",
              "    </tr>\n",
              "    <tr>\n",
              "      <th>655</th>\n",
              "      <td>3.287163e+06</td>\n",
              "      <td>793498.062907</td>\n",
              "      <td>0.03170</td>\n",
              "      <td>0.03980</td>\n",
              "      <td>0.08020</td>\n",
              "      <td>0.0563</td>\n",
              "      <td>0.4140</td>\n",
              "      <td>0.2283</td>\n",
              "      <td>0.11100</td>\n",
              "      <td>0.0009</td>\n",
              "    </tr>\n",
              "    <tr>\n",
              "      <th>656</th>\n",
              "      <td>3.287163e+06</td>\n",
              "      <td>793528.062907</td>\n",
              "      <td>0.02220</td>\n",
              "      <td>0.02540</td>\n",
              "      <td>0.05820</td>\n",
              "      <td>0.0285</td>\n",
              "      <td>0.4374</td>\n",
              "      <td>0.1498</td>\n",
              "      <td>0.05520</td>\n",
              "      <td>0.0009</td>\n",
              "    </tr>\n",
              "    <tr>\n",
              "      <th>...</th>\n",
              "      <td>...</td>\n",
              "      <td>...</td>\n",
              "      <td>...</td>\n",
              "      <td>...</td>\n",
              "      <td>...</td>\n",
              "      <td>...</td>\n",
              "      <td>...</td>\n",
              "      <td>...</td>\n",
              "      <td>...</td>\n",
              "      <td>...</td>\n",
              "    </tr>\n",
              "    <tr>\n",
              "      <th>346910</th>\n",
              "      <td>3.303783e+06</td>\n",
              "      <td>810268.062907</td>\n",
              "      <td>0.01815</td>\n",
              "      <td>0.02450</td>\n",
              "      <td>0.04370</td>\n",
              "      <td>0.0444</td>\n",
              "      <td>0.0618</td>\n",
              "      <td>0.0397</td>\n",
              "      <td>0.02590</td>\n",
              "      <td>0.0008</td>\n",
              "    </tr>\n",
              "    <tr>\n",
              "      <th>346911</th>\n",
              "      <td>3.303783e+06</td>\n",
              "      <td>810298.062907</td>\n",
              "      <td>0.01785</td>\n",
              "      <td>0.02470</td>\n",
              "      <td>0.04410</td>\n",
              "      <td>0.0450</td>\n",
              "      <td>0.0463</td>\n",
              "      <td>0.0325</td>\n",
              "      <td>0.02330</td>\n",
              "      <td>0.0007</td>\n",
              "    </tr>\n",
              "    <tr>\n",
              "      <th>346912</th>\n",
              "      <td>3.303783e+06</td>\n",
              "      <td>810328.062907</td>\n",
              "      <td>0.01595</td>\n",
              "      <td>0.02470</td>\n",
              "      <td>0.04450</td>\n",
              "      <td>0.0450</td>\n",
              "      <td>0.0492</td>\n",
              "      <td>0.0342</td>\n",
              "      <td>0.02450</td>\n",
              "      <td>0.0008</td>\n",
              "    </tr>\n",
              "    <tr>\n",
              "      <th>346913</th>\n",
              "      <td>3.303783e+06</td>\n",
              "      <td>810358.062907</td>\n",
              "      <td>0.01445</td>\n",
              "      <td>0.02460</td>\n",
              "      <td>0.04320</td>\n",
              "      <td>0.0444</td>\n",
              "      <td>0.0507</td>\n",
              "      <td>0.0343</td>\n",
              "      <td>0.02490</td>\n",
              "      <td>0.0007</td>\n",
              "    </tr>\n",
              "    <tr>\n",
              "      <th>346914</th>\n",
              "      <td>3.303783e+06</td>\n",
              "      <td>810388.062907</td>\n",
              "      <td>0.01490</td>\n",
              "      <td>0.02320</td>\n",
              "      <td>0.04170</td>\n",
              "      <td>0.0435</td>\n",
              "      <td>0.0487</td>\n",
              "      <td>0.0327</td>\n",
              "      <td>0.02590</td>\n",
              "      <td>0.0006</td>\n",
              "    </tr>\n",
              "  </tbody>\n",
              "</table>\n",
              "<p>318248 rows × 10 columns</p>\n",
              "</div>"
            ],
            "text/plain": [
              "band               y              x        1        2        3       4  \\\n",
              "652     3.287163e+06  793408.062907  0.10925  0.12385  0.15725  0.1732   \n",
              "653     3.287163e+06  793438.062907  0.06450  0.07770  0.11550  0.1197   \n",
              "654     3.287163e+06  793468.062907  0.04490  0.05270  0.08980  0.0755   \n",
              "655     3.287163e+06  793498.062907  0.03170  0.03980  0.08020  0.0563   \n",
              "656     3.287163e+06  793528.062907  0.02220  0.02540  0.05820  0.0285   \n",
              "...              ...            ...      ...      ...      ...     ...   \n",
              "346910  3.303783e+06  810268.062907  0.01815  0.02450  0.04370  0.0444   \n",
              "346911  3.303783e+06  810298.062907  0.01785  0.02470  0.04410  0.0450   \n",
              "346912  3.303783e+06  810328.062907  0.01595  0.02470  0.04450  0.0450   \n",
              "346913  3.303783e+06  810358.062907  0.01445  0.02460  0.04320  0.0444   \n",
              "346914  3.303783e+06  810388.062907  0.01490  0.02320  0.04170  0.0435   \n",
              "\n",
              "band         5       6        7       9  \n",
              "652     0.2619  0.3032  0.23455  0.0008  \n",
              "653     0.3143  0.2520  0.16320  0.0007  \n",
              "654     0.3683  0.2465  0.13120  0.0008  \n",
              "655     0.4140  0.2283  0.11100  0.0009  \n",
              "656     0.4374  0.1498  0.05520  0.0009  \n",
              "...        ...     ...      ...     ...  \n",
              "346910  0.0618  0.0397  0.02590  0.0008  \n",
              "346911  0.0463  0.0325  0.02330  0.0007  \n",
              "346912  0.0492  0.0342  0.02450  0.0008  \n",
              "346913  0.0507  0.0343  0.02490  0.0007  \n",
              "346914  0.0487  0.0327  0.02590  0.0006  \n",
              "\n",
              "[318248 rows x 10 columns]"
            ]
          },
          "execution_count": 49,
          "metadata": {},
          "output_type": "execute_result"
        }
      ],
      "source": [
        "reflectance_df"
      ]
    },
    {
      "cell_type": "code",
      "execution_count": null,
      "id": "c300a279",
      "metadata": {},
      "outputs": [],
      "source": [
        "# double check the data\n",
        "min_values = model_df.min()\n",
        "max_values - model_df.max()\n",
        "\n",
        "print(min_values)\n",
        "print(max_values)"
      ]
    },
    {
      "cell_type": "markdown",
      "id": "6417c5c9-b68e-4a7c-824a-2d1bb1aaaae5",
      "metadata": {},
      "source": [
        "## STEP 5: PLOT\n",
        "\n",
        "<link rel=\"stylesheet\" type=\"text/css\" href=\"./assets/styles.css\"><div class=\"callout callout-style-default callout-titled callout-task\"><div class=\"callout-header\"><div class=\"callout-icon-container\"><i class=\"callout-icon\"></i></div><div class=\"callout-title-container flex-fill\">Try It</div></div><div class=\"callout-body-container callout-body\"><p>Create a plot that shows the k-means clusters next to an RGB image of\n",
        "the area. You may need to brighten your RGB image by multiplying it by\n",
        "10. The code for reshaping and plotting the clusters is provided for you\n",
        "below, but you will have to create the RGB plot yourself!</p>\n",
        "<p>So, what is <code>.sortby(['x', 'y'])</code> doing for us? Try the\n",
        "code without it and find out.</p></div></div>"
      ]
    },
    {
      "cell_type": "code",
      "execution_count": null,
      "id": "bd7c1bb4",
      "metadata": {},
      "outputs": [],
      "source": [
        "# Make and array with just RGB\n",
        "\n",
        "# Plot it"
      ]
    },
    {
      "cell_type": "code",
      "execution_count": null,
      "id": "3e8279a6",
      "metadata": {},
      "outputs": [],
      "source": [
        "# Initialize\n",
        "\n",
        "k_means ="
      ]
    },
    {
      "cell_type": "code",
      "execution_count": null,
      "id": "aaac50d5",
      "metadata": {},
      "outputs": [],
      "source": [
        "# Fit the model\n",
        "\n",
        "prediction"
      ]
    },
    {
      "cell_type": "code",
      "execution_count": null,
      "id": "c57f3f4e",
      "metadata": {},
      "outputs": [],
      "source": [
        "# Add the cluster label"
      ]
    },
    {
      "cell_type": "code",
      "execution_count": 15,
      "id": "b9e7ac5f",
      "metadata": {
        "highlight": true
      },
      "outputs": [],
      "source": [
        "# Plot the k-means clusters\n",
        "(\n",
        "    rgb_plot\n",
        "    + \n",
        "    model_df.clusters.to_xarray().sortby(['x', 'y']).hvplot(\n",
        "        cmap=\"Colorblind\", aspect='equal') \n",
        ")"
      ]
    },
    {
      "cell_type": "markdown",
      "id": "1f764ccf-d111-4f47-bcea-8c10a7cac441",
      "metadata": {},
      "source": [
        "<link rel=\"stylesheet\" type=\"text/css\" href=\"./assets/styles.css\"><div class=\"callout callout-style-default callout-titled callout-respond\"><div class=\"callout-header\"><div class=\"callout-icon-container\"><i class=\"callout-icon\"></i></div><div class=\"callout-title-container flex-fill\">Reflect and Respond</div></div><div class=\"callout-body-container callout-body\"><p>Don’t forget to interpret your plot!</p></div></div>"
      ]
    },
    {
      "cell_type": "markdown",
      "id": "4efe872d-a8ab-46bd-816f-fc5194b777a5",
      "metadata": {},
      "source": [
        "**YOUR PLOT HEADLINE AND DESCRIPTION HERE**"
      ]
    }
  ],
  "metadata": {
    "kernelspec": {
      "display_name": "earth-analytics-python",
      "language": "python",
      "name": "python3"
    },
    "language_info": {
      "codemirror_mode": {
        "name": "ipython",
        "version": 3
      },
      "file_extension": ".py",
      "mimetype": "text/x-python",
      "name": "python",
      "nbconvert_exporter": "python",
      "pygments_lexer": "ipython3",
      "version": "3.11.10"
    }
  },
  "nbformat": 4,
  "nbformat_minor": 5
}
